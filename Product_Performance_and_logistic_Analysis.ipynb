{
 "cells": [
  {
   "cell_type": "code",
   "execution_count": 1,
   "metadata": {},
   "outputs": [],
   "source": [
    "# Required libraries\n",
    "import pandas as pd  # Data manipulation and analysis\n",
    "import matplotlib.pyplot as plt  # Data visualization\n",
    "import seaborn as sns\n",
    "import plotly.express as px\n",
    "# Load data assuming CSV files are in the same directory\n",
    "distribution_centers = pd.read_csv(\"./data/distribution_centers.csv\")\n",
    "events = pd.read_csv(\"./data/events.csv\")\n",
    "inventory_items = pd.read_csv(\"./data/inventory_items.csv\")\n",
    "order_items = pd.read_csv(\"./data/order_items.csv\")\n",
    "orders = pd.read_csv(\"./data/orders.csv\")\n",
    "products = pd.read_csv(\"./data/products.csv\")\n",
    "users = pd.read_csv(\"./data/users.csv\")\n",
    "\n"
   ]
  },
  {
   "cell_type": "code",
   "execution_count": 2,
   "metadata": {},
   "outputs": [
    {
     "data": {
      "text/html": [
       "<div>\n",
       "<style scoped>\n",
       "    .dataframe tbody tr th:only-of-type {\n",
       "        vertical-align: middle;\n",
       "    }\n",
       "\n",
       "    .dataframe tbody tr th {\n",
       "        vertical-align: top;\n",
       "    }\n",
       "\n",
       "    .dataframe thead th {\n",
       "        text-align: right;\n",
       "    }\n",
       "</style>\n",
       "<table border=\"1\" class=\"dataframe\">\n",
       "  <thead>\n",
       "    <tr style=\"text-align: right;\">\n",
       "      <th></th>\n",
       "      <th>id</th>\n",
       "      <th>cost</th>\n",
       "      <th>category</th>\n",
       "      <th>name</th>\n",
       "      <th>brand</th>\n",
       "      <th>retail_price</th>\n",
       "      <th>department</th>\n",
       "      <th>sku</th>\n",
       "      <th>distribution_center_id</th>\n",
       "    </tr>\n",
       "  </thead>\n",
       "  <tbody>\n",
       "    <tr>\n",
       "      <th>0</th>\n",
       "      <td>13842</td>\n",
       "      <td>2.51875</td>\n",
       "      <td>Accessories</td>\n",
       "      <td>Low Profile Dyed Cotton Twill Cap - Navy W39S55D</td>\n",
       "      <td>MG</td>\n",
       "      <td>6.25</td>\n",
       "      <td>Women</td>\n",
       "      <td>EBD58B8A3F1D72F4206201DA62FB1204</td>\n",
       "      <td>1</td>\n",
       "    </tr>\n",
       "    <tr>\n",
       "      <th>1</th>\n",
       "      <td>13928</td>\n",
       "      <td>2.33835</td>\n",
       "      <td>Accessories</td>\n",
       "      <td>Low Profile Dyed Cotton Twill Cap - Putty W39S55D</td>\n",
       "      <td>MG</td>\n",
       "      <td>5.95</td>\n",
       "      <td>Women</td>\n",
       "      <td>2EAC42424D12436BDD6A5B8A88480CC3</td>\n",
       "      <td>1</td>\n",
       "    </tr>\n",
       "    <tr>\n",
       "      <th>2</th>\n",
       "      <td>14115</td>\n",
       "      <td>4.87956</td>\n",
       "      <td>Accessories</td>\n",
       "      <td>Enzyme Regular Solid Army Caps-Black W35S45D</td>\n",
       "      <td>MG</td>\n",
       "      <td>10.99</td>\n",
       "      <td>Women</td>\n",
       "      <td>EE364229B2791D1EF9355708EFF0BA34</td>\n",
       "      <td>1</td>\n",
       "    </tr>\n",
       "    <tr>\n",
       "      <th>3</th>\n",
       "      <td>14157</td>\n",
       "      <td>4.64877</td>\n",
       "      <td>Accessories</td>\n",
       "      <td>Enzyme Regular Solid Army Caps-Olive W35S45D (...</td>\n",
       "      <td>MG</td>\n",
       "      <td>10.99</td>\n",
       "      <td>Women</td>\n",
       "      <td>00BD13095D06C20B11A2993CA419D16B</td>\n",
       "      <td>1</td>\n",
       "    </tr>\n",
       "    <tr>\n",
       "      <th>4</th>\n",
       "      <td>14273</td>\n",
       "      <td>6.50793</td>\n",
       "      <td>Accessories</td>\n",
       "      <td>Washed Canvas Ivy Cap - Black W11S64C</td>\n",
       "      <td>MG</td>\n",
       "      <td>15.99</td>\n",
       "      <td>Women</td>\n",
       "      <td>F531DC20FDE20B7ADF3A73F52B71D0AF</td>\n",
       "      <td>1</td>\n",
       "    </tr>\n",
       "  </tbody>\n",
       "</table>\n",
       "</div>"
      ],
      "text/plain": [
       "      id     cost     category  \\\n",
       "0  13842  2.51875  Accessories   \n",
       "1  13928  2.33835  Accessories   \n",
       "2  14115  4.87956  Accessories   \n",
       "3  14157  4.64877  Accessories   \n",
       "4  14273  6.50793  Accessories   \n",
       "\n",
       "                                                name brand  retail_price  \\\n",
       "0   Low Profile Dyed Cotton Twill Cap - Navy W39S55D    MG          6.25   \n",
       "1  Low Profile Dyed Cotton Twill Cap - Putty W39S55D    MG          5.95   \n",
       "2       Enzyme Regular Solid Army Caps-Black W35S45D    MG         10.99   \n",
       "3  Enzyme Regular Solid Army Caps-Olive W35S45D (...    MG         10.99   \n",
       "4              Washed Canvas Ivy Cap - Black W11S64C    MG         15.99   \n",
       "\n",
       "  department                               sku  distribution_center_id  \n",
       "0      Women  EBD58B8A3F1D72F4206201DA62FB1204                       1  \n",
       "1      Women  2EAC42424D12436BDD6A5B8A88480CC3                       1  \n",
       "2      Women  EE364229B2791D1EF9355708EFF0BA34                       1  \n",
       "3      Women  00BD13095D06C20B11A2993CA419D16B                       1  \n",
       "4      Women  F531DC20FDE20B7ADF3A73F52B71D0AF                       1  "
      ]
     },
     "execution_count": 2,
     "metadata": {},
     "output_type": "execute_result"
    }
   ],
   "source": [
    "products.head()"
   ]
  },
  {
   "cell_type": "code",
   "execution_count": 3,
   "metadata": {},
   "outputs": [
    {
     "name": "stdout",
     "output_type": "stream",
     "text": [
      "<class 'pandas.core.frame.DataFrame'>\n",
      "RangeIndex: 29120 entries, 0 to 29119\n",
      "Data columns (total 9 columns):\n",
      " #   Column                  Non-Null Count  Dtype  \n",
      "---  ------                  --------------  -----  \n",
      " 0   id                      29120 non-null  int64  \n",
      " 1   cost                    29120 non-null  float64\n",
      " 2   category                29120 non-null  object \n",
      " 3   name                    29118 non-null  object \n",
      " 4   brand                   29096 non-null  object \n",
      " 5   retail_price            29120 non-null  float64\n",
      " 6   department              29120 non-null  object \n",
      " 7   sku                     29120 non-null  object \n",
      " 8   distribution_center_id  29120 non-null  int64  \n",
      "dtypes: float64(2), int64(2), object(5)\n",
      "memory usage: 2.0+ MB\n"
     ]
    }
   ],
   "source": [
    "products.info()"
   ]
  },
  {
   "cell_type": "code",
   "execution_count": 4,
   "metadata": {},
   "outputs": [
    {
     "data": {
      "text/plain": [
       "id                         0\n",
       "cost                       0\n",
       "category                   0\n",
       "name                       2\n",
       "brand                     24\n",
       "retail_price               0\n",
       "department                 0\n",
       "sku                        0\n",
       "distribution_center_id     0\n",
       "dtype: int64"
      ]
     },
     "execution_count": 4,
     "metadata": {},
     "output_type": "execute_result"
    }
   ],
   "source": [
    "products.isnull().sum()"
   ]
  },
  {
   "cell_type": "code",
   "execution_count": 5,
   "metadata": {},
   "outputs": [
    {
     "data": {
      "text/plain": [
       "id                        0\n",
       "cost                      0\n",
       "category                  0\n",
       "name                      0\n",
       "brand                     0\n",
       "retail_price              0\n",
       "department                0\n",
       "sku                       0\n",
       "distribution_center_id    0\n",
       "dtype: int64"
      ]
     },
     "execution_count": 5,
     "metadata": {},
     "output_type": "execute_result"
    }
   ],
   "source": [
    "# Drop rows with null values in the \"name\" and \"brand\" columns\n",
    "products = products.dropna(subset=['name', 'brand'])\n",
    "\n",
    "# Check if there are any null values after dropping\n",
    "products.isnull().sum()"
   ]
  },
  {
   "cell_type": "code",
   "execution_count": 6,
   "metadata": {},
   "outputs": [
    {
     "name": "stdout",
     "output_type": "stream",
     "text": [
      "Basic Statistics:\n",
      "                 id          cost  retail_price  distribution_center_id\n",
      "count  29094.000000  29094.000000  29094.000000            29094.000000\n",
      "mean   14558.540764     28.490452     59.239441                4.984773\n",
      "std     8406.897280     30.634308     65.909439                2.901743\n",
      "min        1.000000      0.008300      0.020000                1.000000\n",
      "25%     7276.250000     11.275338     24.000000                2.000000\n",
      "50%    14558.500000     19.688765     39.990002                5.000000\n",
      "75%    21838.750000     34.450375     69.949997                8.000000\n",
      "max    29120.000000    557.151002    999.000000               10.000000\n"
     ]
    }
   ],
   "source": [
    "#Check Basic Statistics\n",
    "basic_stats = products.describe()\n",
    "print(\"Basic Statistics:\")\n",
    "print(basic_stats)"
   ]
  },
  {
   "cell_type": "markdown",
   "metadata": {},
   "source": [
    "# EDA"
   ]
  },
  {
   "cell_type": "markdown",
   "metadata": {},
   "source": [
    "### Distribution of Categories"
   ]
  },
  {
   "cell_type": "code",
   "execution_count": 7,
   "metadata": {},
   "outputs": [
    {
     "data": {
      "application/vnd.plotly.v1+json": {
       "config": {
        "plotlyServerURL": "https://plot.ly"
       },
       "data": [
        {
         "alignmentgroup": "True",
         "hovertemplate": "category=%{x}<br>count=%{y}<extra></extra>",
         "legendgroup": "",
         "marker": {
          "color": "#636efa",
          "pattern": {
           "shape": ""
          }
         },
         "name": "",
         "offsetgroup": "",
         "orientation": "v",
         "showlegend": false,
         "textposition": "auto",
         "type": "bar",
         "x": [
          "Intimates",
          "Jeans",
          "Fashion Hoodies & Sweatshirts",
          "Tops & Tees",
          "Swim",
          "Sleep & Lounge",
          "Shorts",
          "Sweaters",
          "Accessories",
          "Active",
          "Outerwear & Coats",
          "Underwear",
          "Pants",
          "Dresses",
          "Socks",
          "Maternity",
          "Plus",
          "Suits & Sport Coats",
          "Socks & Hosiery",
          "Pants & Capris",
          "Leggings",
          "Blazers & Jackets",
          "Skirts",
          "Suits",
          "Jumpsuits & Rompers",
          "Clothing Sets"
         ],
         "xaxis": "x",
         "y": [
          2358,
          1997,
          1865,
          1864,
          1796,
          1770,
          1765,
          1737,
          1557,
          1432,
          1416,
          1088,
          1041,
          955,
          903,
          898,
          756,
          739,
          665,
          613,
          564,
          561,
          367,
          188,
          162,
          37
         ],
         "yaxis": "y"
        }
       ],
       "layout": {
        "barmode": "relative",
        "legend": {
         "tracegroupgap": 0
        },
        "template": {
         "data": {
          "bar": [
           {
            "error_x": {
             "color": "#2a3f5f"
            },
            "error_y": {
             "color": "#2a3f5f"
            },
            "marker": {
             "line": {
              "color": "#E5ECF6",
              "width": 0.5
             },
             "pattern": {
              "fillmode": "overlay",
              "size": 10,
              "solidity": 0.2
             }
            },
            "type": "bar"
           }
          ],
          "barpolar": [
           {
            "marker": {
             "line": {
              "color": "#E5ECF6",
              "width": 0.5
             },
             "pattern": {
              "fillmode": "overlay",
              "size": 10,
              "solidity": 0.2
             }
            },
            "type": "barpolar"
           }
          ],
          "carpet": [
           {
            "aaxis": {
             "endlinecolor": "#2a3f5f",
             "gridcolor": "white",
             "linecolor": "white",
             "minorgridcolor": "white",
             "startlinecolor": "#2a3f5f"
            },
            "baxis": {
             "endlinecolor": "#2a3f5f",
             "gridcolor": "white",
             "linecolor": "white",
             "minorgridcolor": "white",
             "startlinecolor": "#2a3f5f"
            },
            "type": "carpet"
           }
          ],
          "choropleth": [
           {
            "colorbar": {
             "outlinewidth": 0,
             "ticks": ""
            },
            "type": "choropleth"
           }
          ],
          "contour": [
           {
            "colorbar": {
             "outlinewidth": 0,
             "ticks": ""
            },
            "colorscale": [
             [
              0,
              "#0d0887"
             ],
             [
              0.1111111111111111,
              "#46039f"
             ],
             [
              0.2222222222222222,
              "#7201a8"
             ],
             [
              0.3333333333333333,
              "#9c179e"
             ],
             [
              0.4444444444444444,
              "#bd3786"
             ],
             [
              0.5555555555555556,
              "#d8576b"
             ],
             [
              0.6666666666666666,
              "#ed7953"
             ],
             [
              0.7777777777777778,
              "#fb9f3a"
             ],
             [
              0.8888888888888888,
              "#fdca26"
             ],
             [
              1,
              "#f0f921"
             ]
            ],
            "type": "contour"
           }
          ],
          "contourcarpet": [
           {
            "colorbar": {
             "outlinewidth": 0,
             "ticks": ""
            },
            "type": "contourcarpet"
           }
          ],
          "heatmap": [
           {
            "colorbar": {
             "outlinewidth": 0,
             "ticks": ""
            },
            "colorscale": [
             [
              0,
              "#0d0887"
             ],
             [
              0.1111111111111111,
              "#46039f"
             ],
             [
              0.2222222222222222,
              "#7201a8"
             ],
             [
              0.3333333333333333,
              "#9c179e"
             ],
             [
              0.4444444444444444,
              "#bd3786"
             ],
             [
              0.5555555555555556,
              "#d8576b"
             ],
             [
              0.6666666666666666,
              "#ed7953"
             ],
             [
              0.7777777777777778,
              "#fb9f3a"
             ],
             [
              0.8888888888888888,
              "#fdca26"
             ],
             [
              1,
              "#f0f921"
             ]
            ],
            "type": "heatmap"
           }
          ],
          "heatmapgl": [
           {
            "colorbar": {
             "outlinewidth": 0,
             "ticks": ""
            },
            "colorscale": [
             [
              0,
              "#0d0887"
             ],
             [
              0.1111111111111111,
              "#46039f"
             ],
             [
              0.2222222222222222,
              "#7201a8"
             ],
             [
              0.3333333333333333,
              "#9c179e"
             ],
             [
              0.4444444444444444,
              "#bd3786"
             ],
             [
              0.5555555555555556,
              "#d8576b"
             ],
             [
              0.6666666666666666,
              "#ed7953"
             ],
             [
              0.7777777777777778,
              "#fb9f3a"
             ],
             [
              0.8888888888888888,
              "#fdca26"
             ],
             [
              1,
              "#f0f921"
             ]
            ],
            "type": "heatmapgl"
           }
          ],
          "histogram": [
           {
            "marker": {
             "pattern": {
              "fillmode": "overlay",
              "size": 10,
              "solidity": 0.2
             }
            },
            "type": "histogram"
           }
          ],
          "histogram2d": [
           {
            "colorbar": {
             "outlinewidth": 0,
             "ticks": ""
            },
            "colorscale": [
             [
              0,
              "#0d0887"
             ],
             [
              0.1111111111111111,
              "#46039f"
             ],
             [
              0.2222222222222222,
              "#7201a8"
             ],
             [
              0.3333333333333333,
              "#9c179e"
             ],
             [
              0.4444444444444444,
              "#bd3786"
             ],
             [
              0.5555555555555556,
              "#d8576b"
             ],
             [
              0.6666666666666666,
              "#ed7953"
             ],
             [
              0.7777777777777778,
              "#fb9f3a"
             ],
             [
              0.8888888888888888,
              "#fdca26"
             ],
             [
              1,
              "#f0f921"
             ]
            ],
            "type": "histogram2d"
           }
          ],
          "histogram2dcontour": [
           {
            "colorbar": {
             "outlinewidth": 0,
             "ticks": ""
            },
            "colorscale": [
             [
              0,
              "#0d0887"
             ],
             [
              0.1111111111111111,
              "#46039f"
             ],
             [
              0.2222222222222222,
              "#7201a8"
             ],
             [
              0.3333333333333333,
              "#9c179e"
             ],
             [
              0.4444444444444444,
              "#bd3786"
             ],
             [
              0.5555555555555556,
              "#d8576b"
             ],
             [
              0.6666666666666666,
              "#ed7953"
             ],
             [
              0.7777777777777778,
              "#fb9f3a"
             ],
             [
              0.8888888888888888,
              "#fdca26"
             ],
             [
              1,
              "#f0f921"
             ]
            ],
            "type": "histogram2dcontour"
           }
          ],
          "mesh3d": [
           {
            "colorbar": {
             "outlinewidth": 0,
             "ticks": ""
            },
            "type": "mesh3d"
           }
          ],
          "parcoords": [
           {
            "line": {
             "colorbar": {
              "outlinewidth": 0,
              "ticks": ""
             }
            },
            "type": "parcoords"
           }
          ],
          "pie": [
           {
            "automargin": true,
            "type": "pie"
           }
          ],
          "scatter": [
           {
            "marker": {
             "colorbar": {
              "outlinewidth": 0,
              "ticks": ""
             }
            },
            "type": "scatter"
           }
          ],
          "scatter3d": [
           {
            "line": {
             "colorbar": {
              "outlinewidth": 0,
              "ticks": ""
             }
            },
            "marker": {
             "colorbar": {
              "outlinewidth": 0,
              "ticks": ""
             }
            },
            "type": "scatter3d"
           }
          ],
          "scattercarpet": [
           {
            "marker": {
             "colorbar": {
              "outlinewidth": 0,
              "ticks": ""
             }
            },
            "type": "scattercarpet"
           }
          ],
          "scattergeo": [
           {
            "marker": {
             "colorbar": {
              "outlinewidth": 0,
              "ticks": ""
             }
            },
            "type": "scattergeo"
           }
          ],
          "scattergl": [
           {
            "marker": {
             "colorbar": {
              "outlinewidth": 0,
              "ticks": ""
             }
            },
            "type": "scattergl"
           }
          ],
          "scattermapbox": [
           {
            "marker": {
             "colorbar": {
              "outlinewidth": 0,
              "ticks": ""
             }
            },
            "type": "scattermapbox"
           }
          ],
          "scatterpolar": [
           {
            "marker": {
             "colorbar": {
              "outlinewidth": 0,
              "ticks": ""
             }
            },
            "type": "scatterpolar"
           }
          ],
          "scatterpolargl": [
           {
            "marker": {
             "colorbar": {
              "outlinewidth": 0,
              "ticks": ""
             }
            },
            "type": "scatterpolargl"
           }
          ],
          "scatterternary": [
           {
            "marker": {
             "colorbar": {
              "outlinewidth": 0,
              "ticks": ""
             }
            },
            "type": "scatterternary"
           }
          ],
          "surface": [
           {
            "colorbar": {
             "outlinewidth": 0,
             "ticks": ""
            },
            "colorscale": [
             [
              0,
              "#0d0887"
             ],
             [
              0.1111111111111111,
              "#46039f"
             ],
             [
              0.2222222222222222,
              "#7201a8"
             ],
             [
              0.3333333333333333,
              "#9c179e"
             ],
             [
              0.4444444444444444,
              "#bd3786"
             ],
             [
              0.5555555555555556,
              "#d8576b"
             ],
             [
              0.6666666666666666,
              "#ed7953"
             ],
             [
              0.7777777777777778,
              "#fb9f3a"
             ],
             [
              0.8888888888888888,
              "#fdca26"
             ],
             [
              1,
              "#f0f921"
             ]
            ],
            "type": "surface"
           }
          ],
          "table": [
           {
            "cells": {
             "fill": {
              "color": "#EBF0F8"
             },
             "line": {
              "color": "white"
             }
            },
            "header": {
             "fill": {
              "color": "#C8D4E3"
             },
             "line": {
              "color": "white"
             }
            },
            "type": "table"
           }
          ]
         },
         "layout": {
          "annotationdefaults": {
           "arrowcolor": "#2a3f5f",
           "arrowhead": 0,
           "arrowwidth": 1
          },
          "autotypenumbers": "strict",
          "coloraxis": {
           "colorbar": {
            "outlinewidth": 0,
            "ticks": ""
           }
          },
          "colorscale": {
           "diverging": [
            [
             0,
             "#8e0152"
            ],
            [
             0.1,
             "#c51b7d"
            ],
            [
             0.2,
             "#de77ae"
            ],
            [
             0.3,
             "#f1b6da"
            ],
            [
             0.4,
             "#fde0ef"
            ],
            [
             0.5,
             "#f7f7f7"
            ],
            [
             0.6,
             "#e6f5d0"
            ],
            [
             0.7,
             "#b8e186"
            ],
            [
             0.8,
             "#7fbc41"
            ],
            [
             0.9,
             "#4d9221"
            ],
            [
             1,
             "#276419"
            ]
           ],
           "sequential": [
            [
             0,
             "#0d0887"
            ],
            [
             0.1111111111111111,
             "#46039f"
            ],
            [
             0.2222222222222222,
             "#7201a8"
            ],
            [
             0.3333333333333333,
             "#9c179e"
            ],
            [
             0.4444444444444444,
             "#bd3786"
            ],
            [
             0.5555555555555556,
             "#d8576b"
            ],
            [
             0.6666666666666666,
             "#ed7953"
            ],
            [
             0.7777777777777778,
             "#fb9f3a"
            ],
            [
             0.8888888888888888,
             "#fdca26"
            ],
            [
             1,
             "#f0f921"
            ]
           ],
           "sequentialminus": [
            [
             0,
             "#0d0887"
            ],
            [
             0.1111111111111111,
             "#46039f"
            ],
            [
             0.2222222222222222,
             "#7201a8"
            ],
            [
             0.3333333333333333,
             "#9c179e"
            ],
            [
             0.4444444444444444,
             "#bd3786"
            ],
            [
             0.5555555555555556,
             "#d8576b"
            ],
            [
             0.6666666666666666,
             "#ed7953"
            ],
            [
             0.7777777777777778,
             "#fb9f3a"
            ],
            [
             0.8888888888888888,
             "#fdca26"
            ],
            [
             1,
             "#f0f921"
            ]
           ]
          },
          "colorway": [
           "#636efa",
           "#EF553B",
           "#00cc96",
           "#ab63fa",
           "#FFA15A",
           "#19d3f3",
           "#FF6692",
           "#B6E880",
           "#FF97FF",
           "#FECB52"
          ],
          "font": {
           "color": "#2a3f5f"
          },
          "geo": {
           "bgcolor": "white",
           "lakecolor": "white",
           "landcolor": "#E5ECF6",
           "showlakes": true,
           "showland": true,
           "subunitcolor": "white"
          },
          "hoverlabel": {
           "align": "left"
          },
          "hovermode": "closest",
          "mapbox": {
           "style": "light"
          },
          "paper_bgcolor": "white",
          "plot_bgcolor": "#E5ECF6",
          "polar": {
           "angularaxis": {
            "gridcolor": "white",
            "linecolor": "white",
            "ticks": ""
           },
           "bgcolor": "#E5ECF6",
           "radialaxis": {
            "gridcolor": "white",
            "linecolor": "white",
            "ticks": ""
           }
          },
          "scene": {
           "xaxis": {
            "backgroundcolor": "#E5ECF6",
            "gridcolor": "white",
            "gridwidth": 2,
            "linecolor": "white",
            "showbackground": true,
            "ticks": "",
            "zerolinecolor": "white"
           },
           "yaxis": {
            "backgroundcolor": "#E5ECF6",
            "gridcolor": "white",
            "gridwidth": 2,
            "linecolor": "white",
            "showbackground": true,
            "ticks": "",
            "zerolinecolor": "white"
           },
           "zaxis": {
            "backgroundcolor": "#E5ECF6",
            "gridcolor": "white",
            "gridwidth": 2,
            "linecolor": "white",
            "showbackground": true,
            "ticks": "",
            "zerolinecolor": "white"
           }
          },
          "shapedefaults": {
           "line": {
            "color": "#2a3f5f"
           }
          },
          "ternary": {
           "aaxis": {
            "gridcolor": "white",
            "linecolor": "white",
            "ticks": ""
           },
           "baxis": {
            "gridcolor": "white",
            "linecolor": "white",
            "ticks": ""
           },
           "bgcolor": "#E5ECF6",
           "caxis": {
            "gridcolor": "white",
            "linecolor": "white",
            "ticks": ""
           }
          },
          "title": {
           "x": 0.05
          },
          "xaxis": {
           "automargin": true,
           "gridcolor": "white",
           "linecolor": "white",
           "ticks": "",
           "title": {
            "standoff": 15
           },
           "zerolinecolor": "white",
           "zerolinewidth": 2
          },
          "yaxis": {
           "automargin": true,
           "gridcolor": "white",
           "linecolor": "white",
           "ticks": "",
           "title": {
            "standoff": 15
           },
           "zerolinecolor": "white",
           "zerolinewidth": 2
          }
         }
        },
        "title": {
         "text": "Distribution of Categories"
        },
        "xaxis": {
         "anchor": "y",
         "domain": [
          0,
          1
         ],
         "title": {
          "text": "category"
         }
        },
        "yaxis": {
         "anchor": "x",
         "domain": [
          0,
          1
         ],
         "title": {
          "text": "count"
         }
        }
       }
      }
     },
     "metadata": {},
     "output_type": "display_data"
    }
   ],
   "source": [
    "# Calculate the distribution of product categories and create a bar plot to visualize it\n",
    "\n",
    "category_distribution = products['category'].value_counts().reset_index()\n",
    "category_distribution.columns = ['category', 'count']\n",
    "\n",
    "fig1 = px.bar(category_distribution, x='category', y='count', title='Distribution of Categories')\n",
    "fig1.show()"
   ]
  },
  {
   "cell_type": "markdown",
   "metadata": {},
   "source": [
    "### Distribution of Brands\n"
   ]
  },
  {
   "cell_type": "code",
   "execution_count": 8,
   "metadata": {},
   "outputs": [
    {
     "data": {
      "application/vnd.plotly.v1+json": {
       "config": {
        "plotlyServerURL": "https://plot.ly"
       },
       "data": [
        {
         "cells": {
          "align": "left",
          "fill": {
           "color": "lavender"
          },
          "values": [
           [
            "Allegra K",
            "Calvin Klein",
            "Carhartt",
            "Hanes",
            "Volcom",
            "Nautica",
            "Levi's",
            "Quiksilver",
            "Tommy Hilfiger",
            "Columbia",
            "Hurley",
            "Dockers",
            "Diesel",
            "Speedo",
            "American Apparel",
            "Wrangler",
            "Motherhood Maternity",
            "Champion",
            "7 For All Mankind",
            "Lucky Brand",
            "FineBrandShop",
            "Dickies",
            "SmartWool",
            "O'Neill",
            "Jones New York",
            "DC",
            "Roxy",
            "True Religion",
            "Fox",
            "Fruit of the Loom",
            "Ray-Ban",
            "HUGO BOSS",
            "Oakley",
            "Calvin Klein Jeans",
            "adidas",
            "Kenneth Cole",
            "Haggar",
            "Ralph Lauren",
            "Lee",
            "Anne Klein",
            "Orvis",
            "Joe's Jeans",
            "HUE",
            "Jockey",
            "Patty",
            "Anna-Kaci",
            "Hot Topic",
            "IZOD",
            "Port Authority",
            "Perry Ellis",
            "Bali",
            "Not Your Daughter's Jeans",
            "Ed Hardy",
            "Pendleton",
            "Nike",
            "Woolrich",
            "Gold Toe",
            "eVogues Apparel",
            "Billabong",
            "Woman Within",
            "Tommy Bahama",
            "Thorlo",
            "Duofold",
            "Vanity Fair",
            "SK Hat shop",
            "Sutton Studio",
            "G-Star",
            "RVCA",
            "Ed Garments",
            "Hot from Hollywood",
            "Harley-Davidson",
            "Maidenform",
            "Icebreaker",
            "Geoffrey Beene",
            "Eddie Bauer",
            "U.S. Polo Assn.",
            "Mountain Hardwear",
            "Bella",
            "A:X Armani Exchange",
            "Majestic International",
            "Polo Ralph Lauren",
            "Laura",
            "2b by bebe",
            "Paul Fredrick",
            "Wacoal",
            "Original Penguin",
            "Wigwam",
            "Hanro",
            "French Connection",
            "Southpole",
            "Life Is Good",
            "TrendsBlue",
            "Luxury Divas",
            "Sock It To Me",
            "LRG",
            "Silver Jeans",
            "2(x)ist",
            "Kenneth Cole REACTION",
            "Tri-Mountain",
            "Metal Mulisha",
            "Ilusion",
            "MANGO",
            "AG Adriano Goldschmied",
            "boxed-gifts",
            "Under Armour",
            "Michael Kors",
            "Van Heusen",
            "Samanthas Style Shoppe",
            "Betsey Johnson",
            "Flexees",
            "Alexander Del Rossa",
            "SEX NIGHT",
            "Alfred Dunner",
            "BCBGMAXAZRIA",
            "LOTUSTRADERS",
            "Bottoms Out",
            "ExOfficio",
            "Russell Athletic",
            "PUMA",
            "Alki'i",
            "Three Seasons Maternity",
            "G by GUESS",
            "K. Bell",
            "Alternative",
            "Frederick's of Hollywood",
            "Barely There",
            "Savane",
            "Gary Majdell Sport",
            "The Little Alpaca's House",
            "A Pea in the Pod",
            "Devon & Jones",
            "Joseph Abboud",
            "DREAMS",
            "Intimo",
            "ASICS",
            "NEFF",
            "Rip Curl",
            "King Formal Wear",
            "LabelShopper",
            "Natori",
            "Angelina",
            "Bslingerie",
            "Playtex",
            "Burnside",
            "C-IN2",
            "PAIGE",
            "Arc'teryx",
            "UNIONBAY",
            "Harbor Bay",
            "Fred Perry",
            "KUT from the Kloth",
            "Activewear Apparel",
            "Underworks",
            "Karen Kane",
            "Only Hearts",
            "Hudson",
            "Fashion Forms",
            "GUESS",
            "Carol Wright Gifts",
            "Evan Picone",
            "Hello Kitty",
            "The North Face",
            "Nine West",
            "Seafolly",
            "prAna",
            "Isotoner",
            "London Fog",
            "Ice",
            "Hot Chillys",
            "Rock Revival",
            "TYR",
            "Alpinestars",
            "Capezio",
            "Outdoor Research",
            "The Pajamagram Company",
            "Ecoscapes",
            "American Essentials",
            "Cosabella",
            "Wool Overs",
            "Miraclesuit",
            "Rusty",
            "Casual Moments",
            "Glamorise",
            "District Threads",
            "BCBGeneration",
            "Braza",
            "Guide Gear",
            "Foot Traffic",
            "Paul Frank",
            "Kasper",
            "Matix",
            "Vince Camuto",
            "LeggingsQueen",
            "Kanu Surf",
            "Sanctuary",
            "Hatley",
            "Marc Ecko Cut & Sew",
            "Felina",
            "Retrofit",
            "UltraClub",
            "Yelete",
            "Spa & Resort",
            "Bullhead",
            "Ibex",
            "Juicy Couture",
            "Wrightsock",
            "Buffalo by David Bitton",
            "Gildan",
            "Y&G",
            "Reebok",
            "Comfort Choice",
            "Carole Hochman",
            "AxParis",
            "Briefly Stated",
            "Robert Graham",
            "TheTieBar",
            "Shadowline",
            "Ripe Maternity",
            "Ben Sherman",
            "Louis Raphael",
            "Wolverine",
            "Trina Turk",
            "Emporio Armani",
            "Coolibar",
            "KNOTHE CORP.",
            "Jessica Simpson",
            "Harriton",
            "Under Moments",
            "ECHO",
            "Mod-O-Doc",
            "Stella Elyse",
            "Key Industries",
            "Belly Bandit",
            "VIP BOUTIQUE",
            "Moving Comfort",
            "eloquii",
            "Le Suit",
            "Soho Girls",
            "Fun Boxers",
            "Alpha Industries",
            "Gregg Homme",
            "J.C. Rags",
            "bebe",
            "Kensie",
            "KingSize",
            "KAMALIKULTURE",
            "DKNY",
            "Next Level",
            "TapouT",
            "Timberland",
            "VIVILLI",
            "Royal Robbins",
            "Splendid",
            "Tahari",
            "Up2date Fashion",
            "Body Glove",
            "Darn Tough",
            "Three Dots",
            "INDERA THERMALS",
            "Pearl iZUMi",
            "Curve Appeal",
            "Capelli New York",
            "Rampage",
            "Cubavera",
            "MJ Soffe",
            "Affliction",
            "Anita",
            "Torrid",
            "Wallflower",
            "DG Eyewear",
            "Cloris Murphy",
            "Giorgio Cerruti",
            "Charles River Apparel",
            "Scotch & Soda",
            "Sofie",
            "Danskin",
            "180s",
            "Marina West",
            "Corset Story",
            "Sag Harbor",
            "Hanky Panky",
            "Ted Baker",
            "Warner's",
            "Helly Hansen",
            "Democracy",
            "Papi",
            "Berkshire",
            "Canyon Ridge",
            "Sons Of Anarchy",
            "Jezebel",
            "Joie",
            "Aeropostale",
            "Football Fanatics",
            "Cashmere Boutique",
            "Full Tilt",
            "BB Dakota",
            "dollhouse",
            "Tasso Elba",
            "US Fairytailes",
            "Nvie Designs",
            "Bjorn Borg",
            "Minus33 Merino Wool",
            "Jessica Howard",
            "HOBO",
            "FEA",
            "High Style",
            "Famous Stars and Straps",
            "DL1961",
            "YogaColors",
            "Funfash",
            "Mavi",
            "Ulla Popken",
            "Hard Tail",
            "Coquette",
            "Jerzees",
            "ililily",
            "Walls",
            "Becca by Rebecca Virtue",
            "MICHAEL Michael Kors",
            "D.E.P.T.",
            "point6",
            "Carrera",
            "Beach Joy",
            "Miss Me",
            "Spanx",
            "Lindy Bop",
            "MAXSTUDIO",
            "Jet Lag",
            "ZOO YORK",
            "Reef",
            "BridalPetticoat",
            "Marc New York by Andrew Marc",
            "Neon Buddha",
            "Kate Spade",
            "Seven7",
            "Roma Costume",
            "Lilly Pulitzer",
            "Mommy Paradise",
            "Lamaze",
            "WARMEN",
            "Ecko Unltd.",
            "Barbour",
            "Marcoliani Milano",
            "2XU",
            "Element",
            "Le Mystere",
            "maxandcleo",
            "HoodieBuddie",
            "Canada Goose",
            "Touch of Europe Flannel Pants",
            "Kuhl",
            "WESC",
            "Snoozies",
            "TopTie",
            "Assets",
            "Brixton",
            "Chaus",
            "Stance",
            "SockGuy",
            "Vans",
            "Parke & Ronen",
            "LibbySue",
            "Filson",
            "Sweetheart Slips",
            "Ozone",
            "Disney",
            "Oscar de la Renta",
            "Sheridyn Swim",
            "Tru-Spec",
            "Maternal America",
            "New Balance",
            "Kiyonna",
            "ANS",
            "Cuddl Duds",
            "N2N",
            "Caterpillar",
            "Alex Stevens",
            "Lacoste",
            "Jax",
            "NOM",
            "Oak Hill",
            "Via Spiga",
            "Chestnut Hill",
            "Allen Allen",
            "Cinema Etoile",
            "Tokidoki",
            "PACT",
            "Popsi Lingerie",
            "Pull-in",
            "Only Necessities",
            "Panache",
            "Kangol",
            "Arianne",
            "Daniel Buchler",
            "XOXO",
            "7 Diamonds",
            "Swim 365",
            "BIG STAR",
            "Momo Maternity",
            "Christopher Fischer",
            "Goddess",
            "The Cat's Pajamas",
            "Skedouche",
            "Rufskin",
            "National",
            "Olga",
            "Knothe",
            "Carnival",
            "Vx Intimate Inc",
            "b.tempt'd by Wacoal",
            "Altamont",
            "Fashion Victim",
            "Bravado! Designs",
            "laundry by SHELLI SEGAL",
            "DKNYC",
            "Rago",
            "Larry Levine",
            "ARROW",
            "Robert Rodriguez",
            "Faconnable",
            "FoxRiver",
            "Paul Malone",
            "Level 99",
            "Nicole Miller",
            "Abini",
            "Sweet Mommy",
            "Steve Madden",
            "Alex Evenings",
            "Rafaella",
            "Club Room",
            "Jack",
            "Stacy Adams",
            "Reyn Spooner",
            "London Times",
            "[BLANKNYC]",
            "Diamond Chain",
            "FactoryExtreme",
            "Commando",
            "Aegean",
            "L*Space",
            "Adrianna Papell",
            "Melissa Odabash",
            "Design History",
            "Antique Rivet",
            "Medela",
            "Xfy",
            "MG",
            "Roamans",
            "Everly Grey",
            "John Deere",
            "Ames",
            "Earnest Sewn",
            "Cinch",
            "Mundo Unico",
            "Spree",
            "Austin Reed",
            "Mountain Khakis",
            "!it Jeans",
            "Comfort Colors",
            "Dickies Girl",
            "United Face",
            "Adriana",
            "Dearfoams",
            "Bristols 6",
            "Concitor",
            "La Leche League",
            "DFDesigns",
            "Cianni",
            "Lily of France",
            "Impact Fitness",
            "Marshal",
            "Port & Company",
            "Corset-story",
            "BedHead",
            "Tripp NYC",
            "Marmot",
            "Zanerobe",
            "Clever",
            "La Blanca",
            "Buxton",
            "Banana Republic",
            "Icon",
            "Vobaga",
            "Briggs",
            "Dorfman Pacific",
            "YMI",
            "Suncloud",
            "JiMarti",
            "Pacific Legend",
            "Shaper Corset",
            "David's Bridal",
            "Rich & Skinny",
            "TEXTILE Elizabeth and James",
            "Carve Designs",
            "Spiewak",
            "Rene Rofe",
            "Suit Studio",
            "stonepowerss",
            "Vigoss",
            "Eileen West",
            "Karen Nueburger",
            "Jantzen",
            "Sean John",
            "Private Island",
            "Just Sexy",
            "Hollywood Star Fashion",
            "Merrell",
            "UjENA",
            "LAT Sportswear",
            "NuBra",
            "Nat Nast",
            "SPY",
            "Naturally by Derek Rose",
            "Sons of Anarchy",
            "Black Market-Lowbrow",
            "Ariat",
            "Burton",
            "Drymax Socks",
            "Josie by Natori",
            "Cole Haan",
            "Victorinox",
            "Baby Be Mine",
            "Bella Materna",
            "Munsingwear",
            "Glamourmom",
            "LissKiss",
            "Greatlookz",
            "Fox Racing",
            "Bigmansland",
            "Cashmere Pashmina Group",
            "Miss Sixty",
            "Bloom's Outlet",
            "Parker",
            "JAG",
            "Rebecca Minkoff",
            "Blue Banana",
            "The Savile Row Company",
            "Horny Toad",
            "TUMI",
            "Maple Clothing",
            "Dr. Rey Shapewear",
            "Browning",
            "CorsetDeal",
            "Chaps",
            "robesale",
            "Heavenly Shapewear",
            "STATE O MAINE",
            "Ingrid & Isabel",
            "Wrapper",
            "Pettipant",
            "Croakies",
            "A. Byer",
            "Bench",
            "Jolt",
            "RSQ",
            "H2W",
            "Beyond Yoga",
            "Danny & Nicole",
            "Jessica London",
            "Alfani",
            "Gottex",
            "Keen",
            "Romeo & Juliet Couture",
            "Saxx",
            "Rocawear",
            "Tallia",
            "Red Kap",
            "NoeMie",
            "Prontomoda",
            "See Thru Soul",
            "Match",
            "Olian",
            "Private Label",
            "Harmonie",
            "QT",
            "Toddland",
            "Leonisa",
            "Mary Green",
            "Prego",
            "Body Wrap",
            "Blue Sky Swimwear",
            "Bailey 44",
            "Jules & Jim",
            "Fullness",
            "Symphony Designs",
            "Drawstrings",
            "Flying Tomato",
            "Indera",
            "Shock Absorber",
            "American Rag",
            "Williams Cashmere",
            "Groovin'",
            "Active Products",
            "Authentic Pigment",
            "Mermaid Maternity",
            "LOCOMO Leggings",
            "Tiger Milly",
            "Pashmina",
            "Nantucket Brand",
            "Gabby Skye",
            "Fox Outdoor",
            "Lilo Maternity",
            "PacSun",
            "Morris Costumes",
            "Bolzano",
            "Just My Size",
            "Athena",
            "Scarf_tradinginc",
            "Marrikas",
            "OnGossamer",
            "Guy Harvey",
            "Caravelli",
            "Merry Modes",
            "Company 81",
            "McGinn",
            "Collection XIIX",
            "BGSD",
            "White Orchid",
            "Xtreme Couture",
            "Ella Moss",
            "Brand Q",
            "Girls4Sport",
            "Cardi International",
            "Derek Rose",
            "Eliza J",
            "Zimmerli of Switzerland",
            "Forever Collectibles",
            "ChalkTalkSPORTS",
            "Cool-jams Wicking Sleepwear",
            "Bridgedale",
            "Seirus Innovation",
            "Weatherproof",
            "Injinji",
            "D&G Dolce & Gabbana",
            "N2N Bodywear",
            "Dosh",
            "Tops and Bottoms HS",
            "Edwards Garment",
            "Casual Socks",
            "Pratt and Hart",
            "Tom Ford",
            "Toes on the Nose",
            "Underglam",
            "Suzi Chin",
            "FINIS",
            "Farr West",
            "Boxercraft",
            "Elan",
            "Huafeng",
            "L'eggs",
            "Nollia",
            "Brooks",
            "PURE STYLE Girlfriends",
            "Universal Textiles",
            "Independent",
            "Ever-Pretty",
            "ThatsRad",
            "Maui Jim",
            "Lauren by Ralph Lauren",
            "L.A. Idol Jeans",
            "Spalding",
            "Kenneth Cole New York",
            "Luli Fama",
            "Marc Ecko",
            "Sport-Tek",
            "Arena",
            "Magaschoni",
            "Psycho Bunny",
            "Rodd & Gunn",
            "Golds Gym",
            "Generra",
            "Comfort Zone",
            "Besame",
            "MyEyeglassCase",
            "Hip",
            "Fox River Socks",
            "Velvet",
            "Socksmith",
            "AnimalShirtsUSA",
            "Vintage",
            "Botany 500",
            "MW",
            "Gem Avenue",
            "Magic Suit",
            "Sunsets",
            "James Jeans",
            "WinnieFashion",
            "LAmade",
            "DreamSacks",
            "Electric",
            "Sweet",
            "HUF",
            "INC International Concepts",
            "Analog",
            "Sirisha",
            "DAVID Seeds",
            "Cashmere Int",
            "Affinitas Intimates",
            "Profile",
            "KR3W",
            "Sugar Free Sox",
            "Sassybax",
            "Tiana B",
            "Stohlquist",
            "Aqua",
            "Beauty Night",
            "Intimates Boutique",
            "Minecraft",
            "Cheap Monday",
            "HOTmilk",
            "Ellen Tracy",
            "Good Devil",
            "GUINNESS",
            "Varsity",
            "Union Jeans",
            "Scottevest",
            "Anvil",
            "Kalon",
            "Skins",
            "Bravado",
            "Katnap",
            "Mundi",
            "Krazy",
            "Red Dot",
            "Eberjey",
            "Hollister",
            "World's Softest",
            "CUA",
            "Acura",
            "Artwedding",
            "Royal Silk",
            "Bathrobes Online",
            "Moonar",
            "Dr. Scholl's",
            "K. Alexander",
            "SleepytimePjs",
            "Klondike Sterling",
            "Bundle Monster",
            "Plenty by Tracy Reese",
            "Michael Stars",
            "iCollection Lingerie",
            "Fresh Laundry",
            "Liverpool Jeans Company",
            "Zoot",
            "Spring+Mercer",
            "ULTRAFINO PANAMA HAT",
            "Gotcha",
            "STYLE",
            "CW-X",
            "Nomis",
            "Swim Systems",
            "Everjune",
            "Siwy",
            "Annabelle",
            "State O Maine",
            "Yummie Tummie",
            "Lipo in a Box",
            "Yoana Baraschi",
            "Eurosock",
            "Soxnet",
            "SmartTuxedo",
            "Planet Earth",
            "Landisun",
            "Skelapparel",
            "Threads4Thought",
            "Florsheim",
            "Lilyette",
            "Saucony",
            "Dapper World",
            "AJs",
            "Lilla P",
            "55DSL",
            "FOXFIRE",
            "Flexfit",
            "Shirt City",
            "FMF",
            "Scarfand",
            "Flying Monkey Jeans",
            "Vedette",
            "Moods of Norway",
            "Maison Scotch",
            "Minnie Rose",
            "JAG Jeans",
            "Wonderbra",
            "Illusion",
            "CoreyLynnCalter",
            "Trasparenze",
            "Jordan",
            "Gucci",
            "Isaac Mizrahi Jeans",
            "VANCL",
            "Giorgio Fiorelli",
            "Andrew Christian",
            "Fennco",
            "Dakine",
            "KAVU",
            "Ramonti",
            "Feetures",
            "Hey Viv !",
            "Sox Shop",
            "106Shades",
            "likemary",
            "alo Sport",
            "J BRAND",
            "Falcon Bay",
            "DC Comics",
            "Fuzzdandy",
            "Avenue",
            "bSoft",
            "Chaos",
            "Cover Male",
            "Moon Shine Attitude Attire",
            "Jon & Anna",
            "Leading Lady",
            "Paddi Murphy",
            "Cashmere Selection",
            "Teez-Her",
            "Coach",
            "Soybu",
            "HYP",
            "Calvin Klein Performance",
            "Anemone",
            "Coyuchi",
            "Shephe",
            "Vince",
            "Regency New York",
            "Barefoot Dreams",
            "Richer Poorer",
            "Gemsli",
            "Costa Del Mar",
            "Crooks & Castles",
            "What Goes Around Comes Around",
            "CJ by Cookie Johnson",
            "True Grit",
            "Canterbury of New Zealand",
            "Coobie",
            "Cornerstone",
            "Squeem Magical Lingerie",
            "Jess and Jane",
            "Japanese Weekend",
            "AN1225",
            "Prom21",
            "What Katie Did",
            "Alice & Trixie",
            "Vivienne Westwood",
            "Velrose",
            "Aryn K",
            "Blarney Woollen Mills",
            "alight",
            "Tapp Collections",
            "Baskit",
            "HDE",
            "Halston Heritage",
            "FootJoy",
            "Caribbean Joe",
            "Ambiguous",
            "Mad Engine",
            "LnLClothing",
            "AGB",
            "Comune",
            "Throwdown",
            "Modena",
            "Catherine Malandrino",
            "Kirra",
            "Ocean Avenue",
            "Red Engine",
            "Annee Matthew",
            "K-Swiss",
            "Rounderbum",
            "DeFeet",
            "Turkishtowels",
            "VooDoo Tactical",
            "Adventure Time",
            "BLOOMINGDALES",
            "Walking Dead",
            "Overland Sheepskin Co",
            "Funny Girl Designs",
            "Zenana",
            "HOT",
            "Queenshiny",
            "True Nation",
            "Switchblade Stiletto",
            "Abercrombie & Fitch",
            "Inches Off",
            "Bill's Khakis",
            "Body Wrappers",
            "CTM",
            "GUESS by Marciano",
            "Lesuit",
            "Free Country",
            "Augusta",
            "La Fiorentina",
            "District",
            "Julian Taylor",
            "PLATINUM INTIMATES",
            "Condessa",
            "SportHill",
            "Doctor Who",
            "Skechers",
            "Scala",
            "Crazyheads",
            "Kawasaki",
            "Happy Socks",
            "Jolie",
            "Jaxon",
            "Yala",
            "Living Dead Souls",
            "Propper",
            "Blue Line",
            "PEZ Candy",
            "Green Tea",
            "Elwood",
            "Playboy",
            "Tresics",
            "Hillside USA Leather Inc.",
            "Star Vixen",
            "Tracy Reese",
            "Celina",
            "Donna Karan",
            "Amazing Apparel",
            "ADVADRI",
            "Lorpen",
            "Magic",
            "OURSURE.COM",
            "EAGLE",
            "Ashworth",
            "Alex Cannon",
            "Game Gear",
            "Elie Tahari",
            "JeansXL",
            "G & S",
            "ZeroXposur",
            "Affazy",
            "Cruel Girl",
            "Gypsy 05",
            "Modadorn",
            "Saddleback Leather Co.",
            "Canvas",
            "TheLees",
            "Folter",
            "River Road",
            "Sealed with a Kiss Designs Plus Size",
            "Belabumbum",
            "Native Eyewear",
            "Sakkas",
            "Rory Beca",
            "Vivian's Fashions",
            "Fertile Mind",
            "MontBell",
            "Sweatsedo",
            "Gracya",
            "Fossil",
            "Alivila.Y Fashion",
            "Grenade",
            "IGIGI by Yuliya Raquel",
            "Croft & Barrow",
            "Coral Bay",
            "The Beach Depot",
            "Nice Shades",
            "Fleur't",
            "Modern Culture",
            "Munki Munki",
            "Pashminas4u",
            "Tilley",
            "Womama",
            "Stella & Jamie",
            "Lobers",
            "Solutions That Stick",
            "Exquisite Form",
            "Cloudveil",
            "Jessie G.",
            "CARRAIG DONN KNITWEAR",
            "Howe",
            "Aftco",
            "Freya",
            "Majamas",
            "Ezekiel",
            "ZeroGravitee",
            "Mud Pie",
            "Big Feet Pajama Co.",
            "Stormy Kromer",
            "Fappac",
            "Kleinert's",
            "COLDMASTER",
            "Cutter & Buck",
            "Fashion Love",
            "Tok Tok Designs",
            "Hart Schaffner Marx",
            "e.vil",
            "Vitalsox",
            "I-pink",
            "Haband",
            "Touch of Europe Capris",
            "Hi-Tec",
            "Tempco",
            "Coal",
            "Iron Fist",
            "WMU",
            "Curvi",
            "Nobis",
            "John Henry",
            "MTC",
            "Gypsy Rose",
            "Team",
            "Twelfth Street by Cynthia Vincent",
            "Royal",
            "MiH Jeans",
            "Gaiam",
            "CasualMale",
            "BBC",
            "Luxury Lane",
            "Lysse",
            "The Hong Kong Silk Co.",
            "Ahaarya",
            "Silver Edition",
            "Karla Colletto",
            "Donna Di Capri",
            "ANSAI",
            "555 Turnpike",
            "Rated M",
            "FITS Sock Company",
            "William Rast",
            "Smith Optics",
            "Jou Jou",
            "Lost",
            "My1stwish",
            "Rasta/NYE",
            "Palmetto Fundraising",
            "Sam & Lavi",
            "Wheel House Designs",
            "C-Panty",
            "Tipsy Elves",
            "Terramar",
            "Dolce & Gabbana",
            "Ballin",
            "Shagwear",
            "Croft & BarrowÂ®",
            "Parkhurst",
            "Argenti",
            "Grand River",
            "Citizens of Humanity",
            "Knocker",
            "Kirkland Signature",
            "BBW Boutique",
            "Evolution by Cyrus",
            "Tribal",
            "Longitude",
            "Bolle",
            "Intymen",
            "Gongshow",
            "Callaway",
            "Braveman",
            "Wayfarers",
            "Sub Sports",
            "Jenni",
            "TRUNKS",
            "GM",
            "On The Byas",
            "Brabag",
            "Fitness Etc.",
            "John Sievers",
            "Aqua Sphere",
            "Robbi & Nikki",
            "Fratelli Orsini Everyday",
            "Jack Spade",
            "WeekenderÂ®",
            "Goodhew",
            "Extra Wide Sock Company",
            "Rebecca Taylor",
            "VonZipper",
            "QSW",
            "TAXI Wallet",
            "ENDO Apparel",
            "C. Luce",
            "Cocksox",
            "Dallin Chase",
            "Ritchie Swimwear",
            "Just One",
            "Angry Birds",
            "Cecilia de Rafael",
            "Of the Moment",
            "Levusha Fashions",
            "Isadora Pacini",
            "Myne",
            "Ayurvastram",
            "Silly yogi",
            "ComfortWear",
            "Purpura Erizo",
            "Dakota Grizzly",
            "XCVI",
            "BERLE",
            "Jacques Moret",
            "Elomi",
            "Out of Print",
            "Buckle Down",
            "ECCO",
            "Ike Behar",
            "Urban Boundaries Eyewear",
            "Manzella",
            "Red Blossom",
            "G&G",
            "Evolatree",
            "Incrediwear",
            "Blue Star Inc",
            "Boca",
            "Coupe Collection",
            "Wilt",
            "Styles For Less",
            "BH Medwear",
            "Rocky",
            "Nittany Outlet",
            "Moontree",
            "My Michelle",
            "Beach Rays",
            "YAGO",
            "Fit2BMom",
            "Rapid Dominance",
            "Mimi San",
            "Hook & TackleÂ®",
            "Ann West",
            "Lizatards",
            "TRUKFIT",
            "SwypeGloves",
            "Maglierie Di Perugia",
            "Ardyss",
            "Fila",
            "Outerwears",
            "Fit Couture",
            "V Fraas",
            "UniformTux",
            "COOL-JAMS WICKING SLEEPWEAR",
            "DTA SECURED BY ROGUE STATUS",
            "Members Only",
            "Bass",
            "PinkClubwear",
            "Family Guy",
            "Mantoni",
            "Blanks",
            "Fit 4 U",
            "Wickers",
            "Aerosoles",
            "Request",
            "Sierra Designs",
            "Lodis",
            "Shoshanna",
            "Craft",
            "Enjoi",
            "Sexy You Can Do",
            "Edwards",
            "Eva Franco",
            "Style & Co.",
            "Cinderella",
            "DC Shoes",
            "Benny's",
            "Stitch's",
            "C.C. Exclusives",
            "Autumn Cashmere",
            "1vemoon",
            "Saltaire",
            "Funktional",
            "Zorrel",
            "AG Jeans",
            "BANDOLINO",
            "PowerSox",
            "PGA Tour",
            "Spyder",
            "Raffi",
            "Henry Segal",
            "SkidDERS",
            "Tifosi",
            "Central Park",
            "bioworld",
            "Bus Stop",
            "Costa Blanca",
            "Elements of Style",
            "Exotic India",
            "Junk Food",
            "Sugarlips",
            "Vitamin A",
            "Superman",
            "Mikarose",
            "Woodleigh",
            "Grane",
            "Tart",
            "Domo",
            "Artex",
            "Soft Touch Linen",
            "Yukon",
            "Weber's Leather",
            "InkAddict",
            "NaNa",
            "Storus Corporation",
            "MEK Denim",
            "Slim Me",
            "PJ Harlow",
            "Spiderman",
            "Valmont",
            "Zobha",
            "Essential Apparel",
            "Joe Browns",
            "Khakis & Co",
            "Teramasu",
            "Cluny",
            "Tuxedo Park",
            "JUMP",
            "Romance",
            "Prada",
            "Salomon",
            "SZ",
            "Fashion Essentials",
            "Cleo",
            "Mopas",
            "Georgie",
            "KENTWOOL",
            "SOLOW",
            "Sassy",
            "Omega",
            "NI9NE",
            "Irall",
            "Trukfit",
            "Enyce",
            "Provocative",
            "Schaefer Outfitters",
            "Tie-Dyed",
            "Taillissime",
            "Persol",
            "Sourpuss Clothing",
            "Patterson J. Kincaid",
            "White Sierra",
            "Vera Bradley",
            "Reward",
            "ICECREAM",
            "Trixxi",
            "NOLLIE",
            "ViX",
            "North River",
            "Noble Mount",
            "Free People",
            "Lagaci Sport",
            "Buffalo",
            "La Leela",
            "Funny Apparel",
            "Va Bien",
            "ClosetOnline",
            "ToeSox",
            "RAB",
            "English Laundry",
            "John Ashford",
            "JMS",
            "Dakota",
            "Jumpin Jammerz",
            "Theory",
            "La Leche League International",
            "Hilary Radley",
            "LookbookStore",
            "Rock & Republic",
            "You! Lingerie",
            "Necessary Evil",
            "Kristen Blake",
            "DesignSK",
            "Funzee",
            "Rhonda Shear",
            "BellaBand",
            "Jake Joseph",
            "Live for the Ride",
            "Gilbin",
            "Frankie B.",
            "Bear Grylls",
            "Coloriffics",
            "Skinnygirl",
            "C1RCA",
            "Agave",
            "GirlPROPS",
            "Code V",
            "525 America",
            "Enro",
            "The Hunger Games",
            "Brave Soul",
            "Blue Marlin",
            "Blue Star Inc.",
            "Ilitia",
            "Boutique 9",
            "Wildfox Couture",
            "Bloomingdale's",
            "Laguna Beach Jean Company",
            "FOURSQUARE",
            "David Kahn",
            "Bag Girls",
            "MariaE",
            "Ian Leino Design",
            "Stella",
            "Moda Essentials",
            "Knightsbridge of Canada",
            "Chyor",
            "Lord Daniel",
            "Aviator",
            "The West Coast",
            "Ocean Current",
            "August Silk",
            "Bradford Exchange",
            "HQ ISSUE",
            "TVTimeDirect",
            "Kings' Court",
            "Resorts Plus",
            "Etnies",
            "Gloria Vanderbilt",
            "Axis",
            "Isis",
            "Subculture",
            "Sucette Rose",
            "LIJA",
            "Mammut",
            "Queen",
            "Blue Plate",
            "Miss Elaine",
            "Barmah Hats",
            "Pencey",
            "Bikinimo Swimwear",
            "Insta Slim",
            "The Natural",
            "Black Fuchsia",
            "Tolani",
            "X-Gear",
            "Joe Snyder",
            "Smith",
            "Sugoi",
            "LeSportsac",
            "Arbor",
            "Rhino Socks",
            "Joes Jeans",
            "Jostar",
            "Victorian Heart Co. Inc.",
            "CEP Compression Socks",
            "Charter Club",
            "Neil Allyn",
            "1WorldSarong",
            "Annalee + Hope",
            "Nintendo",
            "Warm Things",
            "pennylanegifts",
            "Prairie Underground",
            "CEP",
            "NYGiftStop Scarf",
            "Blue Juice",
            "Robinson Apparel",
            "SY",
            "Ultra Flirt",
            "As U Wish",
            "Preggers",
            "Honey Bun",
            "Christian Audigier",
            "Oxfords Cashmere",
            "Hermanny by ViX",
            "Delta Burke",
            "SWG EYEWEARÂ®",
            "Greystone",
            "Tony Hawk",
            "Amanda Uprichard",
            "Melinda G",
            "Independent Trading Co",
            "Dept Denim Department",
            "Baby'O Clothing Co.",
            "007Lingerie",
            "METROPARK",
            "East Essence",
            "ROPA VOGA",
            "Angelina Hosiery",
            "Hee Grand",
            "Jonathan Quale",
            "Nizo Wear",
            "Rolf's",
            "Modern Heritage",
            "Sunset",
            "Indiana Jones",
            "FreshGear AFX",
            "VH Apparel - All Mixed Up",
            "Osgoode Marley",
            "Stone Rose",
            "Cactus Fashion",
            "eyewear",
            "J. America",
            "Fishworks",
            "Boulder Creek",
            "blank apparel",
            "Port",
            "Kahala",
            "SILK COUTURE",
            "Grass",
            "Kodiak",
            "Peach Couture",
            "The Bracli BoutiqueÂ®",
            "Poof",
            "F.U.S.A.I.",
            "BOOTIGHTS",
            "Harvard Square",
            "Nursing Mamas",
            "Barracuda",
            "NU by John G",
            "deLux",
            "Lov to Sleep",
            "Frogg Toggs",
            "Levante",
            "Pacific Legwear",
            "Solo Classe",
            "Gravity",
            "NBC Universal",
            "66 North",
            "Armada",
            "BeltsandStuds",
            "Pink Lotus",
            "HARVEYS",
            "Greg Norman",
            "F/X FUSION",
            "Go Gloves",
            "J Valdi",
            "Maui and Sons",
            "icebreaker",
            "Donna Morgan",
            "Zeniche",
            "Blue Q",
            "Fairway & Greene",
            "Dopp",
            "Dreamgirl",
            "Salt Life",
            "Big and Tall Guys",
            "Selini NY",
            "Seraphine",
            "Crooks and Castles",
            "Bayside Apparel",
            "Therafirm",
            "Classroom Uniforms",
            "Frost Hats",
            "Aquapro",
            "ascension",
            "Stetson",
            "Julie France",
            "Goorin Bros.",
            "Cleverbrand",
            "Lysse Leggings",
            "Brag Company",
            "Big Feet Pajama Co",
            "Glamour",
            "Call Of Duty",
            "Dance 4 Less",
            "Onia",
            "Eileen Fisher",
            "Two Dog Island",
            "VIP",
            "PureLime",
            "St Croix",
            "John Hanly & Co.",
            "Everlast",
            "Robinson",
            "DV by Dolce Vita",
            "The Brag Company",
            "Cherokee",
            "So-So Happy",
            "Aimee Gowns",
            "LNA",
            "Zero Restriction",
            "Players",
            "tasc Performance",
            "LA Idol",
            "American Eagle",
            "Stone Touch",
            "Insight",
            "Freegun",
            "Sunner",
            "CANYON GUIDE",
            "Citizen",
            "Softies by Paddi Murphy",
            "The Magic Scarf Company",
            "Magicsuit",
            "Tea Collection",
            "The Trendy Me",
            "RYBA GENERAL MERCHANDISE",
            "Faconnable Tailored Denim",
            "Underboss/ Undergirl",
            "Thomas Bates Designs",
            "Rawlings",
            "Fratelli Orsini",
            "Belts.com",
            "Be Wicked",
            "American Fighter",
            "Kipling",
            "Undefeated",
            "LaborLooks",
            "Mothers en Vogue",
            "Postage",
            "Oiselle Running",
            "Knoles & Carter",
            "X-Socks",
            "phistic",
            "5 Seasons",
            "CORDOVAN & GREY",
            "Island Passport",
            "ShoSho Fashion",
            "Nanette Lepore",
            "Johnstons of Elgin",
            "Patagonia",
            "Fourstar",
            "Bra Discs",
            "House of Cheviot",
            "District Made",
            "Jedzebel",
            "Bellfield",
            "Aero Tech Designs",
            "Imaginary Foundation",
            "Landing Leathers",
            "Snug Camisoles",
            "SHARKK",
            "Curious Designs",
            "Zumba Fitness",
            "Kiss",
            "BB",
            "REWASH",
            "Sunny Belt",
            "SethRoberts",
            "Rimann & Associates",
            "Most Official Seven",
            "Nvie Basics",
            "LUXE By Lisa Vogel",
            "Texcyngoods",
            "Paul Malone Vest",
            "House Brand",
            "Trump",
            "Breast is Best",
            "Dog Is Good",
            "Yimei",
            "Mina",
            "Cashmere HS",
            "KNOTHE SPA",
            "Ecko Red",
            "Giovanni Navarre",
            "vip boutique",
            "34 Heritage",
            "Ecosox",
            "Cover Me",
            "Under Two Flags",
            "Kendall Drive",
            "Body Language Fashions",
            "Obey",
            "KOI Medical",
            "UR",
            "Julbo",
            "Buff",
            "Miss London",
            "Bobi",
            "Frank Dandy",
            "Chelsea Studio",
            "Bailey",
            "TAVIK",
            "Special Blend",
            "Chemisettes by Anne",
            "Alia",
            "Royce Leather",
            "Ray-Ban Junior",
            "Forum",
            "Farah",
            "SPORTAILOR",
            "Gatta",
            "COOGI",
            "Pure Handknit",
            "Pulse/Iceburg",
            "Lady Romance",
            "Locs",
            "Wurl",
            "Mwak",
            "Indera Mills",
            "Blanks Plus",
            "COCO",
            "Island Escape",
            "DECKY",
            "Tory Burch",
            "Talos",
            "Serenada",
            "Echomerx",
            "Ear Mitts; EarMitts",
            "FINESSE",
            "Arborwear",
            "Wurkin Stiffs",
            "MCap",
            "Intimates",
            "Xport Designs",
            "Blink Product Design",
            "J America",
            "Rosa Faia by Anita",
            "Diva",
            "Obermeyer",
            "Belevation",
            "Hawke & Co",
            "Grace Elements",
            "Sofia by Vix",
            "Soft Ones",
            "Claeson",
            "Mycra Pac",
            "DPC/Scalar",
            "Marrakech",
            "Shoe Hotline",
            "Knit Caps",
            "Lisse Leggings",
            "JEM Shape",
            "IBIP",
            "BUDSHOP",
            "Pretty Polly",
            "Feelmax",
            "Shaynecoat",
            "Evanese",
            "Threadless",
            "Lord Daniels",
            "Ladies First",
            "Beauty and the Beach Blue Label",
            "Ivory Falcon",
            "Irish Setter",
            "Nearly Me",
            "JM",
            "Foot Traffice",
            "GST",
            "Tori Praver",
            "TopHeadwear",
            "Helene Berman",
            "Wolfmark",
            "Diabetic Care",
            "Secret Lace",
            "LINCS DC & Co",
            "NurtureWear",
            "626 BLUE",
            "Talitania",
            "Leisureland",
            "Indigo Rein",
            "FursNewYork",
            "MARINO BAY",
            "Arnette",
            "Solmate Socks",
            "Cheerleading Company",
            "CCV Inc",
            "Bill Blass",
            "Port Company",
            "Mara Hoffman",
            "San Diego Hat Company",
            "The Irish Linen Store",
            "Omni-Wool",
            "Wanted",
            "VILEBREQUIN",
            "Throwdown by Affliction",
            "BirthandBaby",
            "A.B.S. by Allen Schwartz",
            "Pistil",
            "LANHUACAO",
            "Debbie Katz South Beach",
            "Legend",
            "Rebel8",
            "SlimMe",
            "Fame Fabrics",
            "J.B. Icelandic (Extreme Cold Activity)",
            "Leo & Nicole",
            "John Fashion",
            "BG",
            "Aetrex",
            "Old Shanghai",
            "East of Maui Hawaiian Store",
            "QLook",
            "RJC",
            "COLD PRUF",
            "Gore",
            "Hats",
            "Trendy Trends",
            "Island Outfitters",
            "Handful",
            "Betty Boop",
            "Pop Fashionwear",
            "Dominique",
            "Zulu LAX",
            "BIKINI LAB",
            "TWELVE K",
            "AIRBLASTER",
            "P.J. Salvage",
            "Toezies",
            "Level 33",
            "TLB",
            "35 Degree Below",
            "Sitka Gear",
            "Kashwere",
            "Hot Fash",
            "Harajuku",
            "Spicy Spot",
            "Brandy Melville",
            "Dan Post",
            "Ecoland",
            "tabbisocks",
            "Okutani",
            "Cowboy Shop",
            "Letarte",
            "Habitual",
            "Kerusso",
            "La Perla",
            "Swiftwick",
            "Jackson",
            "Elle Macpherson Intimates",
            "Timoteo",
            "Girbaud",
            "4-rth",
            "Madison",
            "LCW Men's",
            "Notations",
            "Boconi",
            "Cosi",
            "JNCO",
            "VIPARO",
            "TravelSox",
            "Motel",
            "BOTANY 500",
            "Brookstone",
            "Union",
            "Abbey Dawn",
            "Touchpoint",
            "Dr. Comfort",
            "Plan B",
            "Seal Skinz",
            "Venom",
            "Belly Armor",
            "Amoena",
            "VA VA VOOM",
            "Bleu Rod Beattie",
            "Weekender",
            "LA IDOL",
            "Cpanty",
            "Elixir",
            "Ks",
            "Rivers' End",
            "Solmate",
            "Micros",
            "Fine Fit",
            "Star",
            "Nasty Pig",
            "Hocosa of Switzerland",
            "Swill",
            "Gold Series",
            "Perry",
            "Rainbow",
            "Basic",
            "David Lerner",
            "McAlister",
            "Cameo",
            "Polar",
            "Sports Katz",
            "Wyoming West Designs Llc",
            "So So Happy",
            "Elila",
            "Bar III",
            "Blac Label",
            "The Scarf Company",
            "Rudsak",
            "Rewash",
            "Chicastic",
            "NOLLIA",
            "Vedette Shapewear",
            "Turtle Fur",
            "Bonus",
            "BellyBra",
            "Timeteo",
            "Bungalow",
            "I-Pink",
            "CUTE OPTIONS",
            "Eliana",
            "Portal 2",
            "M & F Western Products",
            "For Two Fitness",
            "D&Y",
            "Berek",
            "Shirt.Woot",
            "Heather",
            "Rockport",
            "Sleepyeads",
            "Bauer",
            "Sesame Street",
            "aler",
            "Thug or Angel",
            "Safe-T-Gard",
            "TractionSocks",
            "Duck Commander",
            "Grenier",
            "Gipsy Hosiery",
            "Donald Seneca",
            "Grandoe",
            "Bordeaux",
            "The Saress",
            "Trienawear Skirts",
            "Lytess",
            "Teko",
            "HKNB Heidi Klum for New Balance",
            "Worn Jeans",
            "Wear Leg Warmers",
            "Davco",
            "Sweet Dreams Maternity Wear",
            "Broner",
            "Ralph by Ralph Lauren",
            "Kati Rose",
            "Headchange",
            "Power Club",
            "Touch of Europe Boxers",
            "12XLShop Inc.",
            "CB",
            "Jacob Alexander",
            "Telegraph Hill Luxury Spa Robe",
            "Emerica",
            "Teeki",
            "H",
            "N.G.U.",
            "Liberty",
            "TAIGA",
            "Teal Cove",
            "Swim Stat",
            "Marithe Francois Girbaud",
            "RAY&LI",
            "Turquoise",
            "EuroBrand",
            "Aerin Rose",
            "Mascot",
            "Pencey Standard",
            "Canari",
            "Maria Rosa",
            "True Soulmate",
            "Medline",
            "Rock Face",
            "Slimme",
            "White Mt.",
            "Leather Gloves Online",
            "Dexter",
            "Elvis",
            "Curves",
            "Flip",
            "ian Leino Design",
            "Chuck",
            "Back to Nature",
            "Excell",
            "Turfer",
            "Aris A",
            "TREASURE ROCK",
            "Macks Prairie Wings",
            "Linda Hartman",
            "Pretty Pushers",
            "Footprint",
            "Simple",
            "Plain Hats",
            "Touch Screen Gloves",
            "Guinea",
            "Discovery Channel",
            "Creekwood",
            "FQH",
            "Star Ride",
            "Serengeti",
            "MMG",
            "Kelly Nishimoto",
            "Ford Motor Company",
            "Spring & Mercer",
            "Meister",
            "King Formal Premium",
            "Castaway Clothing Co.",
            "Fredricks of Hollywood",
            "George",
            "Clever Travel Companion",
            "The Original Bring It Up",
            "Fabian",
            "La Leche League Sports Nurising Bra White",
            "L1",
            "686",
            "GII",
            "HZF",
            "NAU",
            "LLLI",
            "Condor",
            "Calida",
            "Bacci",
            "Dimrs",
            "Totes",
            "Zonal",
            "Badger",
            "Wilda",
            "Vertx",
            "Timpa",
            "Sauce",
            "Rival",
            "Plejue",
            "Rawik",
            "CATAWBA",
            "Raven",
            "DB Life Dana Buchman",
            "Colorado Timberline",
            "Hot Sox",
            "Ouran High School",
            "kensiegirl",
            "Xscape",
            "Copper Cove",
            "Craghoppers",
            "Tultex",
            "Carraig Donn",
            "Haute Hippie",
            "Maud Sylvina",
            "Selena Gomez",
            "Taylor",
            "ADAR UNIFORMS",
            "Carnegie Hall",
            "Sullen",
            "Boston Harbour",
            "Chic Intimates",
            "LOCOMO Dresses",
            "SanMar",
            "Star Dancewear",
            "Unicorn London",
            "Vineyard Vines",
            "Sabree",
            "Croker clothing",
            "LOCOMO Swimwear",
            "Mitchell & Ness",
            "Peter NygÃ¥rd",
            "Marine",
            "One Step Up Plus",
            "Holden",
            "Young & Reckless",
            "Finaday",
            "Nirvana",
            "Monty Q",
            "BANDOLINOBLU",
            "JSLV",
            "Outdoor Life",
            "Easy",
            "Skirt Sports",
            "ERGO",
            "Boob",
            "Gaspar Gloves",
            "Hemp Hoodlamb",
            "Material Girl",
            "Red Valentino",
            "Beza",
            "5.11",
            "Cotton Traders",
            "NLA",
            "Fashion Apparel",
            "Hook and Tackle",
            "Plejue Inimates",
            "C & C California",
            "King Fromal Wear",
            "Ouray Sportswear",
            "Tokyo Five Brand",
            "ITC",
            "Hold Your Haunches",
            "Huf",
            "Rumina Nursingwear",
            "BKE",
            "John Varvatos Star USA",
            "Rompers and Jumpsuits HS",
            "The Harris Tweed Of Scotland",
            "Big Feet Pjs",
            "Artist Merch",
            "RED KAP",
            "Keds",
            "The SAK",
            "Versace",
            "by Anew",
            "Fratelli",
            "MeMoi",
            "L.O.G.A.",
            "KC&PP",
            "Joe's",
            "Jobar",
            "Evisu",
            "Black Web",
            "Drake",
            "Flakisima",
            "Cardi",
            "Hugo Boss",
            "Mac & Jac",
            "Montefino",
            "ACORN",
            "2EROS",
            "Ride",
            "Coffeeshop",
            "Pony",
            "Invisibelt",
            "NOTW",
            "Bikeraccess",
            "MW22",
            "Lanz",
            "Terra Nomad",
            "Weston Wear",
            "Williamson",
            "Sleepshirt",
            "NEXT LEVEL",
            "econscious",
            "KISSABLE",
            "Hermanny",
            "Givenchy",
            "Malco Modes",
            "GRUNDENS",
            "Ferretti",
            "Crazy Granny",
            "Cuffu Online",
            "Eurotard",
            "Estee Lauder",
            "Eco Swim",
            "Title Boxing",
            "Weathertamer",
            "Cortland",
            "Machine Jeans",
            "Converse",
            "Carolina",
            "Gift Warehouse",
            "Jamaican Style",
            "Lily's Hosiery",
            "MM Collections",
            "My Little Pony",
            "Bitablue",
            "WILLIAM POWERS",
            "Carolyn Forsman",
            "Double Platinum",
            "Fashion Forever",
            "Southern Thread",
            "Standard Supply",
            "Design Salt",
            "Merry Toes",
            "funzee",
            "Lingerie",
            "Nippits",
            "No Fear",
            "Akomplice",
            "Pikante",
            "Sassimi",
            "Synergy",
            "Eel Skin",
            "Holloway",
            "UnderFit",
            "Superdry",
            "PEERLESS",
            "Soft-Fit",
            "Talitnia",
            "Toni Top",
            "Quirinos",
            "Palmland",
            "Booty Pop",
            "Montique",
            "Covington",
            "Dan Smith",
            "F.U.S.A.I",
            "MagicSuit",
            "Sky Brand",
            "SnowAngel",
            "Sportsman",
            "Stormtech",
            "Wayfayrer",
            "Brigi Pj's",
            "MUK LUKS",
            "marshal",
            "Camilla and Marc",
            "Hip Hop 50s Shop",
            "Wolford",
            "Squish",
            "Sympli",
            "YUUUP!",
            "Babakul",
            "Foxfire",
            "Gownies",
            "Parfait",
            "Warrior",
            "Gordini",
            "Desigual",
            "Foxcroft",
            "Firefly",
            "Jeerzees",
            "Konflict",
            "Taraluna",
            "Connected",
            "Newhattan",
            "Penbrooke",
            "DESMIIT",
            "Retro Fit",
            "Sophie b.",
            "Trafalgar",
            "True Rock",
            "Candies",
            "Annette",
            "10 Deep",
            "JOHN DEERE",
            "indigo",
            "Louisville",
            "Mother",
            "Klymit",
            "Halsey",
            "Skyblue",
            "Margaret O'Leary",
            "Boston Industrial",
            "The Posh Contessa",
            "Tiffany",
            "Leather in Chicago",
            "Next Level Apparel",
            "Sosi B.",
            "Brooklyn Industries",
            "Lifetime Collective",
            "NYGiftStop Knit Hat",
            "Worlds Softest Sock",
            "Parfait by Affinitas",
            "Wise Guy Productions",
            "Shupaca",
            "Exocet",
            "Manufactured for Boeing",
            "ShaToBu",
            "Keep On Truckin' Apparel",
            "Teenage Mutant Ninja Turtles",
            "VH Apparel - Whatever It Takes Charity",
            "La Leche League International Intimates",
            "Acne",
            "NCIS",
            "Noppies",
            "Rebel",
            "A-Line",
            "Moncler",
            "Missoni",
            "Spoylt",
            "Aventura",
            "Sock Company",
            "Omit",
            "Rombo",
            "Fluff",
            "Ducti",
            "Coool",
            "Bajer",
            "Baby Banz",
            "Blueprint",
            "Bud Light",
            "Vocal",
            "Cantaloop",
            "Jor",
            "Coca-Cola",
            "Wholesale LOCS DG XLOOP CHOPPERS",
            "The Collection by L*Space",
            "J.America",
            "La Palapa",
            "Sheec",
            "james",
            "Olive Branch Legwear",
            "Surfside",
            "M. Rena",
            "Monarchy",
            "Dr. Who",
            "Changes",
            "Baboosh",
            "Realtree",
            "Softwear",
            "Stussy",
            "Age Group",
            "Woodmont",
            "Revlon",
            "Palmer",
            "Freeze",
            "Equmen",
            "Avital",
            "575 Denim",
            "Hold-Up Suspender Co.",
            "Black Hearts Brigade",
            "Elan USA",
            "Pink Lipstick",
            "Twisted Heart",
            "Tadashi Shoji",
            "Headsweats",
            "Stand Stewart",
            "Sassy Sarongs",
            "Nation LTD",
            "Power Trip",
            "Lady Hathaway",
            "Alice & Olivia",
            "Henry & Belle",
            "Civil Society",
            "Blue Platypus",
            "ShimmyShimmy",
            "ScotlandShop",
            "Rig'Em Right",
            "Revolt Jeans",
            "turkishtowels",
            "Amethyst Jeans",
            "The Big Bang Theory",
            "Signiture",
            "Monologue",
            "Northern Elements",
            "Little Adventures",
            "Jackie's Boutique",
            "RED LEDGE",
            "Bargain Headbands",
            "Social Collision",
            "FASHION BOUTIQUE",
            "Annex Clothing",
            "Plugg Jeans Co.",
            "HARAJUKU LOVERS",
            "Wildman T",
            "Band Merch",
            "Panhandle Slim",
            "Online-Welcome",
            "Field & Stream",
            "TS Swim",
            "Borrelli",
            "BULWARK FR Clothing",
            "Flattering Me",
            "Willow & Clay",
            "Slimming Tees",
            "Motony",
            "Robin Piccone",
            "N-Fini",
            "Natashas Cafe",
            "Lucca Couture",
            "Blancq-Olibet",
            "Caribbean Sand",
            "Newport News",
            "Lynn Ritchie",
            "Sansha",
            "Crystal Tees",
            "Carrie Amber",
            "Black Clover",
            "Scully",
            "Jemcor",
            "Polo Jeans Co.",
            "Addison",
            "Crystalcity-6662",
            "Longitude Swimwear",
            "Christopher Walken",
            "MJC International",
            "Bracli",
            "Creative Artistry",
            "Westmoor Mfg P/s",
            "The Best Dressed",
            "COPEN SPORTSWEAR",
            "Powerhouse Gym",
            "Burlington Socks",
            "Bianca NygÃ¥rd",
            "Lilac Maternity",
            "Corona",
            "Cecico Clothing",
            "Fitsok",
            "Sheer Delights",
            "Sleepyheads",
            "Apparel",
            "Cohesive",
            "SODAtees",
            "Gold Hawk",
            "Flex-Zone",
            "Five Four",
            "Fisherman",
            "FLATSEVEN",
            "Extenders",
            "Carriwell",
            "Lorraine",
            "Rooster",
            "Wembley",
            "Ash City",
            "KidRobot",
            "Islandia",
            "GaelSong",
            "BOOB-EEZ",
            "Crescent",
            "Hydraulic",
            "Liverpool",
            "Bonfire",
            "East Coast",
            "Trendy Top",
            "Danbury",
            "Danshuz",
            "M. Stevens",
            "Love Tease",
            "Lily White",
            "FREEGUN",
            "OPSALES",
            "Ms Maggie",
            "Body Touch",
            "Blue Crown",
            "Pitbull",
            "Vittorino",
            "Vera Want",
            "Sweet Pea",
            "Sansabelt",
            "Out Of Print",
            "Natural Gear",
            "NYfashion101",
            "Voom",
            "Koman",
            "Kikit",
            "Boca Classics",
            "Diamond Plate",
            "IG Clear Lens",
            "Dotti",
            "Aloha",
            "John Varvatos",
            "Loyal",
            "SLS3",
            "RIOT",
            "1826",
            "Wxy",
            "PPU",
            "Nau",
            "NRS",
            "Leo's",
            "Pepsi",
            "INF",
            "Fyasko",
            "Phases",
            "MontyQ",
            "Mishka",
            "Petrol Jeans",
            "Libian",
            "Hannah",
            "Gracia",
            "Vip boutique",
            "Black Diamond",
            "Cocoon",
            "Chasse",
            "Ali Ro",
            "Zicac",
            "Vista",
            "Simms",
            "Pulse",
            "JET",
            "TURKISHTOWELS",
            "Lauren Silva",
            "Spa & Resort Inc.",
            "Luzy's Storage Place",
            "Lloyd Attree & Smith",
            "BENNETT MALIBU",
            "Biography Wear",
            "Marc by Marc Jacobs",
            "Celebrity Pink",
            "Florida Hat Company",
            "RMC Martin Ksohoh",
            "Amnesty International",
            "Sunrise Outlet",
            "Avenged Sevenfold",
            "Christmas Story",
            "Leonardo Valenti",
            "Kovac Industries",
            "Dolphin Shirt Co",
            "Sean Collection",
            "Top Quality Products",
            "Happy Family Clothing",
            "DGK",
            "Karl Lagerfeld for Impulse",
            "BDI",
            "BCO",
            "Susan G. Komen for the CureÂ®",
            "Christmas Vacation Collectibles",
            "Pencey Standard Jessica Hart",
            "Always Sunny In Philadelphia",
            "Teezâˆ’Her",
            "Ralph Lauren Purple Label",
            "SpongeBob SquarePants",
            "EISENBERG INTERNATIONAL",
            "VH Apparel - Kissables",
            "Trendy Tummy Maternity",
            "Luxire Custom Clothing",
            "Hook & Tackle Clothing",
            "Expressiva Nursingwear",
            "Stockings and Romance",
            "Unlead",
            "Vigaro",
            "1veMoon",
            "Moon Dance",
            "BLVCK SCVLE",
            "Ames Walker",
            "e.g. smith",
            "Women Only",
            "Body Trends",
            "Slicon Bra",
            "Scooby Doo",
            "HEART SOUL",
            "TrailHeads",
            "Fancee Free",
            "Foot Petals",
            "Custom '77",
            "Chang King",
            "Burk's Bay",
            "Wearables",
            "Testament",
            "A shore Fit",
            "Lisa Curran",
            "Maggy London",
            "Tabi Socks",
            "Jack O'Neill",
            "Harry Potter",
            "Fellini Uomo",
            "Dylan George",
            "Cooper Jones",
            "Cool Kaftans",
            "Tabbisocks",
            "Agan Traders",
            "Pillow Pets",
            "eight sixty",
            "Vine Branch",
            "TexereSilk",
            "SilverHooks",
            "Shirt Me Up",
            "Ragged Ends",
            "Prima Donna",
            "Island Soul",
            "Silverado",
            "Monte Carlo",
            "Back to Back",
            "Garfield",
            "VIP FASHION",
            "ColdPruf",
            "Buckwear",
            "AmeriBag",
            "Undrest",
            "T Party",
            "M-052BK",
            "Princeton",
            "Dare to Wear",
            "Forrest Gump",
            "French Toast",
            "Fashion",
            "EcoGirl",
            "Bergama",
            "JustNeonTees",
            "Jeanstar",
            "KD dance",
            "Kushcush",
            "Toy Machine",
            "NYC FACTORY",
            "Purpletopia",
            "Eva Varro",
            "RU Sleeping",
            "Ear Mitts",
            "Scott James",
            "Ben Davis",
            "Second Base",
            "Anne Cole",
            "Yourtack",
            "Storm Creek",
            "TIE-DYES",
            "Sgt Frog",
            "RD Style",
            "Nyan Cat",
            "BHPC By Miss London",
            "Forum Novelties Inc.",
            "beltiscool",
            "Kari's Fashion",
            "Knoles&Carter",
            "Easy Expression",
            "CTR Specialties",
            "MommyMilkÂ®",
            "Private Member",
            "Railroad Sock",
            "Snug Camisole",
            "Steel Paisley",
            "Green with Envy",
            "Emerson Street",
            "Thermal Sport",
            "Modus Vivendi",
            "2117 of Sweden",
            "Lauren Kiyomi",
            "Animal Planet",
            "Tori Richard",
            "Green 3 Apparel",
            "VX Intimate Inc",
            "Sailor Jerry",
            "ArtsyClothingCompany",
            "Gloves Online",
            "ILSE JACOBSEN",
            "Billionaire Boys Club",
            "erin Erin Fetherston",
            "VH Apparel - Grippem",
            "Creative Irish Gifts",
            "Assassin's Creed III",
            "Jen's Pirate Booty",
            "Field and Stream",
            "Bloomingdale's Now",
            "TC Fine Intimates",
            "Saved by the Bell",
            "Kashwere Comforts",
            "Trenway Textiles",
            "Sperry Top-Sider",
            "Hollywood Mirror",
            "TUMMY LINERS",
            "MK underwear",
            "I5",
            "Chica Rica",
            "Jesus Said",
            "College Classics",
            "Dukes of Hazzard",
            "Fleur Of England",
            "Eagle Eyes",
            "Dolce Vita",
            "Crazeewear",
            "Alexanders",
            "Leon Levin",
            "Ooh La La",
            "L.A. Idol",
            "Bertolini",
            "KY INTERNATIONAL",
            "ALL BLACK",
            "LLange Maternity",
            "under.me",
            "July Women",
            "Mainstream",
            "La Fee Verte",
            "Bluefin USA",
            "Steve & Barrys",
            "Buster Brown",
            "Solid Color",
            "Brooks Brothers",
            "LA LECHE LEAGUE",
            "Gilden Tree",
            "Giada Forte",
            "Ark apparel",
            "PajamaCity",
            "Andrew Marc",
            "Western Express",
            "WonderWink",
            "Alexander Julian",
            "Topo Ranch",
            "Soul Eater",
            "Sharon Max",
            "Collegiate Surf and Sport",
            "Apparel Force",
            "Legendary Whitetails",
            "Lip Service",
            "City Hunter",
            "Hilton Bay",
            "City Lights",
            "GPUFashion",
            "Helmut Lang",
            "Just a Kiss",
            "LAST KISS",
            "Made in USA",
            "RocketWear",
            "Choye Toi",
            "BluePrint",
            "Miraclebody",
            "Akademiks",
            "PacificPlex",
            "Visconti",
            "Peter Grimm",
            "Red Carter",
            "Travelwell",
            "Serenity",
            "Projeck Raw",
            "Empress Silk",
            "Adi Designs",
            "COLD STORAGE",
            "Armani Jeans",
            "Spreadshirt",
            "Serfontaine",
            "Sandals Cay",
            "Pistol Pete",
            "Alan Sloane",
            "Paper Magic",
            "Night Shirt",
            "Knox Armory",
            "J.Lindeberg",
            "Flyclothing",
            "Ann Michell",
            "Cotton Glam",
            "Retro Brand",
            "Seinfeld",
            "Yala Designs",
            "J Hat",
            "Cowgirl Tuff",
            "Mizuno",
            "FASH Limited",
            "LAGUNA BEACH",
            "Plush",
            "Love Squared",
            "Makia",
            "Merch Makers",
            "Belly Button",
            "Flirt",
            "Elita",
            "One Teaspoon",
            "Atlas",
            "Apt 9",
            "Tyte",
            "Peds",
            "Brand Q Vest",
            "Runway",
            "Slim N Lift",
            "Taxi Wallet",
            "Kassatex",
            "Stan Herman",
            "Coldpruf",
            "BonWorth",
            "Beardski",
            "Super Mario",
            "Aviators",
            "Solemio",
            "Tehama",
            "Parquet",
            "White Lotus",
            "Ymid Select",
            "Insound",
            "Atti Fashion",
            "Beach Native",
            "Ungaro",
            "West End",
            "Lanz of Salzburg",
            "Outdoor Gear Inc",
            "Obviously",
            "ESPN",
            "FRYE",
            "CoffeeShop",
            "C.C. World",
            "wear ease",
            "Star Trek",
            "Medi",
            "My1stWish",
            "Ms. Maggie",
            "NEVE",
            "Loravicci",
            "Kurochiku",
            "Fun Boxer",
            "Freestyle",
            "Dunbrooke",
            "Chances R",
            "HipSlimmer",
            "Paper Doll",
            "'47 Brand",
            "NEARLY NUDE",
            "PassionSpice",
            "Pajama Jeans",
            "NNW",
            "Irall Erotic",
            "SGG",
            "Alpine Swiss",
            "The TeaRoom",
            "STY",
            "Rock Rebel",
            "Anue",
            "German Wear",
            "Extreme 80s",
            "Bohn",
            "Chap",
            "SlideBelts",
            "Sentiments",
            "SNUG",
            "Snob",
            "Ties.com",
            "Eros",
            "Valor",
            "Rojas",
            "URBAN",
            "SPURR",
            "CINCH",
            "Roar",
            "ZOCKS",
            "Bump",
            "Rails",
            "Zinke",
            "Miraclebody by Miraclesuit",
            "Emanuel by Emanuel Ungaro",
            "Armani",
            "UltraSofts by National",
            "BiFlex Intimates Group",
            "89th &#x0026; Madison",
            "Balega",
            "ROGUE",
            "Kena Kai",
            "Candela",
            "Tuga",
            "Winn",
            "Brighton",
            "Bosca",
            "DandY",
            "Case IH",
            "Dasha",
            "AriZona",
            "Drymax",
            "Amicale",
            "Wurkin",
            "Fever",
            "Kavio",
            "Matrix",
            "Lot 29",
            "Ducati",
            "MR",
            "DTL Down The Line Sportswear Inc.",
            "Swim Station",
            "M.Mac",
            "Single",
            "Pacman",
            "necessary objects",
            "GoLite",
            "Christopher Kelenc",
            "Rivet De Cru Jeans",
            "California Costumes",
            "Iisli",
            "Roger Enterprises",
            "East Valley Apparel",
            "Dessy",
            "Escargot Sportswear",
            "Handkerchief Heaven",
            "YUMS",
            "Swan",
            "HodoHome Loungewear",
            "Sprawl",
            "X-Loop",
            "Touch of Europe Shirts & Tops",
            "Paradox",
            "MV Sport",
            "Heritage",
            "Steve and Barrys",
            "Escantee",
            "Bunheads",
            "World Industries",
            "SEOBEAN",
            "By The Sword Inc.",
            "Antigua",
            "Carmen Marc Valvo",
            "HeatMax",
            "Escante",
            "Corcini",
            "Celeste",
            "CASE IH",
            "Colorado Clothing",
            "Pamela Mann Hosiery",
            "Spacific Essentials",
            "Beverly Hills Basics",
            "BODYSLIMMERS Nancy Ganz",
            "So Wear it declare it",
            "Giorgio Brutini",
            "Antonio Ansaldi",
            "PLATINUM SPORT",
            "Hampton Direct",
            "Executive Dress Series",
            "Fashion Gloves",
            "Plastics Made in U.S.A.",
            "Anew",
            "Trash Nouveau",
            "Panda Apparel",
            "Mummy Darling",
            "Mountain Mama",
            "Morgan Taylor",
            "Concepts Touchscreen Gloves",
            "Onyx-Arctic Shield-X-System",
            "Soft Sensations",
            "Pistol Pete Underwear",
            "Out of Print Clothing",
            "Good Life Shirts",
            "Classics By Palmland",
            "E2E",
            "TD",
            "mens cotton mix argyle socks",
            "Girlfriends Material",
            "B. B. Jeans Fashion",
            "Seven Til Midnight",
            "Flint and Tinder USA",
            "Sheer Iridesscent",
            "NYGiftStop Winter",
            "Maggie's Organics",
            "Legendary Apparel",
            "NygÃ¥rd Collection",
            "A Christmas Story",
            "Pookies by DFDesigns",
            "DeepPocket"
           ],
           [
            1034,
            497,
            388,
            308,
            292,
            263,
            259,
            257,
            251,
            236,
            231,
            220,
            218,
            196,
            193,
            188,
            185,
            178,
            176,
            172,
            170,
            168,
            161,
            154,
            150,
            144,
            143,
            141,
            138,
            136,
            135,
            134,
            130,
            128,
            125,
            121,
            119,
            118,
            117,
            113,
            110,
            110,
            107,
            106,
            106,
            104,
            99,
            95,
            93,
            92,
            90,
            89,
            89,
            82,
            81,
            81,
            80,
            78,
            78,
            78,
            77,
            77,
            77,
            76,
            75,
            75,
            75,
            73,
            73,
            72,
            71,
            69,
            68,
            68,
            67,
            66,
            66,
            66,
            65,
            65,
            64,
            63,
            63,
            63,
            63,
            62,
            60,
            60,
            58,
            58,
            58,
            57,
            57,
            56,
            56,
            56,
            56,
            55,
            55,
            55,
            55,
            55,
            54,
            54,
            54,
            53,
            53,
            52,
            52,
            52,
            52,
            51,
            51,
            51,
            50,
            49,
            48,
            48,
            48,
            48,
            48,
            48,
            47,
            47,
            47,
            46,
            46,
            46,
            46,
            46,
            45,
            44,
            44,
            44,
            42,
            42,
            42,
            42,
            42,
            41,
            41,
            41,
            41,
            41,
            40,
            40,
            40,
            40,
            39,
            39,
            39,
            38,
            38,
            38,
            38,
            38,
            37,
            36,
            36,
            36,
            36,
            36,
            36,
            35,
            35,
            35,
            34,
            34,
            34,
            33,
            33,
            33,
            33,
            33,
            33,
            33,
            33,
            32,
            32,
            32,
            32,
            32,
            32,
            32,
            32,
            32,
            32,
            31,
            31,
            31,
            31,
            31,
            31,
            31,
            31,
            31,
            30,
            30,
            30,
            30,
            30,
            29,
            29,
            29,
            29,
            29,
            28,
            28,
            28,
            28,
            28,
            28,
            28,
            28,
            28,
            28,
            28,
            27,
            27,
            27,
            27,
            27,
            27,
            27,
            27,
            27,
            27,
            27,
            26,
            26,
            26,
            26,
            26,
            26,
            25,
            25,
            25,
            25,
            25,
            25,
            25,
            25,
            25,
            25,
            25,
            25,
            25,
            24,
            24,
            24,
            24,
            24,
            24,
            24,
            24,
            24,
            24,
            24,
            24,
            24,
            24,
            23,
            23,
            23,
            23,
            23,
            23,
            23,
            23,
            23,
            23,
            23,
            22,
            22,
            22,
            22,
            22,
            22,
            22,
            22,
            22,
            22,
            22,
            22,
            21,
            21,
            21,
            21,
            21,
            21,
            21,
            21,
            21,
            21,
            21,
            21,
            21,
            21,
            21,
            21,
            21,
            21,
            20,
            20,
            20,
            20,
            20,
            20,
            20,
            20,
            20,
            20,
            20,
            20,
            20,
            20,
            20,
            19,
            19,
            19,
            19,
            19,
            19,
            19,
            19,
            19,
            19,
            19,
            19,
            19,
            19,
            19,
            19,
            19,
            19,
            19,
            19,
            19,
            19,
            19,
            18,
            18,
            18,
            18,
            18,
            18,
            18,
            18,
            18,
            18,
            18,
            18,
            17,
            17,
            17,
            17,
            17,
            17,
            17,
            17,
            17,
            17,
            17,
            17,
            17,
            17,
            16,
            16,
            16,
            16,
            16,
            16,
            16,
            16,
            16,
            16,
            16,
            16,
            16,
            16,
            16,
            16,
            16,
            15,
            15,
            15,
            15,
            15,
            15,
            15,
            15,
            15,
            15,
            15,
            15,
            15,
            15,
            15,
            15,
            15,
            15,
            15,
            15,
            15,
            15,
            15,
            15,
            15,
            15,
            15,
            15,
            14,
            14,
            14,
            14,
            14,
            14,
            14,
            14,
            14,
            14,
            14,
            14,
            14,
            14,
            14,
            14,
            14,
            14,
            14,
            14,
            14,
            14,
            14,
            14,
            14,
            14,
            14,
            14,
            14,
            14,
            14,
            13,
            13,
            13,
            13,
            13,
            13,
            13,
            13,
            13,
            13,
            13,
            13,
            13,
            13,
            13,
            13,
            13,
            13,
            13,
            13,
            13,
            13,
            13,
            13,
            13,
            12,
            12,
            12,
            12,
            12,
            12,
            12,
            12,
            12,
            12,
            12,
            12,
            12,
            12,
            12,
            12,
            12,
            12,
            12,
            12,
            12,
            12,
            12,
            12,
            12,
            12,
            12,
            12,
            12,
            12,
            12,
            12,
            11,
            11,
            11,
            11,
            11,
            11,
            11,
            11,
            11,
            11,
            11,
            11,
            11,
            11,
            11,
            11,
            11,
            11,
            11,
            11,
            11,
            11,
            11,
            11,
            11,
            11,
            11,
            11,
            11,
            11,
            11,
            11,
            11,
            11,
            11,
            11,
            11,
            11,
            11,
            11,
            11,
            11,
            10,
            10,
            10,
            10,
            10,
            10,
            10,
            10,
            10,
            10,
            10,
            10,
            10,
            10,
            10,
            10,
            10,
            10,
            10,
            10,
            10,
            10,
            10,
            10,
            10,
            10,
            10,
            10,
            10,
            10,
            10,
            10,
            10,
            10,
            10,
            10,
            10,
            10,
            10,
            10,
            10,
            10,
            10,
            9,
            9,
            9,
            9,
            9,
            9,
            9,
            9,
            9,
            9,
            9,
            9,
            9,
            9,
            9,
            9,
            9,
            9,
            9,
            9,
            9,
            9,
            9,
            9,
            9,
            9,
            9,
            9,
            9,
            9,
            9,
            9,
            9,
            9,
            9,
            9,
            9,
            9,
            9,
            9,
            9,
            9,
            9,
            9,
            9,
            9,
            9,
            9,
            9,
            9,
            9,
            8,
            8,
            8,
            8,
            8,
            8,
            8,
            8,
            8,
            8,
            8,
            8,
            8,
            8,
            8,
            8,
            8,
            8,
            8,
            8,
            8,
            8,
            8,
            8,
            8,
            8,
            8,
            8,
            8,
            8,
            8,
            8,
            8,
            8,
            8,
            8,
            8,
            8,
            8,
            8,
            8,
            8,
            8,
            8,
            8,
            8,
            8,
            8,
            8,
            8,
            8,
            8,
            8,
            8,
            8,
            8,
            8,
            8,
            8,
            7,
            7,
            7,
            7,
            7,
            7,
            7,
            7,
            7,
            7,
            7,
            7,
            7,
            7,
            7,
            7,
            7,
            7,
            7,
            7,
            7,
            7,
            7,
            7,
            7,
            7,
            7,
            7,
            7,
            7,
            7,
            7,
            7,
            7,
            7,
            7,
            7,
            7,
            7,
            7,
            7,
            7,
            7,
            7,
            7,
            7,
            7,
            7,
            7,
            7,
            7,
            7,
            7,
            7,
            7,
            7,
            7,
            7,
            7,
            7,
            7,
            7,
            7,
            7,
            7,
            7,
            7,
            7,
            7,
            7,
            7,
            7,
            7,
            7,
            7,
            7,
            7,
            7,
            6,
            6,
            6,
            6,
            6,
            6,
            6,
            6,
            6,
            6,
            6,
            6,
            6,
            6,
            6,
            6,
            6,
            6,
            6,
            6,
            6,
            6,
            6,
            6,
            6,
            6,
            6,
            6,
            6,
            6,
            6,
            6,
            6,
            6,
            6,
            6,
            6,
            6,
            6,
            6,
            6,
            6,
            6,
            6,
            6,
            6,
            6,
            6,
            6,
            6,
            6,
            6,
            6,
            6,
            6,
            6,
            6,
            6,
            6,
            6,
            6,
            6,
            6,
            6,
            6,
            6,
            6,
            6,
            6,
            6,
            6,
            6,
            6,
            6,
            6,
            6,
            6,
            6,
            6,
            6,
            6,
            6,
            6,
            6,
            6,
            6,
            6,
            6,
            6,
            6,
            6,
            6,
            6,
            6,
            6,
            6,
            6,
            5,
            5,
            5,
            5,
            5,
            5,
            5,
            5,
            5,
            5,
            5,
            5,
            5,
            5,
            5,
            5,
            5,
            5,
            5,
            5,
            5,
            5,
            5,
            5,
            5,
            5,
            5,
            5,
            5,
            5,
            5,
            5,
            5,
            5,
            5,
            5,
            5,
            5,
            5,
            5,
            5,
            5,
            5,
            5,
            5,
            5,
            5,
            5,
            5,
            5,
            5,
            5,
            5,
            5,
            5,
            5,
            5,
            5,
            5,
            5,
            5,
            5,
            5,
            5,
            5,
            5,
            5,
            5,
            5,
            5,
            5,
            5,
            5,
            5,
            5,
            5,
            5,
            5,
            5,
            5,
            5,
            5,
            5,
            5,
            5,
            5,
            5,
            5,
            5,
            5,
            5,
            5,
            5,
            5,
            5,
            5,
            5,
            5,
            5,
            5,
            5,
            5,
            5,
            5,
            5,
            5,
            5,
            5,
            5,
            5,
            5,
            5,
            5,
            5,
            5,
            5,
            5,
            5,
            4,
            4,
            4,
            4,
            4,
            4,
            4,
            4,
            4,
            4,
            4,
            4,
            4,
            4,
            4,
            4,
            4,
            4,
            4,
            4,
            4,
            4,
            4,
            4,
            4,
            4,
            4,
            4,
            4,
            4,
            4,
            4,
            4,
            4,
            4,
            4,
            4,
            4,
            4,
            4,
            4,
            4,
            4,
            4,
            4,
            4,
            4,
            4,
            4,
            4,
            4,
            4,
            4,
            4,
            4,
            4,
            4,
            4,
            4,
            4,
            4,
            4,
            4,
            4,
            4,
            4,
            4,
            4,
            4,
            4,
            4,
            4,
            4,
            4,
            4,
            4,
            4,
            4,
            4,
            4,
            4,
            4,
            4,
            4,
            4,
            4,
            4,
            4,
            4,
            4,
            4,
            4,
            4,
            4,
            4,
            4,
            4,
            4,
            4,
            4,
            4,
            4,
            4,
            4,
            4,
            4,
            4,
            4,
            4,
            4,
            4,
            4,
            4,
            4,
            4,
            4,
            4,
            4,
            4,
            4,
            4,
            4,
            4,
            4,
            4,
            4,
            4,
            4,
            4,
            4,
            4,
            4,
            4,
            4,
            4,
            4,
            4,
            4,
            4,
            4,
            4,
            4,
            4,
            4,
            4,
            3,
            3,
            3,
            3,
            3,
            3,
            3,
            3,
            3,
            3,
            3,
            3,
            3,
            3,
            3,
            3,
            3,
            3,
            3,
            3,
            3,
            3,
            3,
            3,
            3,
            3,
            3,
            3,
            3,
            3,
            3,
            3,
            3,
            3,
            3,
            3,
            3,
            3,
            3,
            3,
            3,
            3,
            3,
            3,
            3,
            3,
            3,
            3,
            3,
            3,
            3,
            3,
            3,
            3,
            3,
            3,
            3,
            3,
            3,
            3,
            3,
            3,
            3,
            3,
            3,
            3,
            3,
            3,
            3,
            3,
            3,
            3,
            3,
            3,
            3,
            3,
            3,
            3,
            3,
            3,
            3,
            3,
            3,
            3,
            3,
            3,
            3,
            3,
            3,
            3,
            3,
            3,
            3,
            3,
            3,
            3,
            3,
            3,
            3,
            3,
            3,
            3,
            3,
            3,
            3,
            3,
            3,
            3,
            3,
            3,
            3,
            3,
            3,
            3,
            3,
            3,
            3,
            3,
            3,
            3,
            3,
            3,
            3,
            3,
            3,
            3,
            3,
            3,
            3,
            3,
            3,
            3,
            3,
            3,
            3,
            3,
            3,
            3,
            3,
            3,
            3,
            3,
            3,
            3,
            3,
            3,
            3,
            3,
            3,
            3,
            3,
            3,
            3,
            3,
            3,
            3,
            3,
            3,
            3,
            3,
            3,
            3,
            3,
            3,
            3,
            3,
            3,
            3,
            3,
            3,
            3,
            3,
            3,
            3,
            3,
            3,
            3,
            3,
            3,
            3,
            3,
            3,
            3,
            3,
            3,
            3,
            3,
            3,
            3,
            3,
            3,
            3,
            3,
            3,
            3,
            3,
            3,
            3,
            3,
            3,
            3,
            3,
            3,
            3,
            3,
            3,
            3,
            3,
            3,
            3,
            3,
            3,
            3,
            3,
            3,
            3,
            3,
            3,
            3,
            3,
            3,
            3,
            3,
            3,
            3,
            3,
            3,
            3,
            3,
            3,
            3,
            3,
            3,
            3,
            3,
            3,
            2,
            2,
            2,
            2,
            2,
            2,
            2,
            2,
            2,
            2,
            2,
            2,
            2,
            2,
            2,
            2,
            2,
            2,
            2,
            2,
            2,
            2,
            2,
            2,
            2,
            2,
            2,
            2,
            2,
            2,
            2,
            2,
            2,
            2,
            2,
            2,
            2,
            2,
            2,
            2,
            2,
            2,
            2,
            2,
            2,
            2,
            2,
            2,
            2,
            2,
            2,
            2,
            2,
            2,
            2,
            2,
            2,
            2,
            2,
            2,
            2,
            2,
            2,
            2,
            2,
            2,
            2,
            2,
            2,
            2,
            2,
            2,
            2,
            2,
            2,
            2,
            2,
            2,
            2,
            2,
            2,
            2,
            2,
            2,
            2,
            2,
            2,
            2,
            2,
            2,
            2,
            2,
            2,
            2,
            2,
            2,
            2,
            2,
            2,
            2,
            2,
            2,
            2,
            2,
            2,
            2,
            2,
            2,
            2,
            2,
            2,
            2,
            2,
            2,
            2,
            2,
            2,
            2,
            2,
            2,
            2,
            2,
            2,
            2,
            2,
            2,
            2,
            2,
            2,
            2,
            2,
            2,
            2,
            2,
            2,
            2,
            2,
            2,
            2,
            2,
            2,
            2,
            2,
            2,
            2,
            2,
            2,
            2,
            2,
            2,
            2,
            2,
            2,
            2,
            2,
            2,
            2,
            2,
            2,
            2,
            2,
            2,
            2,
            2,
            2,
            2,
            2,
            2,
            2,
            2,
            2,
            2,
            2,
            2,
            2,
            2,
            2,
            2,
            2,
            2,
            2,
            2,
            2,
            2,
            2,
            2,
            2,
            2,
            2,
            2,
            2,
            2,
            2,
            2,
            2,
            2,
            2,
            2,
            2,
            2,
            2,
            2,
            2,
            2,
            2,
            2,
            2,
            2,
            2,
            2,
            2,
            2,
            2,
            2,
            2,
            2,
            2,
            2,
            2,
            2,
            2,
            2,
            2,
            2,
            2,
            2,
            2,
            2,
            2,
            2,
            2,
            2,
            2,
            2,
            2,
            2,
            2,
            2,
            2,
            2,
            2,
            2,
            2,
            2,
            2,
            2,
            2,
            2,
            2,
            2,
            2,
            2,
            2,
            2,
            2,
            2,
            2,
            2,
            2,
            2,
            2,
            2,
            2,
            2,
            2,
            2,
            2,
            2,
            2,
            2,
            2,
            2,
            2,
            2,
            2,
            2,
            2,
            2,
            2,
            2,
            2,
            2,
            2,
            2,
            2,
            2,
            2,
            2,
            2,
            2,
            2,
            2,
            2,
            2,
            2,
            2,
            2,
            2,
            2,
            2,
            2,
            2,
            2,
            2,
            2,
            2,
            2,
            2,
            2,
            2,
            2,
            2,
            2,
            2,
            2,
            2,
            2,
            2,
            2,
            2,
            2,
            2,
            2,
            2,
            2,
            2,
            2,
            2,
            2,
            2,
            2,
            2,
            2,
            2,
            2,
            2,
            2,
            2,
            2,
            2,
            2,
            2,
            2,
            2,
            2,
            2,
            2,
            2,
            2,
            2,
            2,
            2,
            2,
            2,
            2,
            2,
            2,
            2,
            2,
            2,
            2,
            2,
            2,
            2,
            2,
            2,
            2,
            2,
            2,
            2,
            2,
            2,
            2,
            2,
            2,
            2,
            2,
            2,
            2,
            2,
            2,
            2,
            2,
            2,
            2,
            2,
            2,
            2,
            2,
            2,
            2,
            2,
            2,
            2,
            2,
            2,
            2,
            2,
            2,
            2,
            2,
            2,
            2,
            2,
            2,
            2,
            2,
            2,
            2,
            2,
            2,
            2,
            2,
            2,
            2,
            2,
            2,
            2,
            2,
            2,
            2,
            2,
            2,
            2,
            2,
            2,
            2,
            2,
            2,
            1,
            1,
            1,
            1,
            1,
            1,
            1,
            1,
            1,
            1,
            1,
            1,
            1,
            1,
            1,
            1,
            1,
            1,
            1,
            1,
            1,
            1,
            1,
            1,
            1,
            1,
            1,
            1,
            1,
            1,
            1,
            1,
            1,
            1,
            1,
            1,
            1,
            1,
            1,
            1,
            1,
            1,
            1,
            1,
            1,
            1,
            1,
            1,
            1,
            1,
            1,
            1,
            1,
            1,
            1,
            1,
            1,
            1,
            1,
            1,
            1,
            1,
            1,
            1,
            1,
            1,
            1,
            1,
            1,
            1,
            1,
            1,
            1,
            1,
            1,
            1,
            1,
            1,
            1,
            1,
            1,
            1,
            1,
            1,
            1,
            1,
            1,
            1,
            1,
            1,
            1,
            1,
            1,
            1,
            1,
            1,
            1,
            1,
            1,
            1,
            1,
            1,
            1,
            1,
            1,
            1,
            1,
            1,
            1,
            1,
            1,
            1,
            1,
            1,
            1,
            1,
            1,
            1,
            1,
            1,
            1,
            1,
            1,
            1,
            1,
            1,
            1,
            1,
            1,
            1,
            1,
            1,
            1,
            1,
            1,
            1,
            1,
            1,
            1,
            1,
            1,
            1,
            1,
            1,
            1,
            1,
            1,
            1,
            1,
            1,
            1,
            1,
            1,
            1,
            1,
            1,
            1,
            1,
            1,
            1,
            1,
            1,
            1,
            1,
            1,
            1,
            1,
            1,
            1,
            1,
            1,
            1,
            1,
            1,
            1,
            1,
            1,
            1,
            1,
            1,
            1,
            1,
            1,
            1,
            1,
            1,
            1,
            1,
            1,
            1,
            1,
            1,
            1,
            1,
            1,
            1,
            1,
            1,
            1,
            1,
            1,
            1,
            1,
            1,
            1,
            1,
            1,
            1,
            1,
            1,
            1,
            1,
            1,
            1,
            1,
            1,
            1,
            1,
            1,
            1,
            1,
            1,
            1,
            1,
            1,
            1,
            1,
            1,
            1,
            1,
            1,
            1,
            1,
            1,
            1,
            1,
            1,
            1,
            1,
            1,
            1,
            1,
            1,
            1,
            1,
            1,
            1,
            1,
            1,
            1,
            1,
            1,
            1,
            1,
            1,
            1,
            1,
            1,
            1,
            1,
            1,
            1,
            1,
            1,
            1,
            1,
            1,
            1,
            1,
            1,
            1,
            1,
            1,
            1,
            1,
            1,
            1,
            1,
            1,
            1,
            1,
            1,
            1,
            1,
            1,
            1,
            1,
            1,
            1,
            1,
            1,
            1,
            1,
            1,
            1,
            1,
            1,
            1,
            1,
            1,
            1,
            1,
            1,
            1,
            1,
            1,
            1,
            1,
            1,
            1,
            1,
            1,
            1,
            1,
            1,
            1,
            1,
            1,
            1,
            1,
            1,
            1,
            1,
            1,
            1,
            1,
            1,
            1,
            1,
            1,
            1,
            1,
            1,
            1,
            1,
            1,
            1,
            1,
            1,
            1,
            1,
            1,
            1,
            1,
            1,
            1,
            1,
            1,
            1,
            1,
            1,
            1,
            1,
            1,
            1,
            1,
            1,
            1,
            1,
            1,
            1,
            1,
            1,
            1,
            1,
            1,
            1,
            1,
            1,
            1,
            1,
            1,
            1,
            1,
            1,
            1,
            1,
            1,
            1,
            1,
            1,
            1,
            1,
            1,
            1,
            1,
            1,
            1,
            1,
            1,
            1,
            1,
            1,
            1,
            1,
            1,
            1,
            1,
            1,
            1,
            1,
            1,
            1,
            1,
            1,
            1,
            1,
            1,
            1,
            1,
            1,
            1,
            1,
            1,
            1,
            1,
            1,
            1,
            1,
            1,
            1,
            1,
            1,
            1,
            1,
            1,
            1,
            1,
            1,
            1,
            1,
            1,
            1,
            1,
            1,
            1,
            1,
            1,
            1,
            1,
            1,
            1,
            1,
            1,
            1,
            1,
            1,
            1,
            1,
            1,
            1,
            1,
            1,
            1,
            1,
            1,
            1,
            1,
            1,
            1,
            1,
            1,
            1,
            1,
            1,
            1,
            1,
            1,
            1,
            1,
            1,
            1,
            1,
            1,
            1,
            1,
            1,
            1,
            1,
            1,
            1,
            1,
            1,
            1,
            1,
            1,
            1,
            1,
            1,
            1,
            1,
            1,
            1,
            1,
            1,
            1,
            1,
            1,
            1,
            1,
            1,
            1,
            1,
            1,
            1,
            1,
            1,
            1,
            1,
            1,
            1,
            1,
            1,
            1,
            1,
            1,
            1,
            1,
            1,
            1,
            1,
            1,
            1,
            1,
            1,
            1,
            1,
            1,
            1,
            1,
            1,
            1,
            1,
            1,
            1,
            1,
            1,
            1,
            1,
            1,
            1,
            1,
            1,
            1,
            1,
            1,
            1,
            1,
            1,
            1,
            1,
            1,
            1,
            1,
            1,
            1,
            1,
            1,
            1,
            1,
            1,
            1,
            1,
            1,
            1,
            1,
            1,
            1,
            1,
            1,
            1,
            1,
            1,
            1,
            1,
            1,
            1,
            1,
            1,
            1,
            1,
            1,
            1,
            1,
            1,
            1,
            1,
            1,
            1,
            1,
            1,
            1,
            1,
            1,
            1,
            1,
            1,
            1,
            1,
            1,
            1,
            1,
            1,
            1,
            1,
            1,
            1,
            1,
            1,
            1,
            1,
            1,
            1,
            1,
            1,
            1,
            1,
            1,
            1,
            1,
            1,
            1,
            1,
            1,
            1,
            1,
            1,
            1,
            1,
            1,
            1,
            1,
            1,
            1,
            1,
            1,
            1,
            1,
            1,
            1,
            1,
            1,
            1,
            1,
            1,
            1,
            1,
            1,
            1,
            1,
            1,
            1,
            1,
            1,
            1,
            1,
            1,
            1,
            1,
            1,
            1,
            1,
            1,
            1,
            1,
            1,
            1,
            1,
            1,
            1,
            1,
            1,
            1,
            1,
            1,
            1,
            1,
            1,
            1,
            1,
            1,
            1,
            1,
            1,
            1,
            1,
            1,
            1,
            1,
            1,
            1,
            1,
            1,
            1,
            1,
            1,
            1,
            1,
            1,
            1,
            1,
            1,
            1,
            1,
            1,
            1,
            1,
            1,
            1,
            1,
            1,
            1,
            1,
            1,
            1,
            1,
            1,
            1,
            1,
            1,
            1,
            1,
            1,
            1,
            1,
            1,
            1,
            1,
            1,
            1,
            1,
            1,
            1,
            1,
            1,
            1,
            1,
            1,
            1,
            1,
            1,
            1,
            1,
            1,
            1,
            1,
            1,
            1,
            1,
            1,
            1,
            1,
            1,
            1,
            1,
            1,
            1,
            1,
            1,
            1,
            1,
            1,
            1,
            1,
            1,
            1,
            1,
            1,
            1,
            1,
            1,
            1,
            1,
            1,
            1,
            1,
            1,
            1,
            1,
            1,
            1,
            1,
            1,
            1,
            1,
            1,
            1,
            1,
            1,
            1,
            1,
            1,
            1,
            1,
            1,
            1,
            1,
            1,
            1,
            1,
            1,
            1,
            1,
            1,
            1,
            1,
            1,
            1,
            1,
            1,
            1,
            1,
            1,
            1,
            1,
            1,
            1,
            1,
            1,
            1,
            1,
            1,
            1,
            1,
            1,
            1,
            1,
            1,
            1,
            1,
            1,
            1,
            1,
            1,
            1,
            1,
            1,
            1,
            1,
            1,
            1,
            1,
            1,
            1,
            1,
            1,
            1,
            1,
            1,
            1,
            1,
            1,
            1,
            1,
            1,
            1,
            1,
            1,
            1,
            1,
            1,
            1,
            1,
            1,
            1,
            1,
            1,
            1,
            1,
            1,
            1,
            1,
            1,
            1,
            1,
            1,
            1,
            1,
            1,
            1,
            1,
            1,
            1,
            1,
            1,
            1,
            1,
            1,
            1,
            1,
            1,
            1,
            1,
            1,
            1,
            1,
            1,
            1,
            1,
            1,
            1,
            1,
            1,
            1,
            1,
            1,
            1,
            1,
            1,
            1,
            1,
            1,
            1,
            1,
            1,
            1,
            1,
            1,
            1,
            1,
            1,
            1,
            1,
            1,
            1,
            1,
            1,
            1,
            1,
            1,
            1,
            1,
            1,
            1,
            1,
            1,
            1,
            1,
            1,
            1,
            1,
            1,
            1,
            1,
            1,
            1,
            1,
            1,
            1,
            1,
            1,
            1,
            1,
            1,
            1,
            1,
            1,
            1,
            1
           ]
          ]
         },
         "header": {
          "align": "left",
          "fill": {
           "color": "paleturquoise"
          },
          "values": [
           "Brand",
           "Count"
          ]
         },
         "type": "table"
        }
       ],
       "layout": {
        "template": {
         "data": {
          "bar": [
           {
            "error_x": {
             "color": "#2a3f5f"
            },
            "error_y": {
             "color": "#2a3f5f"
            },
            "marker": {
             "line": {
              "color": "#E5ECF6",
              "width": 0.5
             },
             "pattern": {
              "fillmode": "overlay",
              "size": 10,
              "solidity": 0.2
             }
            },
            "type": "bar"
           }
          ],
          "barpolar": [
           {
            "marker": {
             "line": {
              "color": "#E5ECF6",
              "width": 0.5
             },
             "pattern": {
              "fillmode": "overlay",
              "size": 10,
              "solidity": 0.2
             }
            },
            "type": "barpolar"
           }
          ],
          "carpet": [
           {
            "aaxis": {
             "endlinecolor": "#2a3f5f",
             "gridcolor": "white",
             "linecolor": "white",
             "minorgridcolor": "white",
             "startlinecolor": "#2a3f5f"
            },
            "baxis": {
             "endlinecolor": "#2a3f5f",
             "gridcolor": "white",
             "linecolor": "white",
             "minorgridcolor": "white",
             "startlinecolor": "#2a3f5f"
            },
            "type": "carpet"
           }
          ],
          "choropleth": [
           {
            "colorbar": {
             "outlinewidth": 0,
             "ticks": ""
            },
            "type": "choropleth"
           }
          ],
          "contour": [
           {
            "colorbar": {
             "outlinewidth": 0,
             "ticks": ""
            },
            "colorscale": [
             [
              0,
              "#0d0887"
             ],
             [
              0.1111111111111111,
              "#46039f"
             ],
             [
              0.2222222222222222,
              "#7201a8"
             ],
             [
              0.3333333333333333,
              "#9c179e"
             ],
             [
              0.4444444444444444,
              "#bd3786"
             ],
             [
              0.5555555555555556,
              "#d8576b"
             ],
             [
              0.6666666666666666,
              "#ed7953"
             ],
             [
              0.7777777777777778,
              "#fb9f3a"
             ],
             [
              0.8888888888888888,
              "#fdca26"
             ],
             [
              1,
              "#f0f921"
             ]
            ],
            "type": "contour"
           }
          ],
          "contourcarpet": [
           {
            "colorbar": {
             "outlinewidth": 0,
             "ticks": ""
            },
            "type": "contourcarpet"
           }
          ],
          "heatmap": [
           {
            "colorbar": {
             "outlinewidth": 0,
             "ticks": ""
            },
            "colorscale": [
             [
              0,
              "#0d0887"
             ],
             [
              0.1111111111111111,
              "#46039f"
             ],
             [
              0.2222222222222222,
              "#7201a8"
             ],
             [
              0.3333333333333333,
              "#9c179e"
             ],
             [
              0.4444444444444444,
              "#bd3786"
             ],
             [
              0.5555555555555556,
              "#d8576b"
             ],
             [
              0.6666666666666666,
              "#ed7953"
             ],
             [
              0.7777777777777778,
              "#fb9f3a"
             ],
             [
              0.8888888888888888,
              "#fdca26"
             ],
             [
              1,
              "#f0f921"
             ]
            ],
            "type": "heatmap"
           }
          ],
          "heatmapgl": [
           {
            "colorbar": {
             "outlinewidth": 0,
             "ticks": ""
            },
            "colorscale": [
             [
              0,
              "#0d0887"
             ],
             [
              0.1111111111111111,
              "#46039f"
             ],
             [
              0.2222222222222222,
              "#7201a8"
             ],
             [
              0.3333333333333333,
              "#9c179e"
             ],
             [
              0.4444444444444444,
              "#bd3786"
             ],
             [
              0.5555555555555556,
              "#d8576b"
             ],
             [
              0.6666666666666666,
              "#ed7953"
             ],
             [
              0.7777777777777778,
              "#fb9f3a"
             ],
             [
              0.8888888888888888,
              "#fdca26"
             ],
             [
              1,
              "#f0f921"
             ]
            ],
            "type": "heatmapgl"
           }
          ],
          "histogram": [
           {
            "marker": {
             "pattern": {
              "fillmode": "overlay",
              "size": 10,
              "solidity": 0.2
             }
            },
            "type": "histogram"
           }
          ],
          "histogram2d": [
           {
            "colorbar": {
             "outlinewidth": 0,
             "ticks": ""
            },
            "colorscale": [
             [
              0,
              "#0d0887"
             ],
             [
              0.1111111111111111,
              "#46039f"
             ],
             [
              0.2222222222222222,
              "#7201a8"
             ],
             [
              0.3333333333333333,
              "#9c179e"
             ],
             [
              0.4444444444444444,
              "#bd3786"
             ],
             [
              0.5555555555555556,
              "#d8576b"
             ],
             [
              0.6666666666666666,
              "#ed7953"
             ],
             [
              0.7777777777777778,
              "#fb9f3a"
             ],
             [
              0.8888888888888888,
              "#fdca26"
             ],
             [
              1,
              "#f0f921"
             ]
            ],
            "type": "histogram2d"
           }
          ],
          "histogram2dcontour": [
           {
            "colorbar": {
             "outlinewidth": 0,
             "ticks": ""
            },
            "colorscale": [
             [
              0,
              "#0d0887"
             ],
             [
              0.1111111111111111,
              "#46039f"
             ],
             [
              0.2222222222222222,
              "#7201a8"
             ],
             [
              0.3333333333333333,
              "#9c179e"
             ],
             [
              0.4444444444444444,
              "#bd3786"
             ],
             [
              0.5555555555555556,
              "#d8576b"
             ],
             [
              0.6666666666666666,
              "#ed7953"
             ],
             [
              0.7777777777777778,
              "#fb9f3a"
             ],
             [
              0.8888888888888888,
              "#fdca26"
             ],
             [
              1,
              "#f0f921"
             ]
            ],
            "type": "histogram2dcontour"
           }
          ],
          "mesh3d": [
           {
            "colorbar": {
             "outlinewidth": 0,
             "ticks": ""
            },
            "type": "mesh3d"
           }
          ],
          "parcoords": [
           {
            "line": {
             "colorbar": {
              "outlinewidth": 0,
              "ticks": ""
             }
            },
            "type": "parcoords"
           }
          ],
          "pie": [
           {
            "automargin": true,
            "type": "pie"
           }
          ],
          "scatter": [
           {
            "marker": {
             "colorbar": {
              "outlinewidth": 0,
              "ticks": ""
             }
            },
            "type": "scatter"
           }
          ],
          "scatter3d": [
           {
            "line": {
             "colorbar": {
              "outlinewidth": 0,
              "ticks": ""
             }
            },
            "marker": {
             "colorbar": {
              "outlinewidth": 0,
              "ticks": ""
             }
            },
            "type": "scatter3d"
           }
          ],
          "scattercarpet": [
           {
            "marker": {
             "colorbar": {
              "outlinewidth": 0,
              "ticks": ""
             }
            },
            "type": "scattercarpet"
           }
          ],
          "scattergeo": [
           {
            "marker": {
             "colorbar": {
              "outlinewidth": 0,
              "ticks": ""
             }
            },
            "type": "scattergeo"
           }
          ],
          "scattergl": [
           {
            "marker": {
             "colorbar": {
              "outlinewidth": 0,
              "ticks": ""
             }
            },
            "type": "scattergl"
           }
          ],
          "scattermapbox": [
           {
            "marker": {
             "colorbar": {
              "outlinewidth": 0,
              "ticks": ""
             }
            },
            "type": "scattermapbox"
           }
          ],
          "scatterpolar": [
           {
            "marker": {
             "colorbar": {
              "outlinewidth": 0,
              "ticks": ""
             }
            },
            "type": "scatterpolar"
           }
          ],
          "scatterpolargl": [
           {
            "marker": {
             "colorbar": {
              "outlinewidth": 0,
              "ticks": ""
             }
            },
            "type": "scatterpolargl"
           }
          ],
          "scatterternary": [
           {
            "marker": {
             "colorbar": {
              "outlinewidth": 0,
              "ticks": ""
             }
            },
            "type": "scatterternary"
           }
          ],
          "surface": [
           {
            "colorbar": {
             "outlinewidth": 0,
             "ticks": ""
            },
            "colorscale": [
             [
              0,
              "#0d0887"
             ],
             [
              0.1111111111111111,
              "#46039f"
             ],
             [
              0.2222222222222222,
              "#7201a8"
             ],
             [
              0.3333333333333333,
              "#9c179e"
             ],
             [
              0.4444444444444444,
              "#bd3786"
             ],
             [
              0.5555555555555556,
              "#d8576b"
             ],
             [
              0.6666666666666666,
              "#ed7953"
             ],
             [
              0.7777777777777778,
              "#fb9f3a"
             ],
             [
              0.8888888888888888,
              "#fdca26"
             ],
             [
              1,
              "#f0f921"
             ]
            ],
            "type": "surface"
           }
          ],
          "table": [
           {
            "cells": {
             "fill": {
              "color": "#EBF0F8"
             },
             "line": {
              "color": "white"
             }
            },
            "header": {
             "fill": {
              "color": "#C8D4E3"
             },
             "line": {
              "color": "white"
             }
            },
            "type": "table"
           }
          ]
         },
         "layout": {
          "annotationdefaults": {
           "arrowcolor": "#2a3f5f",
           "arrowhead": 0,
           "arrowwidth": 1
          },
          "autotypenumbers": "strict",
          "coloraxis": {
           "colorbar": {
            "outlinewidth": 0,
            "ticks": ""
           }
          },
          "colorscale": {
           "diverging": [
            [
             0,
             "#8e0152"
            ],
            [
             0.1,
             "#c51b7d"
            ],
            [
             0.2,
             "#de77ae"
            ],
            [
             0.3,
             "#f1b6da"
            ],
            [
             0.4,
             "#fde0ef"
            ],
            [
             0.5,
             "#f7f7f7"
            ],
            [
             0.6,
             "#e6f5d0"
            ],
            [
             0.7,
             "#b8e186"
            ],
            [
             0.8,
             "#7fbc41"
            ],
            [
             0.9,
             "#4d9221"
            ],
            [
             1,
             "#276419"
            ]
           ],
           "sequential": [
            [
             0,
             "#0d0887"
            ],
            [
             0.1111111111111111,
             "#46039f"
            ],
            [
             0.2222222222222222,
             "#7201a8"
            ],
            [
             0.3333333333333333,
             "#9c179e"
            ],
            [
             0.4444444444444444,
             "#bd3786"
            ],
            [
             0.5555555555555556,
             "#d8576b"
            ],
            [
             0.6666666666666666,
             "#ed7953"
            ],
            [
             0.7777777777777778,
             "#fb9f3a"
            ],
            [
             0.8888888888888888,
             "#fdca26"
            ],
            [
             1,
             "#f0f921"
            ]
           ],
           "sequentialminus": [
            [
             0,
             "#0d0887"
            ],
            [
             0.1111111111111111,
             "#46039f"
            ],
            [
             0.2222222222222222,
             "#7201a8"
            ],
            [
             0.3333333333333333,
             "#9c179e"
            ],
            [
             0.4444444444444444,
             "#bd3786"
            ],
            [
             0.5555555555555556,
             "#d8576b"
            ],
            [
             0.6666666666666666,
             "#ed7953"
            ],
            [
             0.7777777777777778,
             "#fb9f3a"
            ],
            [
             0.8888888888888888,
             "#fdca26"
            ],
            [
             1,
             "#f0f921"
            ]
           ]
          },
          "colorway": [
           "#636efa",
           "#EF553B",
           "#00cc96",
           "#ab63fa",
           "#FFA15A",
           "#19d3f3",
           "#FF6692",
           "#B6E880",
           "#FF97FF",
           "#FECB52"
          ],
          "font": {
           "color": "#2a3f5f"
          },
          "geo": {
           "bgcolor": "white",
           "lakecolor": "white",
           "landcolor": "#E5ECF6",
           "showlakes": true,
           "showland": true,
           "subunitcolor": "white"
          },
          "hoverlabel": {
           "align": "left"
          },
          "hovermode": "closest",
          "mapbox": {
           "style": "light"
          },
          "paper_bgcolor": "white",
          "plot_bgcolor": "#E5ECF6",
          "polar": {
           "angularaxis": {
            "gridcolor": "white",
            "linecolor": "white",
            "ticks": ""
           },
           "bgcolor": "#E5ECF6",
           "radialaxis": {
            "gridcolor": "white",
            "linecolor": "white",
            "ticks": ""
           }
          },
          "scene": {
           "xaxis": {
            "backgroundcolor": "#E5ECF6",
            "gridcolor": "white",
            "gridwidth": 2,
            "linecolor": "white",
            "showbackground": true,
            "ticks": "",
            "zerolinecolor": "white"
           },
           "yaxis": {
            "backgroundcolor": "#E5ECF6",
            "gridcolor": "white",
            "gridwidth": 2,
            "linecolor": "white",
            "showbackground": true,
            "ticks": "",
            "zerolinecolor": "white"
           },
           "zaxis": {
            "backgroundcolor": "#E5ECF6",
            "gridcolor": "white",
            "gridwidth": 2,
            "linecolor": "white",
            "showbackground": true,
            "ticks": "",
            "zerolinecolor": "white"
           }
          },
          "shapedefaults": {
           "line": {
            "color": "#2a3f5f"
           }
          },
          "ternary": {
           "aaxis": {
            "gridcolor": "white",
            "linecolor": "white",
            "ticks": ""
           },
           "baxis": {
            "gridcolor": "white",
            "linecolor": "white",
            "ticks": ""
           },
           "bgcolor": "#E5ECF6",
           "caxis": {
            "gridcolor": "white",
            "linecolor": "white",
            "ticks": ""
           }
          },
          "title": {
           "x": 0.05
          },
          "xaxis": {
           "automargin": true,
           "gridcolor": "white",
           "linecolor": "white",
           "ticks": "",
           "title": {
            "standoff": 15
           },
           "zerolinecolor": "white",
           "zerolinewidth": 2
          },
          "yaxis": {
           "automargin": true,
           "gridcolor": "white",
           "linecolor": "white",
           "ticks": "",
           "title": {
            "standoff": 15
           },
           "zerolinecolor": "white",
           "zerolinewidth": 2
          }
         }
        },
        "title": {
         "text": "Distribution of Brands"
        }
       }
      }
     },
     "metadata": {},
     "output_type": "display_data"
    }
   ],
   "source": [
    "import plotly.graph_objects as go\n",
    "\n",
    "# Calculate brand distribution\n",
    "brand_distribution = products['brand'].value_counts().reset_index()\n",
    "brand_distribution.columns = ['brand', 'count']\n",
    "\n",
    "# Create a table with Plotly\n",
    "fig = go.Figure(data=[go.Table(\n",
    "    header=dict(values=['Brand', 'Count'],\n",
    "                fill_color='paleturquoise',\n",
    "                align='left'),\n",
    "    cells=dict(values=[brand_distribution['brand'], brand_distribution['count']],\n",
    "               fill_color='lavender',\n",
    "               align='left'))\n",
    "])\n",
    "\n",
    "fig.update_layout(title='Distribution of Brands')\n",
    "fig.show()"
   ]
  },
  {
   "cell_type": "code",
   "execution_count": 9,
   "metadata": {},
   "outputs": [
    {
     "data": {
      "application/vnd.plotly.v1+json": {
       "config": {
        "plotlyServerURL": "https://plot.ly"
       },
       "data": [
        {
         "alignmentgroup": "True",
         "hovertemplate": "department=%{x}<br>count=%{y}<extra></extra>",
         "legendgroup": "",
         "marker": {
          "color": "#636efa",
          "pattern": {
           "shape": ""
          }
         },
         "name": "",
         "offsetgroup": "",
         "orientation": "v",
         "showlegend": false,
         "textposition": "auto",
         "type": "bar",
         "x": [
          "Women",
          "Men"
         ],
         "xaxis": "x",
         "y": [
          15976,
          13118
         ],
         "yaxis": "y"
        }
       ],
       "layout": {
        "barmode": "relative",
        "legend": {
         "tracegroupgap": 0
        },
        "template": {
         "data": {
          "bar": [
           {
            "error_x": {
             "color": "#2a3f5f"
            },
            "error_y": {
             "color": "#2a3f5f"
            },
            "marker": {
             "line": {
              "color": "#E5ECF6",
              "width": 0.5
             },
             "pattern": {
              "fillmode": "overlay",
              "size": 10,
              "solidity": 0.2
             }
            },
            "type": "bar"
           }
          ],
          "barpolar": [
           {
            "marker": {
             "line": {
              "color": "#E5ECF6",
              "width": 0.5
             },
             "pattern": {
              "fillmode": "overlay",
              "size": 10,
              "solidity": 0.2
             }
            },
            "type": "barpolar"
           }
          ],
          "carpet": [
           {
            "aaxis": {
             "endlinecolor": "#2a3f5f",
             "gridcolor": "white",
             "linecolor": "white",
             "minorgridcolor": "white",
             "startlinecolor": "#2a3f5f"
            },
            "baxis": {
             "endlinecolor": "#2a3f5f",
             "gridcolor": "white",
             "linecolor": "white",
             "minorgridcolor": "white",
             "startlinecolor": "#2a3f5f"
            },
            "type": "carpet"
           }
          ],
          "choropleth": [
           {
            "colorbar": {
             "outlinewidth": 0,
             "ticks": ""
            },
            "type": "choropleth"
           }
          ],
          "contour": [
           {
            "colorbar": {
             "outlinewidth": 0,
             "ticks": ""
            },
            "colorscale": [
             [
              0,
              "#0d0887"
             ],
             [
              0.1111111111111111,
              "#46039f"
             ],
             [
              0.2222222222222222,
              "#7201a8"
             ],
             [
              0.3333333333333333,
              "#9c179e"
             ],
             [
              0.4444444444444444,
              "#bd3786"
             ],
             [
              0.5555555555555556,
              "#d8576b"
             ],
             [
              0.6666666666666666,
              "#ed7953"
             ],
             [
              0.7777777777777778,
              "#fb9f3a"
             ],
             [
              0.8888888888888888,
              "#fdca26"
             ],
             [
              1,
              "#f0f921"
             ]
            ],
            "type": "contour"
           }
          ],
          "contourcarpet": [
           {
            "colorbar": {
             "outlinewidth": 0,
             "ticks": ""
            },
            "type": "contourcarpet"
           }
          ],
          "heatmap": [
           {
            "colorbar": {
             "outlinewidth": 0,
             "ticks": ""
            },
            "colorscale": [
             [
              0,
              "#0d0887"
             ],
             [
              0.1111111111111111,
              "#46039f"
             ],
             [
              0.2222222222222222,
              "#7201a8"
             ],
             [
              0.3333333333333333,
              "#9c179e"
             ],
             [
              0.4444444444444444,
              "#bd3786"
             ],
             [
              0.5555555555555556,
              "#d8576b"
             ],
             [
              0.6666666666666666,
              "#ed7953"
             ],
             [
              0.7777777777777778,
              "#fb9f3a"
             ],
             [
              0.8888888888888888,
              "#fdca26"
             ],
             [
              1,
              "#f0f921"
             ]
            ],
            "type": "heatmap"
           }
          ],
          "heatmapgl": [
           {
            "colorbar": {
             "outlinewidth": 0,
             "ticks": ""
            },
            "colorscale": [
             [
              0,
              "#0d0887"
             ],
             [
              0.1111111111111111,
              "#46039f"
             ],
             [
              0.2222222222222222,
              "#7201a8"
             ],
             [
              0.3333333333333333,
              "#9c179e"
             ],
             [
              0.4444444444444444,
              "#bd3786"
             ],
             [
              0.5555555555555556,
              "#d8576b"
             ],
             [
              0.6666666666666666,
              "#ed7953"
             ],
             [
              0.7777777777777778,
              "#fb9f3a"
             ],
             [
              0.8888888888888888,
              "#fdca26"
             ],
             [
              1,
              "#f0f921"
             ]
            ],
            "type": "heatmapgl"
           }
          ],
          "histogram": [
           {
            "marker": {
             "pattern": {
              "fillmode": "overlay",
              "size": 10,
              "solidity": 0.2
             }
            },
            "type": "histogram"
           }
          ],
          "histogram2d": [
           {
            "colorbar": {
             "outlinewidth": 0,
             "ticks": ""
            },
            "colorscale": [
             [
              0,
              "#0d0887"
             ],
             [
              0.1111111111111111,
              "#46039f"
             ],
             [
              0.2222222222222222,
              "#7201a8"
             ],
             [
              0.3333333333333333,
              "#9c179e"
             ],
             [
              0.4444444444444444,
              "#bd3786"
             ],
             [
              0.5555555555555556,
              "#d8576b"
             ],
             [
              0.6666666666666666,
              "#ed7953"
             ],
             [
              0.7777777777777778,
              "#fb9f3a"
             ],
             [
              0.8888888888888888,
              "#fdca26"
             ],
             [
              1,
              "#f0f921"
             ]
            ],
            "type": "histogram2d"
           }
          ],
          "histogram2dcontour": [
           {
            "colorbar": {
             "outlinewidth": 0,
             "ticks": ""
            },
            "colorscale": [
             [
              0,
              "#0d0887"
             ],
             [
              0.1111111111111111,
              "#46039f"
             ],
             [
              0.2222222222222222,
              "#7201a8"
             ],
             [
              0.3333333333333333,
              "#9c179e"
             ],
             [
              0.4444444444444444,
              "#bd3786"
             ],
             [
              0.5555555555555556,
              "#d8576b"
             ],
             [
              0.6666666666666666,
              "#ed7953"
             ],
             [
              0.7777777777777778,
              "#fb9f3a"
             ],
             [
              0.8888888888888888,
              "#fdca26"
             ],
             [
              1,
              "#f0f921"
             ]
            ],
            "type": "histogram2dcontour"
           }
          ],
          "mesh3d": [
           {
            "colorbar": {
             "outlinewidth": 0,
             "ticks": ""
            },
            "type": "mesh3d"
           }
          ],
          "parcoords": [
           {
            "line": {
             "colorbar": {
              "outlinewidth": 0,
              "ticks": ""
             }
            },
            "type": "parcoords"
           }
          ],
          "pie": [
           {
            "automargin": true,
            "type": "pie"
           }
          ],
          "scatter": [
           {
            "marker": {
             "colorbar": {
              "outlinewidth": 0,
              "ticks": ""
             }
            },
            "type": "scatter"
           }
          ],
          "scatter3d": [
           {
            "line": {
             "colorbar": {
              "outlinewidth": 0,
              "ticks": ""
             }
            },
            "marker": {
             "colorbar": {
              "outlinewidth": 0,
              "ticks": ""
             }
            },
            "type": "scatter3d"
           }
          ],
          "scattercarpet": [
           {
            "marker": {
             "colorbar": {
              "outlinewidth": 0,
              "ticks": ""
             }
            },
            "type": "scattercarpet"
           }
          ],
          "scattergeo": [
           {
            "marker": {
             "colorbar": {
              "outlinewidth": 0,
              "ticks": ""
             }
            },
            "type": "scattergeo"
           }
          ],
          "scattergl": [
           {
            "marker": {
             "colorbar": {
              "outlinewidth": 0,
              "ticks": ""
             }
            },
            "type": "scattergl"
           }
          ],
          "scattermapbox": [
           {
            "marker": {
             "colorbar": {
              "outlinewidth": 0,
              "ticks": ""
             }
            },
            "type": "scattermapbox"
           }
          ],
          "scatterpolar": [
           {
            "marker": {
             "colorbar": {
              "outlinewidth": 0,
              "ticks": ""
             }
            },
            "type": "scatterpolar"
           }
          ],
          "scatterpolargl": [
           {
            "marker": {
             "colorbar": {
              "outlinewidth": 0,
              "ticks": ""
             }
            },
            "type": "scatterpolargl"
           }
          ],
          "scatterternary": [
           {
            "marker": {
             "colorbar": {
              "outlinewidth": 0,
              "ticks": ""
             }
            },
            "type": "scatterternary"
           }
          ],
          "surface": [
           {
            "colorbar": {
             "outlinewidth": 0,
             "ticks": ""
            },
            "colorscale": [
             [
              0,
              "#0d0887"
             ],
             [
              0.1111111111111111,
              "#46039f"
             ],
             [
              0.2222222222222222,
              "#7201a8"
             ],
             [
              0.3333333333333333,
              "#9c179e"
             ],
             [
              0.4444444444444444,
              "#bd3786"
             ],
             [
              0.5555555555555556,
              "#d8576b"
             ],
             [
              0.6666666666666666,
              "#ed7953"
             ],
             [
              0.7777777777777778,
              "#fb9f3a"
             ],
             [
              0.8888888888888888,
              "#fdca26"
             ],
             [
              1,
              "#f0f921"
             ]
            ],
            "type": "surface"
           }
          ],
          "table": [
           {
            "cells": {
             "fill": {
              "color": "#EBF0F8"
             },
             "line": {
              "color": "white"
             }
            },
            "header": {
             "fill": {
              "color": "#C8D4E3"
             },
             "line": {
              "color": "white"
             }
            },
            "type": "table"
           }
          ]
         },
         "layout": {
          "annotationdefaults": {
           "arrowcolor": "#2a3f5f",
           "arrowhead": 0,
           "arrowwidth": 1
          },
          "autotypenumbers": "strict",
          "coloraxis": {
           "colorbar": {
            "outlinewidth": 0,
            "ticks": ""
           }
          },
          "colorscale": {
           "diverging": [
            [
             0,
             "#8e0152"
            ],
            [
             0.1,
             "#c51b7d"
            ],
            [
             0.2,
             "#de77ae"
            ],
            [
             0.3,
             "#f1b6da"
            ],
            [
             0.4,
             "#fde0ef"
            ],
            [
             0.5,
             "#f7f7f7"
            ],
            [
             0.6,
             "#e6f5d0"
            ],
            [
             0.7,
             "#b8e186"
            ],
            [
             0.8,
             "#7fbc41"
            ],
            [
             0.9,
             "#4d9221"
            ],
            [
             1,
             "#276419"
            ]
           ],
           "sequential": [
            [
             0,
             "#0d0887"
            ],
            [
             0.1111111111111111,
             "#46039f"
            ],
            [
             0.2222222222222222,
             "#7201a8"
            ],
            [
             0.3333333333333333,
             "#9c179e"
            ],
            [
             0.4444444444444444,
             "#bd3786"
            ],
            [
             0.5555555555555556,
             "#d8576b"
            ],
            [
             0.6666666666666666,
             "#ed7953"
            ],
            [
             0.7777777777777778,
             "#fb9f3a"
            ],
            [
             0.8888888888888888,
             "#fdca26"
            ],
            [
             1,
             "#f0f921"
            ]
           ],
           "sequentialminus": [
            [
             0,
             "#0d0887"
            ],
            [
             0.1111111111111111,
             "#46039f"
            ],
            [
             0.2222222222222222,
             "#7201a8"
            ],
            [
             0.3333333333333333,
             "#9c179e"
            ],
            [
             0.4444444444444444,
             "#bd3786"
            ],
            [
             0.5555555555555556,
             "#d8576b"
            ],
            [
             0.6666666666666666,
             "#ed7953"
            ],
            [
             0.7777777777777778,
             "#fb9f3a"
            ],
            [
             0.8888888888888888,
             "#fdca26"
            ],
            [
             1,
             "#f0f921"
            ]
           ]
          },
          "colorway": [
           "#636efa",
           "#EF553B",
           "#00cc96",
           "#ab63fa",
           "#FFA15A",
           "#19d3f3",
           "#FF6692",
           "#B6E880",
           "#FF97FF",
           "#FECB52"
          ],
          "font": {
           "color": "#2a3f5f"
          },
          "geo": {
           "bgcolor": "white",
           "lakecolor": "white",
           "landcolor": "#E5ECF6",
           "showlakes": true,
           "showland": true,
           "subunitcolor": "white"
          },
          "hoverlabel": {
           "align": "left"
          },
          "hovermode": "closest",
          "mapbox": {
           "style": "light"
          },
          "paper_bgcolor": "white",
          "plot_bgcolor": "#E5ECF6",
          "polar": {
           "angularaxis": {
            "gridcolor": "white",
            "linecolor": "white",
            "ticks": ""
           },
           "bgcolor": "#E5ECF6",
           "radialaxis": {
            "gridcolor": "white",
            "linecolor": "white",
            "ticks": ""
           }
          },
          "scene": {
           "xaxis": {
            "backgroundcolor": "#E5ECF6",
            "gridcolor": "white",
            "gridwidth": 2,
            "linecolor": "white",
            "showbackground": true,
            "ticks": "",
            "zerolinecolor": "white"
           },
           "yaxis": {
            "backgroundcolor": "#E5ECF6",
            "gridcolor": "white",
            "gridwidth": 2,
            "linecolor": "white",
            "showbackground": true,
            "ticks": "",
            "zerolinecolor": "white"
           },
           "zaxis": {
            "backgroundcolor": "#E5ECF6",
            "gridcolor": "white",
            "gridwidth": 2,
            "linecolor": "white",
            "showbackground": true,
            "ticks": "",
            "zerolinecolor": "white"
           }
          },
          "shapedefaults": {
           "line": {
            "color": "#2a3f5f"
           }
          },
          "ternary": {
           "aaxis": {
            "gridcolor": "white",
            "linecolor": "white",
            "ticks": ""
           },
           "baxis": {
            "gridcolor": "white",
            "linecolor": "white",
            "ticks": ""
           },
           "bgcolor": "#E5ECF6",
           "caxis": {
            "gridcolor": "white",
            "linecolor": "white",
            "ticks": ""
           }
          },
          "title": {
           "x": 0.05
          },
          "xaxis": {
           "automargin": true,
           "gridcolor": "white",
           "linecolor": "white",
           "ticks": "",
           "title": {
            "standoff": 15
           },
           "zerolinecolor": "white",
           "zerolinewidth": 2
          },
          "yaxis": {
           "automargin": true,
           "gridcolor": "white",
           "linecolor": "white",
           "ticks": "",
           "title": {
            "standoff": 15
           },
           "zerolinecolor": "white",
           "zerolinewidth": 2
          }
         }
        },
        "title": {
         "text": "Distribution of Departments"
        },
        "xaxis": {
         "anchor": "y",
         "domain": [
          0,
          1
         ],
         "title": {
          "text": "department"
         }
        },
        "yaxis": {
         "anchor": "x",
         "domain": [
          0,
          1
         ],
         "title": {
          "text": "count"
         }
        }
       }
      }
     },
     "metadata": {},
     "output_type": "display_data"
    }
   ],
   "source": [
    "# Distribution of Departments\n",
    "department_distribution = products['department'].value_counts().reset_index()\n",
    "department_distribution.columns = ['department', 'count']\n",
    "\n",
    "fig_department = px.bar(department_distribution, x='department', y='count', title='Distribution of Departments')\n",
    "fig_department.show()"
   ]
  },
  {
   "cell_type": "code",
   "execution_count": 10,
   "metadata": {},
   "outputs": [
    {
     "name": "stdout",
     "output_type": "stream",
     "text": [
      "                 brand  avg_retail_price\n",
      "0            !it Jeans         51.247692\n",
      "1            '47 Brand         69.000000\n",
      "2          007Lingerie         11.540000\n",
      "3              10 Deep        103.949997\n",
      "4            106Shades          8.290000\n",
      "...                ...               ...\n",
      "2751  tasc Performance         28.500000\n",
      "2752     turkishtowels        149.990005\n",
      "2753          under.me         24.000000\n",
      "2754      vip boutique         15.490000\n",
      "2755         wear ease         53.000000\n",
      "\n",
      "[2756 rows x 2 columns]\n"
     ]
    }
   ],
   "source": [
    "# Group by brand and calculate the average retail price\n",
    "avg_price_per_brand = products.groupby('brand')['retail_price'].mean().reset_index()\n",
    "avg_price_per_brand.columns = ['brand', 'avg_retail_price']\n",
    "\n",
    "print(avg_price_per_brand)"
   ]
  },
  {
   "cell_type": "code",
   "execution_count": 11,
   "metadata": {},
   "outputs": [
    {
     "data": {
      "application/vnd.plotly.v1+json": {
       "config": {
        "plotlyServerURL": "https://plot.ly"
       },
       "data": [
        {
         "cells": {
          "align": "left",
          "fill": {
           "color": "lavender"
          },
          "values": [
           [
            "Nobis",
            "Bergama",
            "Jordan",
            "The Harris Tweed Of Scotland",
            "Canada Goose",
            "Moncler",
            "Sandals Cay",
            "Andrew Marc",
            "The North Face",
            "NAU",
            "Magaschoni",
            "Unicorn London",
            "Rebecca Taylor",
            "Overland Sheepskin Co",
            "Halston Heritage",
            "Spyder",
            "Regency New York",
            "Evisu",
            "erin Erin Fetherston",
            "ILSE JACOBSEN",
            "Parker",
            "Hemp Hoodlamb",
            "Arc'teryx",
            "Barbour",
            "Autumn Cashmere",
            "Nau",
            "Catherine Malandrino",
            "Robert Rodriguez",
            "Candela",
            "Sitka Gear",
            "Zero Restriction",
            "Dolce & Gabbana",
            "St Croix",
            "RMC Martin Ksohoh",
            "Oxfords Cashmere",
            "Tiffany",
            "Prairie Underground",
            "Fleur Of England",
            "Vivienne Westwood",
            "Queenshiny",
            "Karla Colletto",
            "Cluny",
            "Mycra Pac",
            "Craghoppers",
            "Yoana Baraschi",
            "Mammut",
            "Boston Harbour",
            "Plenty by Tracy Reese",
            "MiH Jeans",
            "Giovanni Navarre",
            "Mara Hoffman",
            "Red Carter",
            "Bikeraccess",
            "Cashmere Boutique",
            "Tom Ford",
            "Margaret O'Leary",
            "Madison",
            "Rebecca Minkoff",
            "Camilla and Marc",
            "Letarte",
            "Giada Forte",
            "Tracy Reese",
            "RAB",
            "Mantoni",
            "Twelfth Street by Cynthia Vincent",
            "Spiewak",
            "Costa Del Mar",
            "GPUFashion",
            "Derek Rose",
            "FactoryExtreme",
            "Shephe",
            "Alpha Industries",
            "Helene Berman",
            "phistic",
            "Funktional",
            "BGSD",
            "Trina Turk",
            "AG Jeans",
            "GUESS by Marciano",
            "Raven",
            "Klymit",
            "J BRAND",
            "Minnie Rose",
            "Faconnable",
            "True Religion",
            "Knoles&Carter",
            "City Lights",
            "Marc New York by Andrew Marc",
            "Agave",
            "FRYE",
            "Prada",
            "Citizens of Humanity",
            "United Face",
            "Gucci",
            "BCBGMAXAZRIA",
            "Lisa Curran",
            "Red Valentino",
            "McGinn",
            "MontBell",
            "IGIGI by Yuliya Raquel",
            "VIPARO",
            "GaelSong",
            "Nicole Miller",
            "German Wear",
            "Giorgio Fiorelli",
            "Hillside USA Leather Inc.",
            "Bertolini",
            "Ramonti",
            "Earnest Sewn",
            "Elie Tahari",
            "Hart Schaffner Marx",
            "Maui Jim",
            "Salomon",
            "Ungaro",
            "Marc by Marc Jacobs",
            "Landing Leathers",
            "NEVE",
            "Holden",
            "Armani Jeans",
            "LINCS DC & Co",
            "Rails",
            "Xport Designs",
            "Theory",
            "laundry by SHELLI SEGAL",
            "Raffi",
            "Hudson",
            "COOGI",
            "Jack Spade",
            "Robert Graham",
            "Mountain Hardwear",
            "Hold Your Haunches",
            "Joseph Abboud",
            "John Varvatos",
            "L1",
            "Bonfire",
            "Prom21",
            "EISENBERG INTERNATIONAL",
            "ANSAI",
            "Bailey 44",
            "Persol",
            "Weston Wear",
            "Zinke",
            "Addison",
            "Shoshanna",
            "Marmot",
            "Berek",
            "686",
            "KD dance",
            "Gottex",
            "Ali Ro",
            "Taylor",
            "Ben Sherman",
            "Kristen Blake",
            "7 For All Mankind",
            "34 Heritage",
            "Billionaire Boys Club",
            "MICHAEL Michael Kors",
            "AG Adriano Goldschmied",
            "Melissa Odabash",
            "Kasper",
            "Eliza J",
            "Joes Jeans",
            "PAIGE",
            "Ballin",
            "Cole Haan",
            "Alice & Olivia",
            "Wildfox Couture",
            "Joe's Jeans",
            "Paul Fredrick",
            "Cohesive",
            "turkishtowels",
            "Burk's Bay",
            "Scotch & Soda",
            "Sky Brand",
            "PEERLESS",
            "Stone Rose",
            "Scully",
            "Fisherman",
            "Rodd & Gunn",
            "Scott James",
            "Amanda Uprichard",
            "7 Diamonds",
            "Magicsuit",
            "Filson",
            "Knoles & Carter",
            "VILEBREQUIN",
            "Vince",
            "Tahari",
            "The Collection by L*Space",
            "BedHead",
            "66 North",
            "Zimmerli of Switzerland",
            "Via Spiga",
            "Tolani",
            "Merrell",
            "World Industries",
            "Pulse/Iceburg",
            "Citizen",
            "Nasty Pig",
            "Mitchell & Ness",
            "J.Lindeberg",
            "Makia",
            "Schaefer Outfitters",
            "Coach",
            "Onia",
            "Kiyonna",
            "Wilt",
            "HARVEYS",
            "Haute Hippie",
            "Carmen Marc Valvo",
            "SPURR",
            "Bill Blass",
            "Rock Revival",
            "Tallia",
            "Obermeyer",
            "Diesel",
            "Blue Juice",
            "Miraclesuit",
            "Design History",
            "Austin Reed",
            "G-Star",
            "MAXSTUDIO",
            "Moods of Norway",
            "Babakul",
            "Robin Piccone",
            "Heather",
            "Jax",
            "Warm Things",
            "Patterson J. Kincaid",
            "Bill's Khakis",
            "Versace",
            "Bear Grylls",
            "Sierra Designs",
            "Irish Setter",
            "Kashwere",
            "Siwy",
            "Eva Franco",
            "Kenneth Cole New York",
            "Sofie",
            "Lesuit",
            "Ella Moss",
            "Le Suit",
            "Cooper Jones",
            "TexereSilk",
            "Orvis",
            "McAlister",
            "MagicSuit",
            "Fred Perry",
            "Prima Donna",
            "DL1961",
            "Red Engine",
            "Myne",
            "US Fairytailes",
            "MEK Denim",
            "Joie",
            "Kate Spade",
            "Lacoste",
            "Nanette Lepore",
            "Adrianna Papell",
            "DKNYC",
            "Ted Baker",
            "J.C. Rags",
            "Steel Paisley",
            "N.G.U.",
            "Leonardo Valenti",
            "Kashwere Comforts",
            "Outdoor Gear Inc",
            "Telegraph Hill Luxury Spa Robe",
            "Akomplice",
            "Patagonia",
            "Pulse",
            "Rebel",
            "AIRBLASTER",
            "Evan Picone",
            "maxandcleo",
            "Tart",
            "Gold Series",
            "Stormy Kromer",
            "French Connection",
            "Princeton",
            "Fairway & Greene",
            "Ray-Ban",
            "Lilla P",
            "Abercrombie & Fitch",
            "Suzi Chin",
            "Howe",
            "CJ by Cookie Johnson",
            "Magic Suit",
            "525 America",
            "KC&PP",
            "Gore",
            "Jessie G.",
            "Acne",
            "RED KAP",
            "Hugo Boss",
            "CoreyLynnCalter",
            "Faconnable Tailored Denim",
            "Sympli",
            "Affliction",
            "Sam & Lavi",
            "Debbie Katz South Beach",
            "Vitamin A",
            "Habitual",
            "Alex Evenings",
            "Twisted Heart",
            "Rock & Republic",
            "Icebreaker",
            "Sassimi",
            "Gypsy 05",
            "Jet Lag",
            "Oakley",
            "Parkhurst",
            "Barefoot Dreams",
            "Tori Praver",
            "Miraclebody by Miraclesuit",
            "Christopher Fischer",
            "Miss Sixty",
            "Pencey",
            "Maison Scotch",
            "Mother",
            "Robbi & Nikki",
            "GUESS",
            "Pendleton",
            "Paddi Murphy",
            "Abbey Dawn",
            "Stella & Jamie",
            "Scottevest",
            "London Fog",
            "Zoot",
            "Olian",
            "Kuhl",
            "Michael Kors",
            "Halsey",
            "Necessary Evil",
            "Tadashi Shoji",
            "Maggy London",
            "TEXTILE Elizabeth and James",
            "Armada",
            "Caravelli",
            "Antique Rivet",
            "Ibex",
            "William Rast",
            "Evanese",
            "10 Deep",
            "Gold Hawk",
            "BLOOMINGDALES",
            "D&G Dolce & Gabbana",
            "Woolrich",
            "Lilly Pulitzer",
            "Serengeti",
            "Ardyss",
            "James Jeans",
            "Julbo",
            "Members Only",
            "Rich & Skinny",
            "Not Your Daughter's Jeans",
            "Seafolly",
            "Superdry",
            "Sucette Rose",
            "Apparel",
            "PureLime",
            "VA VA VOOM",
            "Postage",
            "Rivet De Cru Jeans",
            "Eileen Fisher",
            "Trendy Tummy Maternity",
            "Prontomoda",
            "Ferretti",
            "West End",
            "Nat Nast",
            "Blarney Woollen Mills",
            "Pure Handknit",
            "SPY",
            "Miss Me",
            "Jessica Howard",
            "Sean Collection",
            "Borrelli",
            "LNA",
            "Ducati",
            "NygÃ¥rd Collection",
            "Fellini Uomo",
            "One Teaspoon",
            "Equmen",
            "ZeroXposur",
            "Aventura",
            "Fit 4 U",
            "Empress Silk",
            "The Savile Row Company",
            "Jones New York",
            "Iisli",
            "Hanro",
            "Star Dancewear",
            "Sheer Iridesscent",
            "Annee Matthew",
            "Sutton Studio",
            "Tasso Elba",
            "Velvet",
            "Yukon",
            "Atlas",
            "Juicy Couture",
            "Cashmere Selection",
            "Maglierie Di Perugia",
            "Cowgirl Tuff",
            "Cinderella",
            "Victorinox",
            "Buffalo by David Bitton",
            "Helly Hansen",
            "UjENA",
            "Marrakech",
            "Softies by Paddi Murphy",
            "Creative Irish Gifts",
            "NRS",
            "Arborwear",
            "bebe",
            "Hilary Radley",
            "Farah",
            "ComfortWear",
            "M.Mac",
            "Rebel8",
            "Anne Klein",
            "Outdoor Research",
            "Vintage",
            "Psycho Bunny",
            "BIG STAR",
            "LUXE By Lisa Vogel",
            "SanMar",
            "Under Two Flags",
            "Sperry Top-Sider",
            "Tori Richard",
            "CARRAIG DONN KNITWEAR",
            "Natori",
            "Naturally by Derek Rose",
            "BB Dakota",
            "What Goes Around Comes Around",
            "DKNY",
            "Swim Systems",
            "QSW",
            "Hermanny by ViX",
            "David Lerner",
            "GRUNDENS",
            "Tokyo Five Brand",
            "Jen's Pirate Booty",
            "ViX",
            "Skirt Sports",
            "575 Denim",
            "Mac & Jac",
            "Kassatex",
            "Corcini",
            "HodoHome Loungewear",
            "Arnette",
            "Curves",
            "RED LEDGE",
            "Legendary Apparel",
            "Larry Levine",
            "A:X Armani Exchange",
            "Lauren by Ralph Lauren",
            "Castaway Clothing Co.",
            "Voom",
            "Peter NygÃ¥rd",
            "Carraig Donn",
            "Bitablue",
            "SGG",
            "Noppies",
            "Dept Denim Department",
            "Skins",
            "Momo Maternity",
            "Munki Munki",
            "Gaspar Gloves",
            "Synergy",
            "Brooks Brothers",
            "Leo & Nicole",
            "Turkishtowels",
            "Fratelli Orsini",
            "Suit Studio",
            "PEZ Candy",
            "Sweet Mommy",
            "Hi-Tec",
            "Ralph Lauren",
            "SportHill",
            "CW-X",
            "Joe Browns",
            "L*Space",
            "Aryn K",
            "Cardi International",
            "KAMALIKULTURE",
            "Maternal America",
            "FINIS",
            "Green 3 Apparel",
            "D.E.P.T.",
            "Buffalo",
            "Cutter & Buck",
            "Parke & Ronen",
            "Alice & Trixie",
            "Bracli",
            "Kenneth Cole",
            "HOBO",
            "Anew",
            "Williams Cashmere",
            "Brooklyn Industries",
            "Motel",
            "Lauren Kiyomi",
            "DAVID Seeds",
            "Nike",
            "VonZipper",
            "Abini",
            "prAna",
            "OURSURE.COM",
            "Corset-story",
            "Club Room",
            "Isaac Mizrahi Jeans",
            "Tory Burch",
            "Sean John",
            "Carrera",
            "Laguna Beach Jean Company",
            "Bathrobes Online",
            "Onyx-Arctic Shield-X-System",
            "Bench",
            "Luli Fama",
            "Royal Robbins",
            "Barmah Hats",
            "HARAJUKU LOVERS",
            "King Formal Premium",
            "Jessica Simpson",
            "AmeriBag",
            "Tony Hawk",
            "Solo Classe",
            "Mountain Khakis",
            "Jonathan Quale",
            "Pink Lotus",
            "La Blanca",
            "TAIGA",
            "Ulla Popken",
            "Rombo",
            "Liverpool Jeans Company",
            "Splendid",
            "What Katie Did",
            "Vedette",
            "BLVCK SCVLE",
            "Imaginary Foundation",
            "Chap",
            "Crooks & Castles",
            "Green with Envy",
            "Design Salt",
            "JOHN DEERE",
            "Bloomingdale's Now",
            "Aris A",
            "Missoni",
            "TURKISHTOWELS",
            "The Bracli BoutiqueÂ®",
            "Dr. Who",
            "Anue",
            "Bradford Exchange",
            "Cardi",
            "Donna Morgan",
            "Paul Malone Vest",
            "Squeem Magical Lingerie",
            "Native Eyewear",
            "Nantucket Brand",
            "Sansabelt",
            "Zobha",
            "Calvin Klein Performance",
            "Jantzen",
            "Kelly Nishimoto",
            "Brigi Pj's",
            "by Anew",
            "Flattering Me",
            "Liverpool",
            "Original Penguin",
            "Mavi",
            "Michael Stars",
            "Horny Toad",
            "Undrest",
            "Sweet Pea",
            "N-Fini",
            "BCBGeneration",
            "2XU",
            "Aegean",
            "Cianni",
            "Escante",
            "Skedouche",
            "Grand River",
            "The Cat's Pajamas",
            "Level 99",
            "Huafeng",
            "Ever-Pretty",
            "Beyond Yoga",
            "Mary Green",
            "WESC",
            "Coyuchi",
            "Neon Buddha",
            "Silver Jeans",
            "Vince Camuto",
            "Evolution by Cyrus",
            "Claeson",
            "Fila",
            "Impact Fitness",
            "Georgie",
            "LAmade",
            "Ariat",
            "Arena",
            "Affazy",
            "KidRobot",
            "Taraluna",
            "Hydraulic",
            "Dylan George",
            "Seraphine",
            "John Varvatos Star USA",
            "La Fee Verte",
            "Silver Edition",
            "Gongshow",
            "Braveman",
            "Union",
            "Worn Jeans",
            "Le Mystere",
            "Sweatsedo",
            "Swim 365",
            "TC Fine Intimates",
            "Smith",
            "PacificPlex",
            "NOM",
            "Sunsets",
            "NurtureWear",
            "BBW Boutique",
            "Tommy Hilfiger",
            "Jules & Jim",
            "Reyn Spooner",
            "Ladies First",
            "Sanctuary",
            "Nine West",
            "Miraclebody",
            "FLATSEVEN",
            "Only Hearts",
            "DreamSacks",
            "Willow & Clay",
            "Bellfield",
            "NoeMie",
            "Bobi",
            "Burton",
            "Danny & Nicole",
            "[BLANKNYC]",
            "Hard Tail",
            "Becca by Rebecca Virtue",
            "Foxcroft",
            "The Scarf Company",
            "Henry & Belle",
            "Greystone",
            "Gift Warehouse",
            "Lucky Brand",
            "TUMI",
            "Ann Michell",
            "David Kahn",
            "Bailey",
            "Stetson",
            "Frankie B.",
            "Enro",
            "ICECREAM",
            "Rufskin",
            "Cheap Monday",
            "Bolzano",
            "Union Jeans",
            "Armani",
            "Tripp NYC",
            "KAVU",
            "Ripe Maternity",
            "Fever",
            "American Essentials",
            "A.B.S. by Allen Schwartz",
            "True Grit",
            "Karen Kane",
            "Bosca",
            "Field and Stream",
            "Throwdown by Affliction",
            "Vineyard Vines",
            "Outerwears",
            "LANHUACAO",
            "Fishworks",
            "The Best Dressed",
            "Alex Cannon",
            "Montique",
            "F/X FUSION",
            "Wilda",
            "Desigual",
            "A shore Fit",
            "Penbrooke",
            "Star Trek",
            "Krazy",
            "Eddie Bauer",
            "Turquoise",
            "Irall",
            "TAVIK",
            "Belly Armor",
            "Sons of Anarchy",
            "Shock Absorber",
            "Frank Dandy",
            "Hocosa of Switzerland",
            "Stand Stewart",
            "Rosa Faia by Anita",
            "'47 Brand",
            "Sunset",
            "Dominique",
            "Omit",
            "MariaE",
            "Carole Hochman",
            "Carhartt",
            "CasualMale",
            "Serfontaine",
            "BiFlex Intimates Group",
            "Merry Modes",
            "Columbia",
            "Ashworth",
            "Polo Ralph Lauren",
            "Mod-O-Doc",
            "NEARLY NUDE",
            "Lilac Maternity",
            "Dosh",
            "Topo Ranch",
            "Ash City",
            "Profile",
            "Alfani",
            "Eberjey",
            "London Times",
            "Josie by Natori",
            "Shaper Corset",
            "SmartTuxedo",
            "HKNB Heidi Klum for New Balance",
            "Three Dots",
            "LA Idol",
            "Comune",
            "Eileen West",
            "Yummie Tummie",
            "Giorgio Cerruti",
            "Switchblade Stiletto",
            "Johnstons of Elgin",
            "Freya",
            "Lysse Leggings",
            "HipSlimmer",
            "Toni Top",
            "Cinch",
            "Dare to Wear",
            "TD",
            "Spa & Resort Inc.",
            "Threads4Thought",
            "Sassybax",
            "Moonar",
            "Bella Materna",
            "Obey",
            "Oak Hill",
            "Ouran High School",
            "Athena",
            "Belabumbum",
            "Saucony",
            "Reebok",
            "Parfait by Affinitas",
            "Mummy Darling",
            "Parfait",
            "Stockings and Romance",
            "CORDOVAN & GREY",
            "Insound",
            "Biography Wear",
            "Harajuku",
            "DGK",
            "Grandoe",
            "Leon Levin",
            "Tipsy Elves",
            "Extreme 80s",
            "Alexanders",
            "Jack",
            "Cruel Girl",
            "Bleu Rod Beattie",
            "Rory Beca",
            "Anita",
            "Brandy Melville",
            "Zanerobe",
            "L.A. Idol Jeans",
            "Cool-jams Wicking Sleepwear",
            "Landisun",
            "Elomi",
            "Kushcush",
            "Belly Bandit",
            "RocketWear",
            "Coffeeshop",
            "Girbaud",
            "Woodmont",
            "Revlon",
            "Eco Swim",
            "Akademiks",
            "Boconi",
            "Gilden Tree",
            "Lanz of Salzburg",
            "Crazyheads",
            "Etnies",
            "Prego",
            "Majestic International",
            "Roamans",
            "Calvin Klein",
            "KR3W",
            "Kensie",
            "Tommy Bahama",
            "Tokidoki",
            "Va Bien",
            "Hermanny",
            "Frogg Toggs",
            "Elwood",
            "Aqua Sphere",
            "C-Panty",
            "Stitch's",
            "Fresh Laundry",
            "CEP",
            "Folter",
            "Tribal",
            "LaborLooks",
            "Tiana B",
            "DV by Dolce Vita",
            "Minus33 Merino Wool",
            "Panache",
            "Japanese Weekend",
            "JAG",
            "Everly Grey",
            "Calvin Klein Jeans",
            "BULWARK FR Clothing",
            "LIJA",
            "C1RCA",
            "Spanx",
            "Gabby Skye",
            "Cosabella",
            "Spiderman",
            "Bloomingdale's",
            "Marrikas",
            "Louis Raphael",
            "CEP Compression Socks",
            "Trafalgar",
            "LA IDOL",
            "Connected",
            "Lifetime Collective",
            "Boob",
            "P.J. Salvage",
            "Bluefin USA",
            "Petrol Jeans",
            "Drake",
            "HQ ISSUE",
            "CB",
            "Longitude Swimwear",
            "Roger Enterprises",
            "Dunbrooke",
            "Helmut Lang",
            "Rawik",
            "The Irish Linen Store",
            "DB Life Dana Buchman",
            "Beach Native",
            "Klondike Sterling",
            "Pajama Jeans",
            "Stussy",
            "Emerica",
            "Teeki",
            "Elvis",
            "Jess and Jane",
            "Two Dog Island",
            "Oscar de la Renta",
            "AGB",
            "Plan B",
            "Altamont",
            "Chaus",
            "Ralph by Ralph Lauren",
            "Ks",
            "Jack O'Neill",
            "Lysse",
            "Propper",
            "Diamond Chain",
            "RVCA",
            "Black Clover",
            "Kahala",
            "Emerson Street",
            "Tehama",
            "The Hong Kong Silk Co.",
            "Brabag",
            "Volcom",
            "LRG",
            "Seven7",
            "BG",
            "KUT from the Kloth",
            "Emanuel by Emanuel Ungaro",
            "Toes on the Nose",
            "Marc Ecko Cut & Sew",
            "Scala",
            "Smith Optics",
            "Dakota Grizzly",
            "Quiksilver",
            "Electric",
            "Sharon Max",
            "SLS3",
            "Woodleigh",
            "Allen Allen",
            "Analog",
            "Jessica London",
            "Fratelli Orsini Everyday",
            "Blue Banana",
            "Karen Nueburger",
            "Body Wrap",
            "Hanky Panky",
            "C. Luce",
            "Brooks",
            "Womama",
            "Trash Nouveau",
            "Fratelli",
            "Nomis",
            "Beauty Night",
            "Elle Macpherson Intimates",
            "JAG Jeans",
            "Lord Daniels",
            "Tifosi",
            "Lisse Leggings",
            "Baboosh",
            "Ralph Lauren Purple Label",
            "2EROS",
            "Swill",
            "Sullen",
            "Paul Malone",
            "Red Dot",
            "Purpura Erizo",
            "Tru-Spec",
            "True Nation",
            "Democracy",
            "ECHO",
            "John Hanly & Co.",
            "Liberty",
            "Reef",
            "Mothers en Vogue",
            "Ingrid & Isabel",
            "FMF",
            "Rocawear",
            "Fleur't",
            "Fuzzdandy",
            "Manufactured for Boeing",
            "BERLE",
            "L.A. Idol",
            "ITC",
            "CCV Inc",
            "Vertx",
            "John Fashion",
            "12XLShop Inc.",
            "ExOfficio",
            "PJ Harlow",
            "The Pajamagram Company",
            "Knox Armory",
            "Billabong",
            "ZOO YORK",
            "Daniel Buchler",
            "Ambiguous",
            "Testament",
            "Bacci",
            "JSLV",
            "No Fear",
            "PassionSpice",
            "Lytess",
            "BUDSHOP",
            "Anne Cole",
            "Blueprint",
            "Aftco",
            "2117 of Sweden",
            "Silverado",
            "Tri-Mountain",
            "SOLOW",
            "Matix",
            "Coolibar",
            "Julian Taylor",
            "August Silk",
            "Kenneth Cole REACTION",
            "Tilley",
            "Enjoi",
            "TRUKFIT",
            "Lord Daniel",
            "Coupe Collection",
            "FOXFIRE",
            "Mermaid Maternity",
            "wear ease",
            "Fit Couture",
            "BluePrint",
            "Big Feet Pajama Co.",
            "kensiegirl",
            "Greg Norman",
            "SmartWool",
            "eloquii",
            "Condor",
            "Glamourmom",
            "Banana Republic",
            "necessary objects",
            "Weathertamer",
            "Haggar",
            "Spa & Resort",
            "Element",
            "The West Coast",
            "Vista",
            "Sakkas",
            "Bigmansland",
            "SleepytimePjs",
            "Island Passport",
            "Callaway",
            "Fox",
            "Ike Behar",
            "Kawasaki",
            "Tiger Milly",
            "Edwards",
            "Isis",
            "Sirisha",
            "Marithe Francois Girbaud",
            "DTL Down The Line Sportswear Inc.",
            "Dotti",
            "EcoGirl",
            "PajamaCity",
            "ERGO",
            "Skelapparel",
            "Speedo",
            "Port Authority",
            "Ezekiel",
            "Weatherproof",
            "Bordeaux",
            "Resorts Plus",
            "stonepowerss",
            "Alpinestars",
            "Brixton",
            "Ray-Ban Junior",
            "Perry Ellis",
            "Andrew Christian",
            "Cleo",
            "55DSL",
            "!it Jeans",
            "Longitude",
            "CoffeeShop",
            "King Formal Wear",
            "CorsetDeal",
            "Rusty",
            "Vans",
            "Jedzebel",
            "ASICS",
            "Hurley",
            "LeSportsac",
            "So So Happy",
            "Marcoliani Milano",
            "Metal Mulisha",
            "Spring+Mercer",
            "Junk Food",
            "DC",
            "INC International Concepts",
            "Lost",
            "Bud Light",
            "KingSize",
            "Everjune",
            "FOURSQUARE",
            "Commando",
            "Alternative",
            "Provocative",
            "Casual Moments",
            "Football Fanatics",
            "Xtreme Couture",
            "David's Bridal",
            "Crooks and Castles",
            "Amicale",
            "Boca Classics",
            "Amoena",
            "SpongeBob SquarePants",
            "AriZona",
            "Super Mario",
            "Fourstar",
            "SnowAngel",
            "Oiselle Running",
            "Christmas Story",
            "PGA Tour",
            "TRUNKS",
            "Roxy",
            "Gownies",
            "Firefly",
            "BB",
            "Natural Gear",
            "Antonio Ansaldi",
            "GST",
            "So-So Happy",
            "Eva Varro",
            "The Trendy Me",
            "Aloha",
            "Jumpin Jammerz",
            "Bus Stop",
            "RAY&LI",
            "SZ",
            "A-Line",
            "Keep On Truckin' Apparel",
            "Mishka",
            "Legend",
            "Susan G. Komen for the CureÂ®",
            "Montefino",
            "Levi's",
            "UltraClub",
            "The TeaRoom",
            "Girlfriends Material",
            "Band Merch",
            "626 BLUE",
            "Cubavera",
            "Baby Be Mine",
            "LOTUSTRADERS",
            "Black Market-Lowbrow",
            "Authentic Pigment",
            "Girls4Sport",
            "Arbor",
            "Star Vixen",
            "Independent Trading Co",
            "Salt Life",
            "Zeniche",
            "Stone Touch",
            "Bonus",
            "Hee Grand",
            "American Eagle",
            "Iron Fist",
            "A Pea in the Pod",
            "Taxi Wallet",
            "TAXI Wallet",
            "Brighton",
            "BellaBand",
            "Chyor",
            "Moving Comfort",
            "Edwards Garment",
            "Steve and Barrys",
            "O'Neill",
            "Indiana Jones",
            "Leonisa",
            "Sourpuss Clothing",
            "Under Armour",
            "Carve Designs",
            "alo Sport",
            "Chestnut Hill",
            "Yala",
            "Queen",
            "Taillissime",
            "Stohlquist",
            "Arianne",
            "BANDOLINOBLU",
            "Rumina Nursingwear",
            "Creekwood",
            "WeekenderÂ®",
            "For Two Fitness",
            "Cashmere HS",
            "Tempco",
            "The Big Bang Theory",
            "Famous Stars and Straps",
            "Julie France",
            "Rip Curl",
            "Torrid",
            "NBC Universal",
            "Luxury Lane",
            "Glamour",
            "Marc Ecko",
            "Goddess",
            "Fox Racing",
            "Wacoal",
            "Boulder Creek",
            "Big and Tall Guys",
            "Browning",
            "Knothe",
            "Shadowline",
            "Grenade",
            "Fancee Free",
            "Vocal",
            "Jemcor",
            "H",
            "TYR",
            "Lindy Bop",
            "Funfash",
            "Ed Garments",
            "Fappac",
            "Delta Burke",
            "Spreadshirt",
            "Bolle",
            "Xscape",
            "DTA SECURED BY ROGUE STATUS",
            "Elila",
            "Sugoi",
            "Blanks",
            "Hollister",
            "Throwdown",
            "Intimo",
            "NEFF",
            "G by GUESS",
            "Pearl iZUMi",
            "Cotton Glam",
            "Boston Industrial",
            "adidas",
            "Blue Sky Swimwear",
            "Request",
            "MW",
            "Nearly Me",
            "BellyBra",
            "Be Wicked",
            "Foxfire",
            "Rago",
            "Melinda G",
            "Caterpillar",
            "Most Official Seven",
            "Carnegie Hall",
            "Spoylt",
            "Sleepyheads",
            "By The Sword Inc.",
            "Live for the Ride",
            "Machine Jeans",
            "555 Turnpike",
            "Avenged Sevenfold",
            "Nirvana",
            "Big Feet Pajama Co",
            "Flakisima",
            "Beauty and the Beach Blue Label",
            "Wyoming West Designs Llc",
            "Macks Prairie Wings",
            "Alexander Del Rossa",
            "The Brag Company",
            "Aimee Gowns",
            "Loyal",
            "Croker clothing",
            "SlideBelts",
            "Simms",
            "Lip Service",
            "Animal Planet",
            "Kangol",
            "Flying Tomato",
            "Vigoss",
            "Gracya",
            "Roar",
            "Gaiam",
            "Fox Outdoor",
            "Avenue",
            "My Michelle",
            "Cpanty",
            "Carnival",
            "FursNewYork",
            "Stan Herman",
            "Karl Lagerfeld for Impulse",
            "RD Style",
            "Pistol Pete",
            "Second Base",
            "C & C California",
            "Henry Segal",
            "Life Is Good",
            "Bullhead",
            "UR",
            "e.vil",
            "pennylanegifts",
            "EAGLE",
            "MANGO",
            "La Perla",
            "Timoteo",
            "eight sixty",
            "English Laundry",
            "Moda Essentials",
            "White Sierra",
            "Farr West",
            "robesale",
            "PUMA",
            "Bar III",
            "Gordini",
            "Wool Overs",
            "BridalPetticoat",
            "Cocksox",
            "COOL-JAMS WICKING SLEEPWEAR",
            "Nursing Mamas",
            "Bohn",
            "Fossil",
            "Expressiva Nursingwear",
            "CINCH",
            "Pacman",
            "Corona",
            "Island Soul",
            "Inches Off",
            "Trukfit",
            "JUMP",
            "Lodis",
            "Bayside Apparel",
            "Wrangler",
            "Bravado! Designs",
            "Portal 2",
            "Match",
            "InkAddict",
            "Miss Elaine",
            "Charles River Apparel",
            "XOXO",
            "JeansXL",
            "Sprawl",
            "American Fighter",
            "Brag Company",
            "HUGO BOSS",
            "KNOTHE SPA",
            "Body Glove",
            "Royal Silk",
            "District Made",
            "Glamorise",
            "Handful",
            "Vera Want",
            "Yala Designs",
            "Totes",
            "LLLI",
            "BODYSLIMMERS Nancy Ganz",
            "Jackie's Boutique",
            "PacSun",
            "NI9NE",
            "Fashion Forever",
            "Briggs",
            "Meister",
            "Kings' Court",
            "Threadless",
            "Vobaga",
            "Chaps",
            "Exotic India",
            "Superman",
            "Free People",
            "Soft Touch Linen",
            "Dickies",
            "Nautica",
            "Neil Allyn",
            "Sofia by Vix",
            "East Essence",
            "HOTmilk",
            "Dockers",
            "Weekender",
            "Sleepyeads",
            "HoodieBuddie",
            "Soft Ones",
            "Frederick's of Hollywood",
            "Elan",
            "J America",
            "Canterbury of New Zealand",
            "Subculture",
            "Undefeated",
            "RSQ",
            "John Sievers",
            "Timpa",
            "ROPA VOGA",
            "Harbor Bay",
            "Donald Seneca",
            "Lilo Maternity",
            "Flexees",
            "Linda Hartman",
            "Kovac Industries",
            "Eagle Eyes",
            "Wurkin Stiffs",
            "Snug Camisole",
            "Blue Platypus",
            "Vedette Shapewear",
            "Wurkin",
            "89th &#x0026; Madison",
            "Alia",
            "Teezâˆ’Her",
            "Apt 9",
            "BDI",
            "Timeteo",
            "Osgoode Marley",
            "Chelsea Studio",
            "econscious",
            "Big Feet Pjs",
            "Hip Hop 50s Shop",
            "Trump",
            "Artist Merch",
            "COPEN SPORTSWEAR",
            "Ford Motor Company",
            "Southern Thread",
            "NOTW",
            "Flex-Zone",
            "Paper Doll",
            "Rival",
            "Good Life Shirts",
            "HZF",
            "Cortland",
            "Rivers' End",
            "Retro Brand",
            "Ice",
            "Toddland",
            "funzee",
            "Thug or Angel",
            "College Classics",
            "Escargot Sportswear",
            "Aero Tech Designs",
            "Cactus Fashion",
            "Sauce",
            "Brand Q Vest",
            "Rapid Dominance",
            "Rafaella",
            "Blue Plate",
            "Playtex",
            "J Valdi",
            "Falcon Bay",
            "ULTRAFINO PANAMA HAT",
            "Besame",
            "TapouT",
            "BOTANY 500",
            "Lucca Couture",
            "Power Trip",
            "bSoft",
            "Diamond Plate",
            "Leather Gloves Online",
            "Old Shanghai",
            "Saltaire",
            "Blue Marlin",
            "Suncloud",
            "Corset Story",
            "Coquette",
            "Hot Chillys",
            "As U Wish",
            "Cosi",
            "SPORTAILOR",
            "Hot from Hollywood",
            "GUINNESS",
            "Benny's",
            "Knightsbridge of Canada",
            "Funzee",
            "Medela",
            "Lloyd Attree & Smith",
            "IZOD",
            "Fit2BMom",
            "Bali",
            "Pacific Legend",
            "ShaToBu",
            "Freestyle",
            "Snug Camisoles",
            "Sesame Street",
            "Kipling",
            "Grenier",
            "4-rth",
            "Teal Cove",
            "Carriwell",
            "1veMoon",
            "Rig'Em Right",
            "Harley-Davidson",
            "Colorado Clothing",
            "Patty",
            "Royal",
            "Savane",
            "Devon & Jones",
            "Paul Frank",
            "Island Outfitters",
            "Elixir",
            "Curious Designs",
            "Maui and Sons",
            "Walls",
            "Ride",
            "Jostar",
            "Sweetheart Slips",
            "Betsey Johnson",
            "Caribbean Joe",
            "American Apparel",
            "Ben Davis",
            "Agan Traders",
            "MUK LUKS",
            "Little Adventures",
            "AxParis",
            "Dolphin Shirt Co",
            "DeepPocket",
            "Crazeewear",
            "Underworks",
            "River Road",
            "NuBra",
            "Flying Monkey Jeans",
            "Free Country",
            "Romeo & Juliet Couture",
            "Sport-Tek",
            "La Leche League",
            "Vera Bradley",
            "Van Heusen",
            "Independent",
            "Ecko Unltd.",
            "Boca",
            "Rawlings",
            "Pashmina",
            "Fashion Love",
            "Hot Topic",
            "Angry Birds",
            "Hook & TackleÂ®",
            "Fabian",
            "Planet Earth",
            "Adriana",
            "Drawstrings",
            "Grace Elements",
            "Cuddl Duds",
            "Spacific Essentials",
            "Palmland",
            "Pistol Pete Underwear",
            "Majamas",
            "Hook and Tackle",
            "Adi Designs",
            "Champion",
            "Dukes of Hazzard",
            "RJC",
            "Double Platinum",
            "Pratt and Hart",
            "Blink Product Design",
            "Guide Gear",
            "La Leche League Sports Nurising Bra White",
            "Mikarose",
            "Brand Q",
            "Lilyette",
            "Mud Pie",
            "Canyon Ridge",
            "Maple Clothing",
            "YAGO",
            "Dearfoams",
            "Feetures",
            "J. America",
            "Comfort Colors",
            "Pull-in",
            "On The Byas",
            "N2N",
            "2b by bebe",
            "The SAK",
            "CTR Specialties",
            "Vitalsox",
            "Condessa",
            "Plugg Jeans Co.",
            "Wildman T",
            "Warrior",
            "Brookstone",
            "Monologue",
            "Miss London",
            "Lanz",
            "Monty Q",
            "BHPC By Miss London",
            "Visconti",
            "Bianca NygÃ¥rd",
            "Giorgio Brutini",
            "RU Sleeping",
            "Bauer",
            "Cool Kaftans",
            "House of Cheviot",
            "Beza",
            "Seal Skinz",
            "Beardski",
            "John Deere",
            "Lee",
            "Leading Lady",
            "Three Seasons Maternity",
            "N2N Bodywear",
            "Out of Print",
            "Sub Sports",
            "Alfred Dunner",
            "Beach Joy",
            "Ed Hardy",
            "DC Comics",
            "Donna Karan",
            "Rock Rebel",
            "Retro Fit",
            "iCollection Lingerie",
            "Fashion Victim",
            "Nation LTD",
            "District Threads",
            "Just Sexy",
            "Geoffrey Beene",
            "Harriton",
            "Guy Harvey",
            "A. Byer",
            "Affinitas Intimates",
            "Cocoon",
            "Candies",
            "Lily White",
            "La Palapa",
            "Jake Joseph",
            "Collegiate Surf and Sport",
            "Leo's",
            "Case IH",
            "Matrix",
            "Simple",
            "1vemoon",
            "Activewear Apparel",
            "Leisureland",
            "KY INTERNATIONAL",
            "My1stWish",
            "Hey Viv !",
            "GM",
            "Boutique 9",
            "UNIONBAY",
            "Hatley",
            "Cornerstone",
            "Plush",
            "Marina West",
            "Special Blend",
            "RYBA GENERAL MERCHANDISE",
            "Skinnygirl",
            "John Ashford",
            "Enyce",
            "Soybu",
            "DC Shoes",
            "Generra",
            "2(x)ist",
            "Bass",
            "J.B. Icelandic (Extreme Cold Activity)",
            "M-052BK",
            "Saddleback Leather Co.",
            "ROGUE",
            "Croft & Barrow",
            "Croft & BarrowÂ®",
            "Apparel Force",
            "Hot Fash",
            "Caribbean Sand",
            "TLB",
            "Charter Club",
            "Dreamgirl",
            "Elan USA",
            "FQH",
            "MV Sport",
            "Axis",
            "Coldpruf",
            "Felina",
            "Baby'O Clothing Co.",
            "Craft",
            "ARROW",
            "Aqua",
            "Badger",
            "COCO",
            "OnGossamer",
            "U.S. Polo Assn.",
            "Ecoscapes",
            "Converse",
            "STATE O MAINE",
            "Company 81",
            "Alex Stevens",
            "Cinema Etoile",
            "Jolt",
            "The Little Alpaca's House",
            "Royce Leather",
            "Laura",
            "Emporio Armani",
            "Revolt Jeans",
            "Annette",
            "Wolford",
            "Modus Vivendi",
            "Elita",
            "LA LECHE LEAGUE",
            "BOOTIGHTS",
            "Mwak",
            "Islandia",
            "Wonderbra",
            "Dessy",
            "Family Guy",
            "Motony",
            "Kavio",
            "The Magic Scarf Company",
            "JM",
            "Yourtack",
            "Only Necessities",
            "Aeropostale",
            "Sons Of Anarchy",
            "Forum Novelties Inc.",
            "5.11",
            "Lipo in a Box",
            "Irall Erotic",
            "Black Fuchsia",
            "You! Lingerie",
            "Jezebel",
            "KNOTHE CORP.",
            "Dr. Rey Shapewear",
            "Vx Intimate Inc",
            "Ocean Current",
            "Calida",
            "Sealed with a Kiss Designs Plus Size",
            "Active Products",
            "VX Intimate Inc",
            "Dallin Chase",
            "Cashmere Pashmina Group",
            "Burnside",
            "likemary",
            "Olga",
            "Drymax Socks",
            "Retrofit",
            "Saxx",
            "Trienawear Skirts",
            "PURE STYLE Girlfriends",
            "Y&G",
            "Buff",
            "Motherhood Maternity",
            "Goodhew",
            "Rhonda Shear",
            "Carolyn Forsman",
            "Shaynecoat",
            "Ecoland",
            "Ragged Ends",
            "ScotlandShop",
            "SlimMe",
            "Tuga",
            "Aerin Rose",
            "Beach Rays",
            "Blue Star Inc.",
            "Duck Commander",
            "Avital",
            "Age Group",
            "I5",
            "CASE IH",
            "Valor",
            "Paradox",
            "Panda Apparel",
            "Newport News",
            "Five Four",
            "Legendary Whitetails",
            "Night Shirt",
            "Title Boxing",
            "Chicastic",
            "TravelSox",
            "Koman",
            "Easy Expression",
            "Standard Supply",
            "Escantee",
            "Seven Til Midnight",
            "Sleepshirt",
            "Monte Carlo",
            "Rompers and Jumpsuits HS",
            "Western Express",
            "Modena",
            "Rocky",
            "Blanks Plus",
            "Spring & Mercer",
            "KISSABLE",
            "Out of Print Clothing",
            "Solid Color",
            "Mina",
            "Happy Family Clothing",
            "TS Swim",
            "Saved by the Bell",
            "Concitor",
            "Storus Corporation",
            "Dimrs",
            "American Rag",
            "XCVI",
            "Civil Society",
            "Duofold",
            "Sophie b.",
            "Tie-Dyed",
            "eVogues Apparel",
            "LAT Sportswear",
            "Rated M",
            "Wolverine",
            "Gemsli",
            "Fitness Etc.",
            "Dog Is Good",
            "Wrapper",
            "Morgan Taylor",
            "PinkClubwear",
            "Annalee + Hope",
            "Southpole",
            "Exquisite Form",
            "Kirra",
            "DREAMS",
            "Darn Tough",
            "Sosi B.",
            "Bump",
            "Gracia",
            "Libian",
            "Sugar Free Sox",
            "Terra Nomad",
            "VANCL",
            "John Henry",
            "Poof",
            "Mad Engine",
            "CANYON GUIDE",
            "Executive Dress Series",
            "The Posh Contessa",
            "deLux",
            "The Beach Depot",
            "Pretty Pushers",
            "Realtree",
            "Danskin",
            "Code V",
            "Costa Blanca",
            "Ian Leino Design",
            "Woman Within",
            "NOLLIE",
            "Breast is Best",
            "Barracuda",
            "Zonal",
            "Coal",
            "tasc Performance",
            "Isotoner",
            "Drymax",
            "Lorpen",
            "Walking Dead",
            "Minecraft",
            "Artex",
            "Nintendo",
            "I-pink",
            "Gypsy Rose",
            "Augusta",
            "Key Industries",
            "Sag Harbor",
            "YMI",
            "K-Swiss",
            "Out Of Print",
            "TrailHeads",
            "Touchpoint",
            "Jor",
            "Freegun",
            "LookbookStore",
            "La Leela",
            "LOCOMO Swimwear",
            "Harry Potter",
            "Blue Crown",
            "Unlead",
            "JEM Shape",
            "Mizuno",
            "JiMarti",
            "Turfer",
            "LAGUNA BEACH",
            "METROPARK",
            "Insight",
            "QT",
            "ToeSox",
            "Intimates Boutique",
            "Jaxon",
            "Preggers",
            "Terramar",
            "Jockey",
            "C-IN2",
            "Players",
            "Lizatards",
            "Mimi San",
            "Kerusso",
            "Canvas",
            "Dorfman Pacific",
            "dollhouse",
            "Weber's Leather",
            "Moon Shine Attitude Attire",
            "WARMEN",
            "Timberland",
            "Slimme",
            "ANS",
            "Rounderbum",
            "alight",
            "Stacy Adams",
            "Popsi Lingerie",
            "Modern Culture",
            "Colorado Timberline",
            "Obviously",
            "MontyQ",
            "Tops and Bottoms HS",
            "Power Club",
            "Argenti",
            "Chica Rica",
            "Nizo Wear",
            "Underboss/ Undergirl",
            "YUMS",
            "Marine",
            "Mountain Mama",
            "Hip",
            "Jeerzees",
            "Robinson",
            "Ocean Avenue",
            "Style & Co.",
            "Jou Jou",
            "Hello Kitty",
            "Living Dead Souls",
            "National",
            "Casual Socks",
            "Clever",
            "Private Label",
            "Therafirm",
            "Red Kap",
            "Copper Cove",
            "Eurosock",
            "Port & Company",
            "Gregg Homme",
            "Rampage",
            "Domo",
            "Dakine",
            "State O Maine",
            "Classroom Uniforms",
            "Jerzees",
            "Touch of Europe Flannel Pants",
            "Zumba Fitness",
            "So Wear it declare it",
            "Natashas Cafe",
            "Merry Toes",
            "A Christmas Story",
            "SNUG",
            "Teenage Mutant Ninja Turtles",
            "ESPN",
            "Mommy Paradise",
            "J Hat",
            "Swim Stat",
            "INF",
            "Sheridyn Swim",
            "KOI Medical",
            "Rimann & Associates",
            "UniformTux",
            "Talitnia",
            "Talitania",
            "Russell Athletic",
            "Chaos",
            "Bella",
            "Pookies by DFDesigns",
            "Storm Creek",
            "My1stwish",
            "Robinson Apparel",
            "Lobers",
            "Cloris Murphy",
            "Notations",
            "TVTimeDirect",
            "Stella Elyse",
            "icebreaker",
            "Heavenly Shapewear",
            "Gildan",
            "Bjorn Borg",
            "Joe's",
            "Sunner",
            "Insta Slim",
            "Ritchie Swimwear",
            "JET",
            "Buckwear",
            "ENDO Apparel",
            "Rock Face",
            "Jackson",
            "RIOT",
            "Ecko Red",
            "Panhandle Slim",
            "Lot 29",
            "M. Rena",
            "Dolce Vita",
            "Antigua",
            "Trixxi",
            "One Step Up Plus",
            "Of the Moment",
            "Pencey Standard",
            "HeatMax",
            "Pencey Standard Jessica Hart",
            "Hawke & Co",
            "Palmer",
            "Love Squared",
            "Fitsok",
            "Gotcha",
            "Moon Dance",
            "MJC International",
            "Maggie's Organics",
            "Noble Mount",
            "Covington",
            "Sassy Sarongs",
            "Hook & Tackle Clothing",
            "Sailor Jerry",
            "Mainstream",
            "True Soulmate",
            "Tultex",
            "Easy",
            "MARINO BAY",
            "Discovery Channel",
            "Wear Leg Warmers",
            "Wxy",
            "Monarchy",
            "Amethyst Jeans",
            "FASHION BOUTIQUE",
            "Exocet",
            "Harvard Square",
            "Softwear",
            "URBAN",
            "Carolina",
            "Stella",
            "GII",
            "Belly Button",
            "SwypeGloves",
            "I-Pink",
            "AnimalShirtsUSA",
            "Pillow Pets",
            "Winn",
            "San Diego Hat Company",
            "ArtsyClothingCompany",
            "Amnesty International",
            "Jamaican Style",
            "Steve Madden",
            "Playboy",
            "Black Hearts Brigade",
            "Clever Travel Companion",
            "District",
            "Curvi",
            "Khakis & Co",
            "Kanu Surf",
            "Silly yogi",
            "See Thru Soul",
            "LissKiss",
            "Boxercraft",
            "WMU",
            "Crystal Tees",
            "Cover Me",
            "Underglam",
            "Rainbow",
            "Hampton Direct",
            "La Leche League International",
            "bioworld",
            "Funny Apparel",
            "Jon & Anna",
            "DFDesigns",
            "ililily",
            "Vanity Fair",
            "Freeze",
            "Pretty Polly",
            "MeMoi",
            "Fertile Mind",
            "Botany 500",
            "Maidenform",
            "Golds Gym",
            "Material Girl",
            "Cherokee",
            "Collection XIIX",
            "under.me",
            "Blancq-Olibet",
            "VIVILLI",
            "TractionSocks",
            "Beverly Hills Basics",
            "Medline",
            "Swim Station",
            "Fashion Apparel",
            "F.U.S.A.I.",
            "Shagwear",
            "North River",
            "Lily of France",
            "Roma Costume",
            "Victorian Heart Co. Inc.",
            "Papi",
            "Wallflower",
            "Slim Me",
            "Green Tea",
            "Ahaarya",
            "b.tempt'd by Wacoal",
            "Wrightsock",
            "Mundo Unico",
            "Joe Snyder",
            "SY",
            "J.America",
            "Full Tilt",
            "Fullness",
            "Cantaloop",
            "New Balance",
            "Port",
            "M & F Western Products",
            "Tea Collection",
            "Barely There",
            "Micros",
            "Lamaze",
            "aler",
            "SEX NIGHT",
            "Bottoms Out",
            "Capezio",
            "Next Level",
            "LeggingsQueen",
            "Seirus Innovation",
            "COLD PRUF",
            "Body Wrappers",
            "Amazing Apparel",
            "Dickies Girl",
            "FEA",
            "180s",
            "Manzella",
            "Coobie",
            "La Leche League International Intimates",
            "Intymen",
            "Goorin Bros.",
            "Dakota",
            "Ayurvastram",
            "ClosetOnline",
            "Runway",
            "Serenity",
            "Konflict",
            "Soft Sensations",
            "Omni-Wool",
            "Black Web",
            "Peter Grimm",
            "Handkerchief Heaven",
            "1826",
            "Lady Romance",
            "DESMIIT",
            "Kalon",
            "Grass",
            "Comfort Choice",
            "Aviator",
            "Sweet",
            "The Natural",
            "Bravado",
            "Sox Shop",
            "mens cotton mix argyle socks",
            "Cameo",
            "Blue Star Inc",
            "TheLees",
            "Thorlo",
            "Coral Bay",
            "Lagaci Sport",
            "Buckle Down",
            "Bloom's Outlet",
            "Bslingerie",
            "Pikante",
            "Kati Rose",
            "Invisibelt",
            "SEOBEAN",
            "Fun Boxer",
            "Jacques Moret",
            "indigo",
            "Assassin's Creed III",
            "NYC FACTORY",
            "My Little Pony",
            "Rojas",
            "Young & Reckless",
            "Concepts Touchscreen Gloves",
            "Katnap",
            "Estee Lauder",
            "Wanted",
            "UltraSofts by National",
            "Flint and Tinder USA",
            "Headsweats",
            "Celeste",
            "Perry",
            "Assets",
            "Mundi",
            "Anvil",
            "Gold Toe",
            "Gilbin",
            "Icon",
            "Forum",
            "Honey Bun",
            "KENTWOOL",
            "Teez-Her",
            "Spalding",
            "MJ Soffe",
            "Spree",
            "WinnieFashion",
            "ian Leino Design",
            "Secret Lace",
            "Anna-Kaci",
            "White Orchid",
            "Bra Discs",
            "Zorrel",
            "Warner's",
            "Belevation",
            "Ames",
            "Good Devil",
            "Selena Gomez",
            "Pistil",
            "Fyasko",
            "Disney",
            "Forever Collectibles",
            "ADVADRI",
            "Dopp",
            "Eliana",
            "Forrest Gump",
            "Skechers",
            "White Mt.",
            "Fennco",
            "Adventure Time",
            "Romance",
            "Gary Majdell Sport",
            "Aetrex",
            "Blac Label",
            "Social Collision",
            "HUE",
            "Curve Appeal",
            "BKE",
            "Ellen Tracy",
            "Cloudveil",
            "FineBrandShop",
            "Solmate Socks",
            "Merch Makers",
            "Solmate",
            "Fluff",
            "Choye Toi",
            "Phases",
            "Rene Rofe",
            "Soft-Fit",
            "WILLIAM POWERS",
            "Florida Hat Company",
            "Kena Kai",
            "Alexander Julian",
            "Nittany Outlet",
            "Nyan Cat",
            "E2E",
            "Plejue",
            "Cleverbrand",
            "MW22",
            "BCO",
            "Slimming Tees",
            "Just a Kiss",
            "Zicac",
            "King Fromal Wear",
            "Body Trends",
            "F.U.S.A.I",
            "Plejue Inimates",
            "ColdPruf",
            "Pepsi",
            "COLD STORAGE",
            "Shupaca",
            "Intimates",
            "Kodiak",
            "MommyMilkÂ®",
            "Team",
            "Christopher Walken",
            "Cecico Clothing",
            "Jeanstar",
            "Maud Sylvina",
            "Call Of Duty",
            "Touch of Europe Capris",
            "Westmoor Mfg P/s",
            "Polo Jeans Co.",
            "Wearables",
            "Gloria Vanderbilt",
            "The Hunger Games",
            "Sunrise Outlet",
            "Lynn Ritchie",
            "Powerhouse Gym",
            "Soul Eater",
            "Always Sunny In Philadelphia",
            "Annex Clothing",
            "Dexter",
            "Hats",
            "Headchange",
            "Sgt Frog",
            "Footprint",
            "Shirt City",
            "Purpletopia",
            "Kleinert's",
            "V Fraas",
            "Hanes",
            "Angelina Hosiery",
            "High Style",
            "Single",
            "Just One",
            "JNCO",
            "Ms. Maggie",
            "Ms Maggie",
            "Teko",
            "Dr. Scholl's",
            "NaNa",
            "Christian Audigier",
            "Stormtech",
            "ZeroGravitee",
            "PPU",
            "East Valley Apparel",
            "Ouray Sportswear",
            "Kiss",
            "Fredricks of Hollywood",
            "Guinea",
            "LLange Maternity",
            "SODAtees",
            "Flyclothing",
            "Dan Post",
            "Hold-Up Suspender Co.",
            "NCIS",
            "Chuck",
            "point6",
            "Cover Male",
            "Samanthas Style Shoppe",
            "GoLite",
            "Evolatree",
            "FITS Sock Company",
            "FoxRiver",
            "Valmont",
            "Trasparenze",
            "Vivian's Fashions",
            "Briefly Stated",
            "Velrose",
            "Outdoor Life",
            "Cowboy Shop",
            "Nvie Basics",
            "Fun Boxers",
            "Baskit",
            "Fashion Forms",
            "Anemone",
            "Jobar",
            "Jenni",
            "LibbySue",
            "Alki'i",
            "Cecilia de Rafael",
            "WonderWink",
            "SethRoberts",
            "Ear Mitts; EarMitts",
            "The Original Bring It Up",
            "Wolfmark",
            "Coca-Cola",
            "French Toast",
            "Kikit",
            "LCW Men's",
            "Sportsman",
            "Scooby Doo",
            "Danbury",
            "Acura",
            "Mopas",
            "Steve & Barrys",
            "Foot Petals",
            "BANDOLINO",
            "Pamela Mann Hosiery",
            "Gipsy Hosiery",
            "Carol Wright Gifts",
            "Groovin'",
            "Fruit of the Loom",
            "La Fiorentina",
            "Artwedding",
            "Annabelle",
            "Keen",
            "Kirkland Signature",
            "Betty Boop",
            "Swiftwick",
            "Indera Mills",
            "Broner",
            "Wickers",
            "Grane",
            "Bridgedale",
            "Trendy Top",
            "Munsingwear",
            "35 Degree Below",
            "Rewash",
            "UnderFit",
            "Bikinimo Swimwear",
            "Talos",
            "Ear Mitts",
            "Sassy",
            "Cotton Traders",
            "Jesus Said",
            "LOCOMO Dresses",
            "Ymid Select",
            "1WorldSarong",
            "Frost Hats",
            "C.C. World",
            "Thermal Sport",
            "FreshGear AFX",
            "Fame Fabrics",
            "Reward",
            "Hilton Bay",
            "Sweet Dreams Maternity Wear",
            "Morris Costumes",
            "5 Seasons",
            "T Party",
            "TheTieBar",
            "PLATINUM INTIMATES",
            "Hollywood Star Fashion",
            "LabelShopper",
            "VIP BOUTIQUE",
            "Gem Avenue",
            "Harmonie",
            "Moontree",
            "Florsheim",
            "DesignSK",
            "Game Gear",
            "Sugarlips",
            "Zenana",
            "Ozone",
            "Yelete",
            "Indigo Rein",
            "Wigwam",
            "Nvie Designs",
            "YogaColors",
            "Bristols 6",
            "Tabbisocks",
            "BirthandBaby",
            "Swan",
            "IBIP",
            "Sabree",
            "Changes",
            "Port Company",
            "Sports Katz",
            "City Hunter",
            "Christmas Vacation Collectibles",
            "VIP FASHION",
            "Ames Walker",
            "Bungalow",
            "Doctor Who",
            "X-Socks",
            "Sexy You Can Do",
            "East of Maui Hawaiian Store",
            "Pitbull",
            "Back to Back",
            "Rolf's",
            "Body Touch",
            "ShimmyShimmy",
            "ECCO",
            "Knocker",
            "Styles For Less",
            "House Brand",
            "Brave Soul",
            "INDERA THERMALS",
            "Buxton",
            "Everlast",
            "vip boutique",
            "Thomas Bates Designs",
            "Celina",
            "Fox River Socks",
            "Comfort Zone",
            "Cashmere Int",
            "Luxury Divas",
            "Incrediwear",
            "Lady Hathaway",
            "REWASH",
            "TWELVE K",
            "BIKINI LAB",
            "Custom '77",
            "HEART SOUL",
            "Surfside",
            "Shirt.Woot",
            "FINESSE",
            "B. B. Jeans Fashion",
            "Toezies",
            "TREASURE ROCK",
            "LAST KISS",
            "BENNETT MALIBU",
            "Kari's Fashion",
            "CUTE OPTIONS",
            "Solemio",
            "Rockport",
            "Vigaro",
            "The Saress",
            "Flirt",
            "Northern Elements",
            "X-Gear",
            "ascension",
            "SilverHooks",
            "Newhattan",
            "Quirinos",
            "Classics By Palmland",
            "HOT",
            "SILK COUTURE",
            "CATAWBA",
            "YUUUP!",
            "Hannah",
            "STY",
            "EuroBrand",
            "Hollywood Mirror",
            "BeltsandStuds",
            "Angelina",
            "PLATINUM SPORT",
            "VooDoo Tactical",
            "Basic",
            "Knit Caps",
            "MR",
            "Squish",
            "Diabetic Care",
            "Xfy",
            "Just My Size",
            "PACT",
            "Marshal",
            "MTC",
            "Haband",
            "Island Escape",
            "Ultra Flirt",
            "Snoozies",
            "Scarfand",
            "Flexfit",
            "Central Park",
            "Ducti",
            "Injinji",
            "M. Stevens",
            "Women Only",
            "Black Diamond",
            "Tuxedo Park",
            "Ilitia",
            "SK Hat shop",
            "ACORN",
            "Spicy Spot",
            "World's Softest",
            "Baby Banz",
            "Essential Apparel",
            "Allegra K",
            "NLA",
            "Echomerx",
            "Wheel House Designs",
            "Sheer Delights",
            "Back to Nature",
            "C.C. Exclusives",
            "Shirt Me Up",
            "james",
            "Signiture",
            "ADAR UNIFORMS",
            "Vip boutique",
            "Fashion",
            "Touch of Europe Shirts & Tops",
            "tabbisocks",
            "Dapper World",
            "Garfield",
            "Capelli New York",
            "Field & Stream",
            "Donna Di Capri",
            "Levante",
            "Tyte",
            "Celebrity Pink",
            "SockGuy",
            "STYLE",
            "East Coast",
            "Shoe Hotline",
            "VIP",
            "NEXT LEVEL",
            "DECKY",
            "HUF",
            "Socksmith",
            "Pacific Legwear",
            "eyewear",
            "Illusion",
            "BH Medwear",
            "Ark apparel",
            "Atti Fashion",
            "Slim N Lift",
            "Sansha",
            "JustNeonTees",
            "Modern Heritage",
            "Modadorn",
            "NOLLIA",
            "Eurotard",
            "Lingerie",
            "Lov to Sleep",
            "Touch Screen Gloves",
            "Sheec",
            "Touch of Europe Boxers",
            "Omega",
            "Christopher Kelenc",
            "Wembley",
            "True Rock",
            "Mascot",
            "Stance",
            "Teramasu",
            "Up2date Fashion",
            "DandY",
            "OPSALES",
            "Luzy's Storage Place",
            "FREEGUN",
            "Carrie Amber",
            "blank apparel",
            "Ilusion",
            "Paper Magic",
            "TUMMY LINERS",
            "Body Language Fashions",
            "Foot Traffic",
            "Texcyngoods",
            "Serenada",
            "Cheerleading Company",
            "Sock It To Me",
            "FootJoy",
            "L'eggs",
            "Belts.com",
            "MG",
            "Pettipant",
            "Foot Traffice",
            "Universal Textiles",
            "Blue Line",
            "Happy Socks",
            "Danshuz",
            "Maria Rosa",
            "Alan Sloane",
            "Givenchy",
            "Next Level Apparel",
            "Varsity",
            "Cuffu Online",
            "Chic Intimates",
            "Olive Branch Legwear",
            "BonWorth",
            "Kurochiku",
            "Pink Lipstick",
            "Pony",
            "Feelmax",
            "Sentiments",
            "Lauren Silva",
            "Go Gloves",
            "Huf",
            "BOOB-EEZ",
            "Balega",
            "Under Moments",
            "Peach Couture",
            "Isadora Pacini",
            "HYP",
            "Richer Poorer",
            "Indera",
            "Aerosoles",
            "Rasta/NYE",
            "Jolie",
            "LOCOMO Leggings",
            "007Lingerie",
            "Croakies",
            "MK underwear",
            "Okutani",
            "VH Apparel - Kissables",
            "H2W",
            "Eel Skin",
            "K. Bell",
            "Fashion Essentials",
            "Fine Fit",
            "Ann West",
            "boxed-gifts",
            "DeFeet",
            "CUA",
            "Ooh La La",
            "Davco",
            "Holloway",
            "VH Apparel - All Mixed Up",
            "Lily's Hosiery",
            "Top Quality Products",
            "Love Tease",
            "Bundle Monster",
            "Braza",
            "Tresics",
            "Luxire Custom Clothing",
            "Berkshire",
            "ThatsRad",
            "TopTie",
            "Chemisettes by Anne",
            "Crystalcity-6662",
            "Gatta",
            "Rudsak",
            "SWG EYEWEARÂ®",
            "ChalkTalkSPORTS",
            "Nice Shades",
            "BBC",
            "G&G",
            "Red Blossom",
            "Tapp Collections",
            "Canari",
            "ShoSho Fashion",
            "Polar",
            "VH Apparel - Whatever It Takes Charity",
            "Private Member",
            "Dr. Comfort",
            "TIE-DYES",
            "Wayfarers",
            "Vittorino",
            "Slicon Bra",
            "Alpine Swiss",
            "Heritage",
            "Buster Brown",
            "Bag Girls",
            "Sunny Belt",
            "e.g. smith",
            "DPC/Scalar",
            "Louisville",
            "Crescent",
            "Flip",
            "Aviators",
            "White Lotus",
            "AJs",
            "G & S",
            "NU by John G",
            "ALL BLACK",
            "Online-Welcome",
            "Williamson",
            "COLDMASTER",
            "Malco Modes",
            "TrendsBlue",
            "Venom",
            "Pop Fashionwear",
            "Solutions That Stick",
            "DG Eyewear",
            "California Costumes",
            "Crazy Granny",
            "PowerSox",
            "Nollia",
            "Elements of Style",
            "D&Y",
            "Chang King",
            "MMG",
            "Zulu LAX",
            "Finaday",
            "NNW",
            "Turtle Fur",
            "July Women",
            "Trendy Trends",
            "Soho Girls",
            "VH Apparel - Grippem",
            "Dan Smith",
            "Private Island",
            "CTM",
            "AN1225",
            "Funny Girl Designs",
            "Worlds Softest Sock",
            "Greatlookz",
            "106Shades",
            "Aquapro",
            "K. Alexander",
            "Travelwell",
            "Ecosox",
            "Leather in Chicago",
            "IG Clear Lens",
            "Coool",
            "Dance 4 Less",
            "Toy Machine",
            "Excell",
            "SHARKK",
            "LnLClothing",
            "JMS",
            "Scarf_tradinginc",
            "Railroad Sock",
            "Jacob Alexander",
            "Safe-T-Gard",
            "Symphony Designs",
            "Creative Artistry",
            "Level 33",
            "Coloriffics",
            "Levusha Fashions",
            "MyEyeglassCase",
            "Soxnet",
            "Magic",
            "Gravity",
            "Lorraine",
            "SkidDERS",
            "Bargain Headbands",
            "Parquet",
            "George",
            "Star Ride",
            "Projeck Raw",
            "Pashminas4u",
            "Wurl",
            "L.O.G.A.",
            "QLook",
            "ZOCKS",
            "Ivory Falcon",
            "Selini NY",
            "Blue Q",
            "Diva",
            "FASH Limited",
            "Bunheads",
            "Hot Sox",
            "Peds",
            "Tabi Socks",
            "Rhino Socks",
            "NYfashion101",
            "NYGiftStop Winter",
            "Chances R",
            "Ties.com",
            "Extra Wide Sock Company",
            "Snob",
            "TopHeadwear",
            "GirlPROPS",
            "NYGiftStop Scarf",
            "Nippits",
            "Yimei",
            "NYGiftStop Knit Hat",
            "Rooster",
            "Trenway Textiles",
            "beltiscool",
            "Seinfeld",
            "MM Collections",
            "Plain Hats",
            "Fashion Gloves",
            "Bajer",
            "Kendall Drive",
            "Booty Pop",
            "Loravicci",
            "Gloves Online",
            "Medi",
            "Wise Guy Productions",
            "Burlington Socks",
            "Alivila.Y Fashion",
            "X-Loop",
            "MCap",
            "Vine Branch",
            "Wholesale LOCS DG XLOOP CHOPPERS",
            "Plastics Made in U.S.A.",
            "Dasha",
            "Urban Boundaries Eyewear",
            "Locs",
            "HDE",
            "Sock Company",
            "Keds",
            "Chasse",
            "Skyblue",
            "Tok Tok Designs",
            "Eros",
            "Palmetto Fundraising",
            "Star",
            "Extenders",
            "Wayfayrer",
            "Made in USA",
            "marshal"
           ],
           [
            830,
            749.989990234375,
            625.3750006357828,
            600,
            581.3822229173448,
            550,
            499.989990234375,
            479,
            417.7100003560384,
            414.9500122070313,
            408.5,
            396.989990234375,
            391.25,
            369.6,
            363.6516621907552,
            349.96666463216144,
            349.95001220703125,
            349.1700134277344,
            345,
            345,
            330.9381797096946,
            307.95001220703125,
            306.52125015258787,
            304.60999976264105,
            296.6666666666667,
            295,
            290.97833315531415,
            286.20428575788225,
            286,
            284.4949951171875,
            277.49500274658203,
            276,
            272.5,
            272,
            269,
            267.5,
            267.3333333333333,
            265.5199890136719,
            264.6733334859212,
            261,
            259.20000076293945,
            258.06667073567706,
            254,
            250,
            249.0942862374442,
            248.30999247233072,
            247.5,
            245.14285714285714,
            244.5,
            242.2899932861328,
            240.67499542236328,
            240,
            239.9900054931641,
            239.28571428571428,
            237.88500213623047,
            237.009994506836,
            236.5,
            236.43909142234108,
            230,
            228,
            227,
            225.1979995727539,
            219.96666463216147,
            219.94999694824216,
            217.4650001525879,
            217.35083389282227,
            217.29999796549478,
            215,
            211.94444444444446,
            211.69428144182476,
            210.83333333333334,
            210.53079956054688,
            210,
            209.9900054931641,
            209.00000508626303,
            208.87999979654947,
            207.7155558268229,
            207.66666666666666,
            206,
            205,
            204.94999694824216,
            204.83333333333334,
            203.65166600545248,
            201.42999976021903,
            200.24723352608106,
            199.9900054931641,
            199.94999694824216,
            198.88947336297286,
            198.33333333333334,
            198,
            197.66666666666666,
            197.5,
            197.46153846153845,
            196.15999857584634,
            195.4382355633904,
            195,
            193,
            191.5911102294922,
            190.78999938964844,
            190.4,
            189.94999694824216,
            189,
            188.70357193265642,
            187.69999694824216,
            186.61666361490884,
            185.6,
            184.94999694824216,
            182.49833297729492,
            181.1499997652494,
            180.99200286865238,
            180.96000289916992,
            180.95625114440918,
            179.9933319091797,
            179.99000549316406,
            179.99000549316406,
            179.99000549316406,
            179.9499969482422,
            179.9499969482422,
            178,
            176.75,
            176,
            174.99000549316406,
            174.98999532063803,
            173.47357177734375,
            173.33333333333334,
            172.91736913982191,
            172.49499893188477,
            172.02000045776367,
            171.11464309692383,
            171.06090889555034,
            170.97999572753906,
            170.56431835347956,
            169.99000549316406,
            169.9499969482422,
            169.9499969482422,
            169,
            169,
            168.62750244140625,
            168.41399993896485,
            168.0633341471354,
            165,
            165,
            163,
            162.5,
            160.41666666666666,
            159.99000549316406,
            159.99000549316406,
            159.9499969482422,
            159.45,
            158.75999450683594,
            158,
            156.6096295957212,
            156.57666524251303,
            156.53113679452375,
            155,
            155,
            154.8468415109735,
            154.07055607548466,
            153.92571258544922,
            153.66129056869013,
            153.12000444200305,
            153,
            152.8170000076294,
            152.49749946594238,
            152.10727310180664,
            152,
            151.33333333333334,
            150.8729091470892,
            150.13492063492063,
            150,
            149.99000549316406,
            149.97000122070312,
            149.68409070101652,
            149,
            149,
            149,
            149,
            149,
            148.75,
            148,
            147.66666666666666,
            146.26466573079426,
            146.25,
            146.05882352941177,
            144.99000549316406,
            144.49500274658203,
            144.16166814168295,
            144.07541704177856,
            144,
            143.97666676839194,
            142.99500274658203,
            142.24999872843424,
            142.1518759727478,
            141.7133331298828,
            140.19182135842064,
            140,
            139.99000549316406,
            139.9499969482422,
            139.9499969482422,
            139.9499969482422,
            139.5,
            139,
            138.33333333333334,
            137.6733341217041,
            137.5,
            136.75,
            136.5,
            136,
            135,
            135,
            135,
            134.99000549316406,
            134.95393914887399,
            134.88300323486328,
            134.5,
            133.84940355633378,
            133.3566665649414,
            132.9653126001358,
            132.31615271935095,
            132.2923079270583,
            132.0414663696289,
            130.73684210526315,
            130.4966662724813,
            130,
            130,
            129.79999923706055,
            129.74875020980835,
            129.74000549316406,
            129.63666788736978,
            129,
            128.5,
            127.8633321126302,
            127.61666361490886,
            127.4900016784668,
            127.4749984741211,
            126.85714285714286,
            126.74666595458984,
            126.52749872207642,
            125.9863636710427,
            125.83200073242188,
            125.69444465637207,
            125.2359994506836,
            125,
            125,
            125,
            124.9900016784668,
            124.98999786376952,
            124.88999997652493,
            124.8000030517578,
            124.36699981689453,
            123.25166670481364,
            123.21250009536743,
            122.70428648449126,
            122.66666666666667,
            122.61380976722354,
            122.53894765753495,
            122.49312400817871,
            122,
            121.83428628104073,
            121.0307148524693,
            120.78272767500444,
            120.11600006103515,
            120,
            120,
            120,
            120,
            120,
            120,
            120,
            119.9900016784668,
            119.98999786376952,
            119.9800033569336,
            119.94999694824219,
            119.7911114162869,
            119.58999972873264,
            119,
            118.75,
            118.53599853515625,
            118.10413807836072,
            118,
            117.5,
            117.27296295166016,
            117.13428606305804,
            116.6,
            116.49625015258789,
            115.67200012207032,
            115.61666615804036,
            115.59625005722046,
            115.48333231608073,
            115,
            114.9900016784668,
            114.98999900817871,
            114.98999786376952,
            114.98999786376952,
            114.75,
            114.57166703542073,
            114.54999923706055,
            114,
            113.67565121858016,
            113.38999938964844,
            113,
            113,
            112.5,
            112.29571369716099,
            112,
            111.99999745686848,
            111.81617669498219,
            111.36000061035156,
            111.3,
            110.92105263157895,
            110.53899995363676,
            110.5,
            110.33333333333333,
            110,
            110,
            109.76666666666667,
            109.26272652365945,
            108.66666666666667,
            108.02499993642171,
            108,
            107.94499969482422,
            107.9227778116862,
            107.81963397235405,
            107.48333231608073,
            107,
            106.85400161743163,
            106.42857142857143,
            106.19117635839126,
            105.92428425380162,
            105.7770004272461,
            105.5466660393609,
            105.36018992370029,
            105,
            104.9900016784668,
            104.98999786376952,
            104.98999786376952,
            104.97416671117146,
            104.94999694824219,
            104.39444139268662,
            104.28153844980093,
            104.25862068965517,
            104.00749969482422,
            103.99499893188477,
            103.9499969482422,
            103.5,
            103,
            102.9044426812066,
            102.78259239667727,
            102.77263179578279,
            102.58000183105467,
            102.5,
            102.15374970436096,
            101.72999954223633,
            101.66666666666667,
            101.11916653315227,
            100.53179775195176,
            100.08857160295759,
            100,
            100,
            100,
            100,
            99.9900016784668,
            99.98999786376952,
            99.98999786376952,
            99.98999786376952,
            99.98999786376952,
            99.9499973297119,
            99.94999694824216,
            99.94999694824216,
            99.90545446222478,
            99.49166615804036,
            99.39500045776367,
            99.1236343383789,
            99.08578932912727,
            99.06449851989746,
            99,
            99,
            99,
            99,
            99,
            99,
            99,
            99,
            98.9900001525879,
            98.94999694824216,
            98.66666666666667,
            98.5,
            98.27272727272727,
            98.19253317515056,
            98.08000183105467,
            98.026833597819,
            98,
            97.8000030517578,
            97.16666666666667,
            96.98160051981608,
            96.57714298793248,
            96.53250026702881,
            96.00333404541016,
            96,
            95.99551654684133,
            95.98999786376952,
            95.98999786376952,
            95.98999786376952,
            95.66666666666667,
            95.61090920188211,
            95.41178573880877,
            95.3863639831543,
            95.12272713401101,
            95,
            95,
            94.98999786376952,
            94.94999694824216,
            94.94999694824216,
            94.92,
            94.66666666666667,
            94.5,
            94.0049991607666,
            94,
            94,
            93.77150451187539,
            93.55697001832904,
            93.20875024795532,
            93.125,
            93.08199971516927,
            93,
            92.98999786376952,
            92.94999980926514,
            92,
            92,
            91.94999694824216,
            91.58097569535418,
            91.57545471191406,
            91.57095227922711,
            91.56166617075603,
            91.38999969482421,
            91.14285714285714,
            91,
            90.29333368937175,
            90.11499786376953,
            90,
            90,
            90,
            90,
            90,
            89.98999786376953,
            89.98999786376953,
            89.98999786376953,
            89.98999786376953,
            89.9800033569336,
            89.94999694824219,
            89.94999694824217,
            89.94999694824217,
            89.94999694824217,
            89.3249991280692,
            89.3,
            89.12500095367432,
            89,
            89,
            89,
            89,
            89,
            88.98999786376953,
            88.94999694824217,
            88.81333414713542,
            88.80285753522601,
            88.33333333333333,
            88,
            88,
            88,
            88,
            88,
            87.98999786376953,
            87.94999694824216,
            87.90500100453694,
            87.77200012207031,
            87.625,
            87.48249912261963,
            87.20593212418638,
            87.18999938964843,
            87.14285714285714,
            87,
            86.9692851475307,
            86.875,
            86.50555250379772,
            86.39119987487793,
            86.36249995231628,
            86.24000096321106,
            85.9000015258789,
            85.66947314613743,
            85.60999933878581,
            85.5979995727539,
            85.11941169289982,
            85,
            84.98999786376953,
            84.5033058923138,
            84.32750053405762,
            84.27999877929686,
            84.22777726915147,
            84,
            84,
            84,
            83.91999980381557,
            83.76839518841402,
            83.71249771118164,
            83.52142551967074,
            83.39142848423549,
            83.34799880981446,
            83.33249998092651,
            83.29571437835693,
            83.18000030517578,
            83.18000030517578,
            82.95000145652078,
            82.78315734863281,
            82.66333262125652,
            82.60714149475098,
            82.48999786376953,
            82.46699943542481,
            82.1875,
            82.04208294550578,
            82,
            82,
            81.98999786376953,
            81.95333304228606,
            81.94999694824217,
            81.66666666666667,
            81.5,
            81.32384373591495,
            81.06999969482422,
            81,
            80.97833347320557,
            80.94999694824217,
            80.75,
            80.5,
            80.42857142857143,
            80.25124994913737,
            80.16666666666667,
            80.11833381652832,
            80,
            80,
            80,
            80,
            80,
            80,
            79.98999786376953,
            79.98999786376953,
            79.98999786376953,
            79.98999786376953,
            79.98999786376953,
            79.98999786376953,
            79.98999786376953,
            79.94999694824217,
            79.94999694824217,
            79.94999694824217,
            79.92000198364258,
            79.9000015258789,
            79.87833309173584,
            79.86399993896484,
            79.66666666666667,
            79.5,
            79.28333028157552,
            79.23999977111816,
            79.0845454822887,
            79,
            79,
            79,
            79,
            79,
            78.69709694770074,
            78.60049982070923,
            78.37428610665458,
            78.05999963933772,
            78,
            78,
            77.94999694824217,
            77.58375000953674,
            77.50000063578288,
            77.48999786376953,
            77.44999853769937,
            77.26000213623048,
            77.18999786376953,
            77.06750011444092,
            77,
            76.92928559439522,
            76.62375020980835,
            76.62374973297119,
            76.6,
            76.57000007629395,
            76.5577769809299,
            76.5,
            76.48368413824784,
            76.47267855916705,
            76.19677463654548,
            76.02750015258789,
            76,
            75.96999931335449,
            75.625,
            75.62333552042644,
            75.54250001907349,
            75.45363573594527,
            75.38125038146973,
            75.2,
            75,
            75,
            75,
            75,
            75,
            75,
            75,
            74.99500179290771,
            74.98999881744385,
            74.94999694824219,
            74.74499893188477,
            74.72999954223633,
            74.65500005086263,
            74.6,
            74.32333246866862,
            74,
            73.98999786376953,
            73.98999786376953,
            73.84375011920929,
            73.75,
            73.60499954223633,
            73.49749946594238,
            73.44569725629343,
            73.32700042724609,
            73.32142857142857,
            73.25,
            73.14516141337734,
            73.08583407931857,
            73,
            72.9800033569336,
            72.8752632643047,
            72.75,
            72.75,
            72.72999954223633,
            72.59699935913086,
            72.5,
            72.44090791182084,
            72.28900032043457,
            72.2278573172433,
            72.19949989318847,
            72,
            72,
            72,
            72,
            71.94999694824219,
            71.94999694824219,
            71.7953490434691,
            71.73999977111816,
            71.69999694824219,
            71.6299991607666,
            71.5,
            71.49499893188477,
            71.41666666666667,
            71.33333333333333,
            71.33333333333333,
            71.26666666666667,
            71.11857169015067,
            71.0611089070638,
            71.01857158115932,
            71,
            70.90749994913737,
            70.8083324432373,
            70.77851853547273,
            70.7699966430664,
            70.61030295400909,
            70.54000091552734,
            70.27166668574016,
            70.25921063674123,
            70,
            70,
            70,
            69.98999786376953,
            69.98999786376953,
            69.98999786376953,
            69.98999786376953,
            69.98999786376953,
            69.98999786376953,
            69.98999786376953,
            69.98999786376953,
            69.98999786376953,
            69.98999786376953,
            69.98999786376953,
            69.98999786376953,
            69.94999694824219,
            69.70714405604771,
            69.62790951799991,
            69.58999633789062,
            69.57666524251302,
            69.49499893188477,
            69.26499938964844,
            69.24727353182706,
            69,
            69,
            69,
            69,
            69,
            69,
            69,
            69,
            68.94999694824219,
            68.8333346048991,
            68.79071440015521,
            68.74765422172153,
            68.7475004196167,
            68.56999969482422,
            68.55999755859375,
            68.54888916015625,
            68.46974551879754,
            68.32200088500977,
            68.23281249403954,
            68.15692292726956,
            68,
            68,
            68,
            68,
            67.98999786376953,
            67.49571446010044,
            67.4720006942749,
            67.42142868041992,
            67.34857177734375,
            67.29818170720881,
            66.90666596094768,
            66.80714144025528,
            66.5,
            66.49833333492279,
            66.48499870300293,
            66.23666636149089,
            66.18181818181819,
            66.10142844063895,
            66.03695446511973,
            66,
            66,
            66,
            66,
            66,
            66,
            65.98999933096079,
            65.98999786376953,
            65.98999786376953,
            65.94999694824219,
            65.81428582327706,
            65.57142857142857,
            65.56714194161552,
            65.55181815407492,
            65.47500038146973,
            65.43562531471252,
            65.43000030517578,
            65.41777801513672,
            65.4,
            65.18571472167969,
            65.08250021934509,
            65,
            65,
            65,
            65,
            65,
            65,
            65,
            64.98999977111816,
            64.98999786376953,
            64.96999931335449,
            64.94999694824219,
            64.94999694824219,
            64.94999694824219,
            64.94999694824219,
            64.9307141985212,
            64.78999862670898,
            64.68000030517578,
            64.65599975585937,
            64.56652168605639,
            64.5,
            64.49333349863689,
            64.4749984741211,
            64.33333333333333,
            64.27571269444057,
            64.17499923706055,
            64.16999816894531,
            64.02692134563739,
            64,
            64,
            64,
            64,
            64,
            64,
            64,
            64,
            64,
            64,
            63.98999862670898,
            63.94999949137369,
            63.77999992370606,
            63.72261537405161,
            63.68230731670673,
            63.66148905111271,
            63.397142682756694,
            63.36279975891113,
            63.341298858840744,
            63.30666681925456,
            63,
            62.9900016784668,
            62.8799991607666,
            62.789999389648436,
            62.63999843597412,
            62.62249946594238,
            62.56666564941406,
            62.54142870221819,
            62.42333475748698,
            62.386000061035155,
            62.2425012588501,
            62,
            61.929998942783904,
            61.80000114440918,
            61.523809523809526,
            61.51200002034505,
            61.47333335876465,
            61.36363636363637,
            61.34615384615385,
            61.2649220302701,
            61.2400016784668,
            61.02666727701823,
            60.983333587646484,
            60.8421052631579,
            60.80000050862631,
            60.72718766331673,
            60.71666717529297,
            60.69333267211914,
            60.65666834513346,
            60.28629627934209,
            60.21666717529297,
            60,
            60,
            60,
            60,
            60,
            60,
            59.9900016784668,
            59.9900016784668,
            59.9900016784668,
            59.9900016784668,
            59.9900016784668,
            59.9900016784668,
            59.9900016784668,
            59.9900016784668,
            59.9900016784668,
            59.9900016784668,
            59.9900016784668,
            59.9900016784668,
            59.9900016784668,
            59.964283534458694,
            59.959999084472656,
            59.950000762939446,
            59.950000762939446,
            59.950000762939446,
            59.950000762939446,
            59.900001525878906,
            59.89999961853028,
            59.82437515258789,
            59.8233331044515,
            59.75,
            59.61066665649414,
            59.59588252796846,
            59.58000183105469,
            59.5,
            59.450000762939446,
            59.25,
            59.21799850463867,
            59.19285637991769,
            59.190821817476454,
            59,
            59,
            59,
            58.880001068115234,
            58.739999771118164,
            58.700000762939446,
            58.66339026411919,
            58.5583927163056,
            58.526315789473685,
            58.46999931335449,
            58.36564108041617,
            58.34000015258789,
            58.30125045776367,
            58.18500035603841,
            58.145999145507815,
            58.135000705718994,
            58.062498569488525,
            58.04120628193659,
            58.02375030517578,
            58,
            57.950000762939446,
            57.84000015258789,
            57.74599965413412,
            57.58999967575073,
            57.48999996185303,
            57.450000762939446,
            57.44454609264027,
            57.36363636363637,
            57.2560001373291,
            57.24272684617476,
            57.04499912261963,
            57,
            56.989999771118164,
            56.97999954223633,
            56.950000762939446,
            56.76714161464145,
            56.65714318411691,
            56.5,
            56.465000788370766,
            56.35000038146973,
            56.00999959309896,
            56,
            56,
            56,
            56,
            55.95000076293945,
            55.950000762939446,
            55.82857295445034,
            55.805714334760395,
            55.74000072479248,
            55.70625030994415,
            55.7,
            55.63904780433292,
            55.54076928358812,
            55.5,
            55.4900016784668,
            55.39421071504292,
            55.375,
            55.29899978637695,
            55.175000508626304,
            55.08799991607666,
            55.05200004577637,
            55,
            55,
            55,
            54.9900016784668,
            54.9900016784668,
            54.9900016784668,
            54.950000762939446,
            54.94999885559082,
            54.900001525878906,
            54.88999994595846,
            54.666666666666664,
            54.656667189164594,
            54.59999847412109,
            54.549743578984184,
            54.49210528323525,
            54.40399907430013,
            54.07166608174642,
            54.02000045776367,
            54,
            54,
            54,
            54,
            53.9950008392334,
            53.9900016784668,
            53.9900016784668,
            53.9900016784668,
            53.99000015258789,
            53.970001220703125,
            53.950000762939446,
            53.92963686856356,
            53.88333384195963,
            53.86516140353295,
            53.774444862648295,
            53.76000061035156,
            53.666666666666664,
            53.463091070001774,
            53.3,
            53.2966677347819,
            53.25,
            53.21333440144857,
            53.107500076293945,
            53.046665827433266,
            53,
            53,
            53,
            52.9900016784668,
            52.9900016784668,
            52.9900016784668,
            52.97500038146973,
            52.92099389970673,
            52.91160034179688,
            52.900001525878906,
            52.81818181818182,
            52.800000508626304,
            52.790000915527344,
            52.77999877929688,
            52.74865604048016,
            52.74310302734374,
            52.684999995761444,
            52.666666666666664,
            52.630001068115234,
            52.589999771118165,
            52.53454503146085,
            52.521429334368015,
            52.5,
            52.464999198913574,
            52.42673927804698,
            52.36750030517578,
            52.350000762939445,
            52.32333501180013,
            52.283332824707024,
            52.26000086466471,
            52.13285882132394,
            52.0099983215332,
            52,
            52,
            52,
            51.950000762939446,
            51.950000762939446,
            51.949999536786756,
            51.90122430178584,
            51.8174193597609,
            51.8120002746582,
            51.764443927341034,
            51.67500114440918,
            51.65666707356771,
            51.61666742960611,
            51.6021205439712,
            51.51411797018612,
            51.5,
            51.49054387341375,
            51.48833338419596,
            51.333333333333336,
            51.2985714503697,
            51.2476921081543,
            51.2400016784668,
            51.200000762939446,
            51.13261795043945,
            51.09999923706056,
            51.03875017166138,
            51.01705887738396,
            50.969998359680176,
            50.961428710392546,
            50.879567043089764,
            50.86666615804037,
            50.69500160217285,
            50.69444444444444,
            50.67509103254839,
            50.671428952898296,
            50.663333892822266,
            50.63902780744765,
            50.5950002670288,
            50.5,
            50.4900016784668,
            50.415600051879885,
            50.38571439470563,
            50.29333368937174,
            50.285714285714285,
            50.27702189506368,
            50.26333363850912,
            50.17031294107437,
            50.140476953415636,
            50.0988892449273,
            50,
            50,
            50,
            50,
            50,
            50,
            50,
            50,
            50,
            50,
            50,
            50,
            50,
            49.9975004196167,
            49.9907693596153,
            49.9900016784668,
            49.9900016784668,
            49.9900016784668,
            49.9900016784668,
            49.9900016784668,
            49.9900016784668,
            49.9900016784668,
            49.9900016784668,
            49.9900016784668,
            49.9900016784668,
            49.9900016784668,
            49.9900016784668,
            49.9900016784668,
            49.99000040690104,
            49.950000762939446,
            49.950000762939446,
            49.950000762939446,
            49.950000762939446,
            49.950000762939446,
            49.950000762939446,
            49.91139076115082,
            49.90500094095866,
            49.900001525878906,
            49.900001525878906,
            49.75,
            49.75,
            49.717826760333516,
            49.71454603021795,
            49.710001678466796,
            49.67727349021217,
            49.664443757798935,
            49.638888888888886,
            49.61666615804035,
            49.6,
            49.506666819254555,
            49.5,
            49.5,
            49.4900016784668,
            49.48999881744385,
            49.27000045776367,
            49.25,
            49.212499380111694,
            49.05434782608695,
            49,
            49,
            49,
            49,
            49,
            48.93039993286133,
            48.832500457763665,
            48.790000915527344,
            48.77000015432184,
            48.72500038146973,
            48.7,
            48.65000025431315,
            48.637777822989,
            48.51250012715658,
            48.423333485921226,
            48.400625586509705,
            48.4,
            48.326666514078774,
            48.32333501180013,
            48.20428603036063,
            48.05400021870931,
            48,
            48,
            48,
            47.9950008392334,
            47.9900016784668,
            47.9900016784668,
            47.9900016784668,
            47.950000762939446,
            47.771000099182125,
            47.76499938964844,
            47.72047646840414,
            47.71739130434783,
            47.4950008392334,
            47.489999771118164,
            47.47500038146973,
            47.36875057220459,
            47.31266695658366,
            47.30727291107178,
            47.222063473292756,
            47.16499900817871,
            47.15500020980835,
            47.13100109100342,
            47.11333262125651,
            47.09464291163853,
            47.0599998474121,
            47,
            46.9900016784668,
            46.9900016784668,
            46.950000762939446,
            46.83454548228871,
            46.832106941624694,
            46.74000148773193,
            46.702330132053326,
            46.69000015258789,
            46.656667709350586,
            46.5,
            46.4975004196167,
            46.459999084472656,
            46.450000762939446,
            46.44000053405762,
            46.416666666666664,
            46.303332010904946,
            46.21142850603376,
            46.16166687011719,
            46.12909091602672,
            46.09785713468279,
            46.0625,
            46.04708290100098,
            46,
            45.950000762939446,
            45.91631993103027,
            45.9,
            45.87000020345052,
            45.6150016784668,
            45.47500038146973,
            45.470001220703125,
            45.43499946594238,
            45.430000305175774,
            45.39071410042899,
            45.333333333333336,
            45.2906254529953,
            45.01500129699707,
            45,
            45,
            45,
            45,
            45,
            45,
            44.9975004196167,
            44.9900016784668,
            44.9900016784668,
            44.9900016784668,
            44.9900016784668,
            44.9900016784668,
            44.9900016784668,
            44.9900016784668,
            44.989231017919685,
            44.95000076293945,
            44.950000762939446,
            44.950000762939446,
            44.950000762939446,
            44.950000762939446,
            44.950000762939446,
            44.950000762939446,
            44.950000762939446,
            44.923333485921226,
            44.888888888888886,
            44.87500015894572,
            44.854000091552734,
            44.84000015258789,
            44.74749994277954,
            44.661111195882164,
            44.649999936421715,
            44.58500003814697,
            44.5,
            44.46666666666667,
            44.45000076293945,
            44.29999923706056,
            44,
            44,
            44,
            44,
            44,
            43.95000076293945,
            43.938793116602405,
            43.894137875787145,
            43.75,
            43.700000762939446,
            43.67666753133138,
            43.67400131225586,
            43.66272808421742,
            43.5,
            43.47500038146973,
            43.470001220703125,
            43.32333501180013,
            43.32333246866862,
            43.28333409627279,
            43.27999973297119,
            43.25000076293945,
            43.20000044504801,
            43.13999938964844,
            43.11000061035156,
            43.0625,
            43.05789485730622,
            43,
            43,
            43,
            43,
            43,
            42.9900016784668,
            42.9900016784668,
            42.9900016784668,
            42.9900016784668,
            42.9900016784668,
            42.99000091552735,
            42.97666803995768,
            42.96000099182129,
            42.949999491373696,
            42.91499996185303,
            42.773457902543086,
            42.73357146126883,
            42.71500205993652,
            42.6900016784668,
            42.666666666666664,
            42.63666661580404,
            42.592273538762875,
            42.58933372497559,
            42.55000076293945,
            42.5,
            42.4900016784668,
            42.45000076293945,
            42.37671666358834,
            42.375,
            42.34416667620341,
            42.142857142857146,
            42.03500175476074,
            42.024688720703125,
            42,
            42,
            42,
            42,
            42,
            42,
            42,
            41.996667014227974,
            41.9900016784668,
            41.9900016784668,
            41.98916673660278,
            41.930000305175774,
            41.80666542053223,
            41.75,
            41.748334089914955,
            41.71500072479248,
            41.666666666666664,
            41.663333892822266,
            41.663333892822266,
            41.65666834513346,
            41.409881106444764,
            41.384106592533705,
            41.3033332824707,
            41.28000068664551,
            41.15666834513346,
            41.12714276994978,
            41.06713692925193,
            41,
            41,
            40.98277780744765,
            40.950000762939446,
            40.8936170212766,
            40.86625099182129,
            40.814998626708984,
            40.78000005086263,
            40.66333325703939,
            40.49000072479248,
            40.4860013961792,
            40.47500038146973,
            40.400001525878906,
            40.333333333333336,
            40.30743594047351,
            40.22500038146973,
            40.18111122979058,
            40.15942309452937,
            40,
            40,
            40,
            40,
            40,
            40,
            40,
            40,
            40,
            40,
            40,
            40,
            40,
            40,
            39.9900016784668,
            39.9900016784668,
            39.9900016784668,
            39.9900016784668,
            39.9900016784668,
            39.9900016784668,
            39.9900016784668,
            39.9900016784668,
            39.9900016784668,
            39.9900016784668,
            39.9900016784668,
            39.9900016784668,
            39.9900016784668,
            39.9900016784668,
            39.9900016784668,
            39.9900016784668,
            39.9900016784668,
            39.980000495910645,
            39.970001220703125,
            39.960587838116815,
            39.95999984741211,
            39.950000762939446,
            39.950000762939446,
            39.950000762939446,
            39.950000762939446,
            39.950000762939446,
            39.950000762939446,
            39.950000762939446,
            39.900001525878906,
            39.857500076293945,
            39.81214346204485,
            39.663333892822266,
            39.494146393566595,
            39.390000343322754,
            39.363332430521645,
            39.332858494349885,
            39.30500078201294,
            39.254583279291786,
            39,
            39,
            39,
            38.99499988555908,
            38.950000762939446,
            38.950000762939446,
            38.950000762939446,
            38.94333267211915,
            38.923333485921226,
            38.82083288828532,
            38.81818181818182,
            38.77749986648559,
            38.740882396698,
            38.59000015258789,
            38.5,
            38.435001373291016,
            38.43444583151076,
            38.384286063058035,
            38.32333501180013,
            38.3000005086263,
            38.283334096272775,
            38.25923112722543,
            38.25,
            38.21421057048597,
            38.09749984741211,
            38.072111405266654,
            38.07000160217285,
            38,
            38,
            38,
            38,
            38,
            38,
            38,
            38,
            38,
            37.9900016784668,
            37.9900016784668,
            37.986620083661144,
            37.950000762939446,
            37.82650958367114,
            37.739999294281006,
            37.69847890605097,
            37.68888931274414,
            37.59774189610635,
            37.4900016784668,
            37.49000072479248,
            37.45000076293945,
            37.380001068115234,
            37.362000942230225,
            37.36000061035156,
            37.32333501180013,
            37.30294193941004,
            37.1600000674908,
            37.15500005086263,
            37.15020726258273,
            36.9900016784668,
            36.9900016784668,
            36.9900016784668,
            36.9900016784668,
            36.978928565979004,
            36.950000762939446,
            36.950000762939446,
            36.950000762939446,
            36.924474364832825,
            36.900000381469724,
            36.89181882684881,
            36.833333333333336,
            36.79599952697754,
            36.758000946044916,
            36.68999981880188,
            36.67538437476525,
            36.666666666666664,
            36.653207886893796,
            36.55375003814697,
            36.50055540932549,
            36.5,
            36.44500160217285,
            36.43444591098361,
            36.39600028991699,
            36.28939387774226,
            36.24499988555908,
            36.2425012588501,
            36.180000305175774,
            36.07428577968052,
            36.065385378324066,
            36.04888937208388,
            36.02999973297119,
            36.02187526226044,
            36,
            36,
            36,
            36,
            36,
            35.9900016784668,
            35.95780879995796,
            35.95000076293945,
            35.95000076293945,
            35.95000076293945,
            35.950000762939446,
            35.84000015258789,
            35.83312547206879,
            35.720001220703125,
            35.65666834513346,
            35.64111179775662,
            35.62857164655413,
            35.59800033569336,
            35.59000051589239,
            35.525454954667524,
            35.47249984741211,
            35.28846153846154,
            35.24833329518636,
            35.2450008392334,
            35.18230805030236,
            35.172667566935225,
            35.12249994277954,
            35.061875104904175,
            35.013492826431516,
            35,
            35,
            35,
            35,
            35,
            35,
            35,
            34.9950008392334,
            34.9900016784668,
            34.9900016784668,
            34.9900016784668,
            34.9900016784668,
            34.9900016784668,
            34.9900016784668,
            34.9900016784668,
            34.9900016784668,
            34.9900016784668,
            34.99000072479248,
            34.97999954223633,
            34.95000076293945,
            34.95000076293945,
            34.95000076293945,
            34.95000076293945,
            34.93923099224384,
            34.93829114212949,
            34.92999998728434,
            34.895833333333336,
            34.888888888888886,
            34.75,
            34.75,
            34.740980597103345,
            34.674738331844935,
            34.672584726569355,
            34.66166591644287,
            34.64000015258789,
            34.41999816894531,
            34.310001373291016,
            34.28142901829311,
            34.275714193071636,
            34.2599983215332,
            34.2028129696846,
            34.1736366965554,
            34.16720623128555,
            34.10333393238209,
            34.09000036451552,
            34.075999927520755,
            34.01428576878139,
            34,
            34,
            34,
            34,
            34,
            34,
            33.9900016784668,
            33.9900016784668,
            33.9900016784668,
            33.9900016784668,
            33.99000104268392,
            33.9878958651894,
            33.970001220703125,
            33.95000076293945,
            33.95000076293945,
            33.82333437601725,
            33.74000120162964,
            33.666666666666664,
            33.59650011062622,
            33.557742580290764,
            33.515000343322754,
            33.4900016784668,
            33.472728122364394,
            33.454999923706055,
            33.4350004196167,
            33.333333333333336,
            33.33333206176758,
            33.323333740234375,
            33.24166679382324,
            33.13000011444092,
            33.11875009536743,
            33.089285714285715,
            33.06666692097982,
            33,
            33,
            33,
            33,
            33,
            33,
            32.9900016784668,
            32.9900016784668,
            32.9900016784668,
            32.99000072479248,
            32.97333335876465,
            32.96000099182129,
            32.95000076293945,
            32.95000076293945,
            32.900001525878906,
            32.78333346048991,
            32.75,
            32.66166667938232,
            32.65666707356771,
            32.65000025431315,
            32.64142853873117,
            32.61285727364676,
            32.4900016784668,
            32.49000072479248,
            32.44333351982964,
            32.41424265774813,
            32.39636380744703,
            32.349998474121094,
            32.32699985504151,
            32.27555571662055,
            32.189375162124634,
            32.125999959309894,
            32.10699996948242,
            32.098697040392004,
            32.0649995803833,
            32.0392070800539,
            32.026666711877894,
            32,
            32,
            32,
            32,
            32,
            32,
            32,
            32,
            32,
            32,
            32,
            31.996666590372723,
            31.989999771118164,
            31.989999771118164,
            31.975000381469727,
            31.97499990463257,
            31.950000762939453,
            31.92333386739095,
            31.8971430460612,
            31.89523833138602,
            31.88999938964844,
            31.8799991607666,
            31.857142857142858,
            31.840000152587887,
            31.746666590372723,
            31.656667073567707,
            31.653809683663503,
            31.568518532647026,
            31.423636956648394,
            31.35000076293945,
            31.333333333333332,
            31,
            31,
            30.990000830756294,
            30.950000762939453,
            30.9375,
            30.905454462224785,
            30.882926929287795,
            30.825000127156574,
            30.82000013987223,
            30.813637126575816,
            30.77700030008952,
            30.769000434875487,
            30.744999885559082,
            30.573750019073486,
            30.48500061035156,
            30.414999961853027,
            30.342486128935942,
            30.21250057220459,
            30.116666793823242,
            30,
            30,
            30,
            30,
            30,
            30,
            30,
            30,
            29.9975004196167,
            29.99333318074544,
            29.99000072479248,
            29.989999771118164,
            29.989999771118164,
            29.989999771118164,
            29.989999771118164,
            29.989999771118164,
            29.989999771118164,
            29.989999771118164,
            29.989999771118164,
            29.989999771118164,
            29.989999771118164,
            29.989999771118164,
            29.989999771118164,
            29.989999771118164,
            29.989999771118164,
            29.989999771118164,
            29.989999771118164,
            29.989999771118164,
            29.989999771118164,
            29.989999771118164,
            29.989999771118164,
            29.989999771118164,
            29.989999771118164,
            29.989999771118164,
            29.989999771118164,
            29.980000495910645,
            29.970001220703125,
            29.950000762939453,
            29.950000762939453,
            29.950000762939453,
            29.950000762939453,
            29.950000762939453,
            29.950000762939453,
            29.950000762939453,
            29.950000762939453,
            29.950000762939453,
            29.950000762939453,
            29.950000762939453,
            29.94333330790202,
            29.90750026702881,
            29.89999961853028,
            29.79454535942573,
            29.790000915527344,
            29.656667709350586,
            29.65666717138046,
            29.544545433738016,
            29.52750015258789,
            29.517037003128618,
            29.5,
            29.487500190734863,
            29.450000762939453,
            29.425,
            29.40999984741211,
            29.283334096272785,
            29.253334045410156,
            29.221379444516938,
            29.1820011138916,
            29.163333257039387,
            29.14909141713923,
            29.090000470479325,
            29,
            29,
            29,
            29,
            29,
            29,
            28.999999682108566,
            28.994999885559082,
            28.994999885559082,
            28.991666793823242,
            28.99000072479248,
            28.989999771118164,
            28.989999771118164,
            28.989999771118164,
            28.950000762939453,
            28.950000762939453,
            28.90999984741211,
            28.840000022541393,
            28.666667302449543,
            28.666666666666668,
            28.666666666666668,
            28.631025681128868,
            28.59666697184245,
            28.515000343322754,
            28.5,
            28.5,
            28.5,
            28.5,
            28.481143188476562,
            28.450000762939453,
            28.445999717712404,
            28.392000198364258,
            28.33142880031041,
            28.323333104451496,
            28.31333351135254,
            28.240000247955322,
            28.229999542236328,
            28.190000534057617,
            28.181538655207707,
            28.176363684914328,
            28.141666571299236,
            28.046667098999023,
            28,
            28,
            28,
            28,
            28,
            27.990000406901043,
            27.990000406901043,
            27.989999771118164,
            27.989999771118164,
            27.989999771118164,
            27.979999542236328,
            27.970000267028805,
            27.950000762939453,
            27.950000762939453,
            27.950000762939453,
            27.950000762939453,
            27.93333371480306,
            27.85500049591064,
            27.829000091552736,
            27.819999694824208,
            27.712857382638113,
            27.66800003051758,
            27.65999984741211,
            27.600000381469727,
            27.551226417973357,
            27.516750001907347,
            27.5,
            27.5,
            27.490000247955322,
            27.47000026702881,
            27.46800003051758,
            27.452499866485596,
            27.438095274425688,
            27.42999966939291,
            27.323333740234375,
            27.307894957692998,
            27.302916646003723,
            27.200000762939453,
            27.178125143051147,
            27.166666666666668,
            27.15999984741211,
            27.1307144846235,
            27.05733362833659,
            27,
            27,
            27,
            27,
            26.991250038146973,
            26.989999771118164,
            26.989999771118164,
            26.989999771118164,
            26.989999771118164,
            26.989999771118164,
            26.989999771118164,
            26.989999771118164,
            26.979999542236328,
            26.96125054359436,
            26.920000076293945,
            26.8700008392334,
            26.828333218892414,
            26.786667505900066,
            26.735000610351562,
            26.734166675143772,
            26.7,
            26.61666742960612,
            26.556249856948853,
            26.5,
            26.49699993133545,
            26.47499942779541,
            26.456000137329102,
            26.450000762939453,
            26.428571428571427,
            26.419999957084656,
            26.347600173950195,
            26.340434779291567,
            26.329999923706055,
            26.3166667620341,
            26.19285692487444,
            26.175000190734863,
            26.082499933242797,
            26.04555532667372,
            26.005000114440918,
            26,
            26,
            26,
            26,
            26,
            26,
            26,
            25.99736856159411,
            25.989999771118164,
            25.989999771118164,
            25.989999771118164,
            25.96249973773957,
            25.950000762939453,
            25.944999694824222,
            25.93499994277954,
            25.89999961853028,
            25.89999961853028,
            25.827500025431316,
            25.716666221618652,
            25.6207576231523,
            25.5,
            25.479999542236328,
            25.450000762939453,
            25.426666895548504,
            25.355999755859376,
            25.337825858074687,
            25.30500030517578,
            25.293333371480305,
            25.259230540348934,
            25.239999771118164,
            25.22000026702881,
            25.138928873198374,
            25.121428762163436,
            25,
            25,
            25,
            25,
            25,
            25,
            25,
            25,
            25,
            25,
            25,
            25,
            25,
            25,
            25,
            25,
            25,
            25,
            25,
            25,
            25,
            25,
            25,
            25,
            25,
            25,
            25,
            25,
            25,
            25,
            24.990000406901043,
            24.989999771118164,
            24.989999771118164,
            24.989999771118164,
            24.989999771118164,
            24.989999771118164,
            24.989999771118164,
            24.989999771118164,
            24.989999771118164,
            24.989999771118164,
            24.989999771118164,
            24.989999771118164,
            24.989999771118164,
            24.989999771118164,
            24.989999771118164,
            24.989999771118164,
            24.989999771118164,
            24.989999771118164,
            24.989999771118164,
            24.989999771118164,
            24.989999771118164,
            24.989999771118164,
            24.989999771118164,
            24.989999771118164,
            24.989999771118164,
            24.989999771118164,
            24.950000762939453,
            24.950000762939453,
            24.950000762939453,
            24.950000762939453,
            24.950000762939453,
            24.950000762939453,
            24.950000762939453,
            24.92142813546317,
            24.90200004577637,
            24.89999961853028,
            24.89999961853028,
            24.786001014709473,
            24.744999885559082,
            24.643333435058594,
            24.635483834051318,
            24.619999885559082,
            24.589999961853028,
            24.53545431657271,
            24.523749828338623,
            24.509999752044678,
            24.5,
            24.5,
            24.489999771118164,
            24.479999542236328,
            24.40999984741211,
            24.349999745686848,
            24.329999923706055,
            24.323333104451496,
            24.323333104451496,
            24.30692305931678,
            24.290000247955323,
            24.241579156172904,
            24.209999084472656,
            24.19499969482422,
            24.170000076293945,
            24.150000762939452,
            24.14999985694886,
            24.134202888046485,
            24.075000762939453,
            24.059999465942383,
            24.030000686645508,
            24.004444387223984,
            24,
            24,
            24,
            24,
            24,
            23.989999771118164,
            23.989999771118164,
            23.989999771118164,
            23.989999771118164,
            23.979999542236328,
            23.976666768391926,
            23.96583318710327,
            23.952105471962376,
            23.950000762939453,
            23.85571425301688,
            23.835217351498812,
            23.766666412353516,
            23.758000755310057,
            23.739999771118164,
            23.733333333333334,
            23.726206943906586,
            23.692307692307693,
            23.666666666666668,
            23.666666666666668,
            23.6299991607666,
            23.609047390165784,
            23.607000064849853,
            23.57999992370605,
            23.571249961853027,
            23.529999732971188,
            23.5,
            23.5,
            23.49021747837896,
            23.480000495910645,
            23.473684210526315,
            23.44499969482422,
            23.392156862745097,
            23.38959180092325,
            23.327575596896086,
            23.31333323319753,
            23.240323251293553,
            23.191111246744793,
            23.175000190734867,
            23.170000267028808,
            23.160000610351563,
            23.11769221379207,
            23.098499965667724,
            23.044999902898613,
            23.019999504089355,
            23.0016663869222,
            23,
            23,
            23,
            23,
            22.992499828338623,
            22.989999771118164,
            22.989999771118164,
            22.989999771118164,
            22.989999771118164,
            22.989999771118164,
            22.989999771118164,
            22.989999771118164,
            22.950000762939453,
            22.950000762939453,
            22.950000762939453,
            22.94999980926514,
            22.89999961853028,
            22.84714262826102,
            22.8149995803833,
            22.77571405683245,
            22.730000495910645,
            22.703749895095825,
            22.663333892822266,
            22.548571177891322,
            22.5,
            22.5,
            22.489999771118164,
            22.480000019073486,
            22.452000045776366,
            22.40454562298663,
            22.391999816894533,
            22.323333104451496,
            22.169999599456787,
            22.080909035422586,
            22.053902184090962,
            22,
            22,
            22,
            22,
            22,
            21.99749994277954,
            21.989999771118164,
            21.989999771118164,
            21.989999771118164,
            21.989999771118164,
            21.989999771118164,
            21.989999771118164,
            21.989999771118164,
            21.989999771118164,
            21.989999771118164,
            21.970000743865967,
            21.950000762939453,
            21.950000762939453,
            21.950000762939453,
            21.950000762939453,
            21.94499969482422,
            21.823529411764707,
            21.812856946672714,
            21.7985714503697,
            21.773624932765962,
            21.763333320617676,
            21.75,
            21.749999523162842,
            21.666666666666668,
            21.630000432332356,
            21.58166631062826,
            21.56500005722046,
            21.56304342850395,
            21.529999806330753,
            21.512500047683716,
            21.5,
            21.5,
            21.448076614966762,
            21.377777947319878,
            21.350000381469727,
            21.333333333333332,
            21.32181809165261,
            21.244999885559082,
            21.220769295325645,
            21.142857142857142,
            21,
            21,
            21,
            20.993529375861673,
            20.989999771118164,
            20.989999771118164,
            20.989999771118164,
            20.97000026702881,
            20.950000762939453,
            20.911999893188476,
            20.8799991607666,
            20.656666437784832,
            20.584000015258788,
            20.569999694824215,
            20.503042884494945,
            20.494999885559082,
            20.489999771118164,
            20.479999542236328,
            20.37233644111134,
            20.337916533152264,
            20.209999084472656,
            20.122857230050222,
            20.076000213623047,
            20.051764678955077,
            20,
            20,
            20,
            20,
            20,
            20,
            19.990833202997845,
            19.989999771118164,
            19.989999771118164,
            19.989999771118164,
            19.989999771118164,
            19.989999771118164,
            19.989999771118164,
            19.989999771118164,
            19.989999771118164,
            19.989999771118164,
            19.989999771118164,
            19.989999771118164,
            19.989999771118164,
            19.989999771118164,
            19.989999771118164,
            19.989999771118164,
            19.989999771118164,
            19.989999771118164,
            19.989999771118164,
            19.989999771118164,
            19.989999771118164,
            19.989999771118164,
            19.989999771118164,
            19.989999771118164,
            19.989999771118164,
            19.989999771118164,
            19.989999771118164,
            19.989999771118164,
            19.989999771118164,
            19.989999771118164,
            19.989999771118164,
            19.989999771118164,
            19.989999771118164,
            19.989999771118164,
            19.989999771118164,
            19.989999771118164,
            19.989999771118164,
            19.976666768391926,
            19.950000762939453,
            19.950000762939453,
            19.950000762939453,
            19.950000762939453,
            19.950000762939453,
            19.950000762939453,
            19.950000762939453,
            19.950000762939453,
            19.950000762939453,
            19.950000762939453,
            19.950000762939453,
            19.950000762939453,
            19.950000603993733,
            19.850000381469727,
            19.793999862670898,
            19.744999885559082,
            19.71204546364871,
            19.65999984741211,
            19.640499973297118,
            19.5,
            19.49749994277954,
            19.494999885559082,
            19.489999771118164,
            19.489999771118164,
            19.425000190734867,
            19.348571504865372,
            19.323333104451496,
            19.323333104451496,
            19.280000686645508,
            19.189999771118163,
            19,
            19,
            18.989999771118164,
            18.989999771118164,
            18.989999771118164,
            18.989999771118164,
            18.989999771118164,
            18.979999542236328,
            18.979999542236328,
            18.97000026702881,
            18.950000762939453,
            18.950000762939453,
            18.950000762939453,
            18.860526787607295,
            18.833333333333332,
            18.816153654685387,
            18.770000457763672,
            18.739999771118164,
            18.739999771118164,
            18.698571273258754,
            18.666666666666668,
            18.656666437784832,
            18.589999771118165,
            18.5564284324646,
            18.541666984558105,
            18.5,
            18.5,
            18.489999771118164,
            18.42759994506836,
            18.40500005086263,
            18.40216229413007,
            18.324999809265137,
            18.270000457763672,
            18.1274995803833,
            18.117058810065775,
            18.115833123524983,
            18.114999771118164,
            18.100000381469727,
            18,
            18,
            18,
            18,
            17.989999771118164,
            17.989999771118164,
            17.989999771118164,
            17.989999771118164,
            17.989999771118164,
            17.989999771118164,
            17.989999771118164,
            17.989999771118164,
            17.989999771118164,
            17.979999542236328,
            17.969999313354492,
            17.963333129882812,
            17.950000762939453,
            17.950000762939453,
            17.934166544013554,
            17.878888660007053,
            17.633676437770617,
            17.591999816894532,
            17.561428342546737,
            17.494285583496094,
            17.493000030517578,
            17.489999771118164,
            17.489999771118164,
            17.47000026702881,
            17.425000190734863,
            17.415000438690186,
            17.333333333333332,
            17.31000010172526,
            17.28333388434516,
            17.200000762939453,
            17.19636362249201,
            17.179999351501465,
            17.149999618530273,
            17,
            17,
            17,
            17,
            16.990000406901043,
            16.989999771118164,
            16.989999771118164,
            16.989999771118164,
            16.989999771118164,
            16.989999771118164,
            16.989999771118164,
            16.989999771118164,
            16.989999771118164,
            16.989999771118164,
            16.989999771118164,
            16.989999771118164,
            16.950000762939453,
            16.950000286102295,
            16.91555553012424,
            16.899999618530277,
            16.899999618530273,
            16.84714262826102,
            16.823999595642086,
            16.666363629427824,
            16.58523796285902,
            16.56692284804124,
            16.554999828338623,
            16.55,
            16.482499837875366,
            16.428571428571427,
            16.413333257039387,
            16.4,
            16.3133331934611,
            16.28199996948242,
            16.193529521717746,
            16.169666449228924,
            16.164999961853027,
            16.143666648864745,
            16.09476171221052,
            16.088999891281127,
            16.076923076923077,
            16,
            16,
            16,
            16,
            16,
            15.989999771118164,
            15.989999771118164,
            15.989999771118164,
            15.989999771118164,
            15.989999771118164,
            15.989999771118164,
            15.989999771118164,
            15.989999771118164,
            15.981999969482422,
            15.97499942779541,
            15.950000127156576,
            15.949999809265137,
            15.949999809265137,
            15.949999809265137,
            15.944999694824219,
            15.899999618530272,
            15.75,
            15.747499942779541,
            15.739999771118164,
            15.739999771118164,
            15.739999771118164,
            15.700000127156576,
            15.618749936421713,
            15.526666720708212,
            15.494999885559082,
            15.489999771118164,
            15.450000286102295,
            15.389999771118164,
            15.25249969959259,
            15.239999771118164,
            15.194285665239606,
            15.182280569745783,
            15.114999771118164,
            15,
            15,
            15,
            15,
            15,
            15,
            15,
            15,
            15,
            15,
            15,
            15,
            15,
            15,
            15,
            15,
            15,
            14.994999885559082,
            14.989999771118164,
            14.989999771118164,
            14.989999771118164,
            14.989999771118164,
            14.989999771118164,
            14.989999771118164,
            14.989999771118164,
            14.989999771118164,
            14.989999771118164,
            14.989999771118164,
            14.989999771118164,
            14.989999771118164,
            14.989999771118164,
            14.989999771118164,
            14.989999771118164,
            14.989999771118164,
            14.989999771118164,
            14.989999771118164,
            14.989999771118164,
            14.980731545425042,
            14.970000267028809,
            14.96200008392334,
            14.950000286102295,
            14.949999809265137,
            14.949999809265137,
            14.949999809265137,
            14.949999809265137,
            14.9384613770705,
            14.815555731455484,
            14.791333325703938,
            14.741666555404663,
            14.739999771118164,
            14.739999771118164,
            14.6899995803833,
            14.6899995803833,
            14.674705729765051,
            14.666666666666666,
            14.658333460489908,
            14.636666615804037,
            14.550000190734863,
            14.527777777777779,
            14.5,
            14.5,
            14.5,
            14.5,
            14.493333180745443,
            14.428533477783203,
            14.399999618530272,
            14.369999885559078,
            14.362857273646764,
            14.340000152587892,
            14.23333295186361,
            14.132205033440654,
            14,
            14,
            13.989999771118164,
            13.989999771118164,
            13.989999771118164,
            13.989999771118164,
            13.989999771118164,
            13.989999771118164,
            13.989999771118164,
            13.989999771118164,
            13.989999771118164,
            13.989999771118164,
            13.989999771118164,
            13.989999771118164,
            13.965713909694127,
            13.949999809265137,
            13.838695484658945,
            13.779999732971191,
            13.75,
            13.725000381469727,
            13.710000038146973,
            13.710000038146973,
            13.702353028690114,
            13.561428342546735,
            13.5,
            13.489999771118164,
            13.489999771118164,
            13.340000152587892,
            13.339999675750732,
            13.25,
            13.239999771118164,
            13.239999771118164,
            13.229999542236328,
            13.153333028157553,
            13.09749984741211,
            13,
            12.989999771118164,
            12.989999771118164,
            12.989999771118164,
            12.989999771118164,
            12.989999771118164,
            12.989999771118164,
            12.989999771118164,
            12.989999771118164,
            12.989999771118164,
            12.989999771118164,
            12.989999771118164,
            12.989999771118164,
            12.989999771118164,
            12.989999771118164,
            12.989999771118164,
            12.989999771118164,
            12.989999771118164,
            12.989999771118164,
            12.977646995993222,
            12.976666768391928,
            12.950833161671957,
            12.949999809265137,
            12.949999809265137,
            12.949999809265137,
            12.949999809265137,
            12.899999618530272,
            12.744999885559082,
            12.701999794353139,
            12.659999847412108,
            12.649999618530272,
            12.559999942779541,
            12.527096702206519,
            12.5,
            12.494999885559082,
            12.449999809265137,
            12.419642771993365,
            12.289999802907309,
            12.269999921321869,
            12.244999885559082,
            12.21230752651508,
            12.2,
            12.199999809265137,
            12.074999928474426,
            12.061999893188476,
            12,
            12,
            12,
            12,
            12,
            11.989999771118164,
            11.989999771118164,
            11.989999771118164,
            11.989999771118164,
            11.989999771118164,
            11.989999771118164,
            11.989999771118164,
            11.989999771118164,
            11.989999771118164,
            11.989999771118164,
            11.989999771118164,
            11.960000038146973,
            11.949999809265137,
            11.949999809265137,
            11.949999809265137,
            11.949999809265137,
            11.803703467051188,
            11.769999980926514,
            11.739999771118164,
            11.698333303133646,
            11.695000012715658,
            11.666666666666666,
            11.65666643778483,
            11.652499914169312,
            11.589999771118164,
            11.54555532667372,
            11.539999961853027,
            11.509999847412109,
            11.5,
            11.489999771118164,
            11.489999771118164,
            11.42200026512146,
            11.399999618530272,
            11.311489328424981,
            11.28000020980835,
            11.275000095367432,
            11.239999771118164,
            11.155925825790122,
            11.101999664306641,
            11.079999923706055,
            11.039999961853027,
            10.989999771118164,
            10.989999771118164,
            10.989999771118164,
            10.989999771118164,
            10.949999809265137,
            10.9399995803833,
            10.91999980381557,
            10.90781244635582,
            10.899999713897703,
            10.899999618530272,
            10.757142873037429,
            10.739999830722809,
            10.695882236256319,
            10.5,
            10.5,
            10.489999771118164,
            10.489999771118164,
            10.489999771118164,
            10.434444215562609,
            10.3939998626709,
            10.364999771118164,
            10.247499942779541,
            10.199999809265137,
            10.183333158493042,
            10,
            9.989999771118164,
            9.989999771118164,
            9.989999771118164,
            9.989999771118164,
            9.989999771118164,
            9.989999771118164,
            9.989999771118164,
            9.989999771118164,
            9.989999771118164,
            9.989999771118164,
            9.989999771118164,
            9.989999771118164,
            9.976666450500488,
            9.970000267028809,
            9.970000267028809,
            9.960000038146973,
            9.949999809265137,
            9.949999809265137,
            9.949999809265137,
            9.949999809265137,
            9.949999809265137,
            9.928571428571429,
            9.921999740600587,
            9.899999618530272,
            9.899999618530272,
            9.890000343322754,
            9.850000381469728,
            9.84600009918213,
            9.5,
            9.496841936780696,
            9.484999895095825,
            9.25,
            9.15999984741211,
            9.153478207795516,
            9.09000015258789,
            9,
            9,
            8.989999771118164,
            8.989999771118164,
            8.989999771118164,
            8.989999771118164,
            8.989999771118164,
            8.989999771118164,
            8.949999809265137,
            8.949999809265137,
            8.949999809265137,
            8.949999809265137,
            8.649999618530273,
            8.61399980545044,
            8.489999771118164,
            8.449999809265137,
            8.412727095864035,
            8.411999940872192,
            8.396666526794434,
            8.3939998626709,
            8.390000343322756,
            8.301818219098179,
            8.289999723434446,
            8.285000085830688,
            8.171428407941544,
            8,
            7.989999771118164,
            7.989999771118163,
            7.989999771118163,
            7.989999771118163,
            7.989999771118163,
            7.989999771118163,
            7.989999771118163,
            7.989999771118163,
            7.989999771118163,
            7.983333428700765,
            7.975555419921875,
            7.960000038146973,
            7.949999809265136,
            7.949999809265136,
            7.893333329094781,
            7.869999885559082,
            7.489999771118164,
            7.4433333079020185,
            7.25,
            7.214999794960022,
            7.2042854854038785,
            7.127999973297119,
            7.019999980926514,
            7,
            6.989999771118164,
            6.989999771118164,
            6.989999771118164,
            6.989999771118164,
            6.989999771118164,
            6.96999979019165,
            6.9459999084472654,
            6.800000071525574,
            6.75,
            6.744999885559082,
            6.5,
            6.409999847412109,
            6.4099998474121085,
            6.389999866485596,
            6.349999904632568,
            6,
            6,
            6,
            6,
            5.989999771118164,
            5.989999771118164,
            5.989999771118164,
            5.989999771118164,
            5.989999771118164,
            5.949999809265137,
            5.949999809265137,
            5.900000095367432,
            5.894999980926514,
            5.829999923706056,
            5.656666437784831,
            5.599999904632568,
            5.489999890327454,
            5.489999771118164,
            5.289999961853027,
            5.199999809265137,
            5.090000152587891,
            5,
            5,
            4.989999771118164,
            4.989999771118164,
            4.989999771118164,
            4.989999771118164,
            4.989999771118164,
            4.989999771118164,
            4.949999809265137,
            4.889999866485596,
            4.739999771118164,
            4.5,
            4.389999961853027,
            4.269999980926514,
            4.150000095367432,
            4.079999923706056,
            3.990000009536743,
            3.9800000190734863,
            3.950000047683716,
            3.887499988079071,
            3.8450000286102295,
            3.771666725476583,
            3.5999999046325684,
            3.5,
            3.390000104904175,
            2.990000009536743,
            2.950000047683716,
            2.950000047683716,
            2.200000047683716,
            1.820000052452088,
            1.75,
            1.5,
            0.4900000095367431,
            0.0199999995529651
           ]
          ]
         },
         "header": {
          "align": "left",
          "fill": {
           "color": "paleturquoise"
          },
          "values": [
           "Brand",
           "Average Retail Price"
          ]
         },
         "type": "table"
        }
       ],
       "layout": {
        "template": {
         "data": {
          "bar": [
           {
            "error_x": {
             "color": "#2a3f5f"
            },
            "error_y": {
             "color": "#2a3f5f"
            },
            "marker": {
             "line": {
              "color": "#E5ECF6",
              "width": 0.5
             },
             "pattern": {
              "fillmode": "overlay",
              "size": 10,
              "solidity": 0.2
             }
            },
            "type": "bar"
           }
          ],
          "barpolar": [
           {
            "marker": {
             "line": {
              "color": "#E5ECF6",
              "width": 0.5
             },
             "pattern": {
              "fillmode": "overlay",
              "size": 10,
              "solidity": 0.2
             }
            },
            "type": "barpolar"
           }
          ],
          "carpet": [
           {
            "aaxis": {
             "endlinecolor": "#2a3f5f",
             "gridcolor": "white",
             "linecolor": "white",
             "minorgridcolor": "white",
             "startlinecolor": "#2a3f5f"
            },
            "baxis": {
             "endlinecolor": "#2a3f5f",
             "gridcolor": "white",
             "linecolor": "white",
             "minorgridcolor": "white",
             "startlinecolor": "#2a3f5f"
            },
            "type": "carpet"
           }
          ],
          "choropleth": [
           {
            "colorbar": {
             "outlinewidth": 0,
             "ticks": ""
            },
            "type": "choropleth"
           }
          ],
          "contour": [
           {
            "colorbar": {
             "outlinewidth": 0,
             "ticks": ""
            },
            "colorscale": [
             [
              0,
              "#0d0887"
             ],
             [
              0.1111111111111111,
              "#46039f"
             ],
             [
              0.2222222222222222,
              "#7201a8"
             ],
             [
              0.3333333333333333,
              "#9c179e"
             ],
             [
              0.4444444444444444,
              "#bd3786"
             ],
             [
              0.5555555555555556,
              "#d8576b"
             ],
             [
              0.6666666666666666,
              "#ed7953"
             ],
             [
              0.7777777777777778,
              "#fb9f3a"
             ],
             [
              0.8888888888888888,
              "#fdca26"
             ],
             [
              1,
              "#f0f921"
             ]
            ],
            "type": "contour"
           }
          ],
          "contourcarpet": [
           {
            "colorbar": {
             "outlinewidth": 0,
             "ticks": ""
            },
            "type": "contourcarpet"
           }
          ],
          "heatmap": [
           {
            "colorbar": {
             "outlinewidth": 0,
             "ticks": ""
            },
            "colorscale": [
             [
              0,
              "#0d0887"
             ],
             [
              0.1111111111111111,
              "#46039f"
             ],
             [
              0.2222222222222222,
              "#7201a8"
             ],
             [
              0.3333333333333333,
              "#9c179e"
             ],
             [
              0.4444444444444444,
              "#bd3786"
             ],
             [
              0.5555555555555556,
              "#d8576b"
             ],
             [
              0.6666666666666666,
              "#ed7953"
             ],
             [
              0.7777777777777778,
              "#fb9f3a"
             ],
             [
              0.8888888888888888,
              "#fdca26"
             ],
             [
              1,
              "#f0f921"
             ]
            ],
            "type": "heatmap"
           }
          ],
          "heatmapgl": [
           {
            "colorbar": {
             "outlinewidth": 0,
             "ticks": ""
            },
            "colorscale": [
             [
              0,
              "#0d0887"
             ],
             [
              0.1111111111111111,
              "#46039f"
             ],
             [
              0.2222222222222222,
              "#7201a8"
             ],
             [
              0.3333333333333333,
              "#9c179e"
             ],
             [
              0.4444444444444444,
              "#bd3786"
             ],
             [
              0.5555555555555556,
              "#d8576b"
             ],
             [
              0.6666666666666666,
              "#ed7953"
             ],
             [
              0.7777777777777778,
              "#fb9f3a"
             ],
             [
              0.8888888888888888,
              "#fdca26"
             ],
             [
              1,
              "#f0f921"
             ]
            ],
            "type": "heatmapgl"
           }
          ],
          "histogram": [
           {
            "marker": {
             "pattern": {
              "fillmode": "overlay",
              "size": 10,
              "solidity": 0.2
             }
            },
            "type": "histogram"
           }
          ],
          "histogram2d": [
           {
            "colorbar": {
             "outlinewidth": 0,
             "ticks": ""
            },
            "colorscale": [
             [
              0,
              "#0d0887"
             ],
             [
              0.1111111111111111,
              "#46039f"
             ],
             [
              0.2222222222222222,
              "#7201a8"
             ],
             [
              0.3333333333333333,
              "#9c179e"
             ],
             [
              0.4444444444444444,
              "#bd3786"
             ],
             [
              0.5555555555555556,
              "#d8576b"
             ],
             [
              0.6666666666666666,
              "#ed7953"
             ],
             [
              0.7777777777777778,
              "#fb9f3a"
             ],
             [
              0.8888888888888888,
              "#fdca26"
             ],
             [
              1,
              "#f0f921"
             ]
            ],
            "type": "histogram2d"
           }
          ],
          "histogram2dcontour": [
           {
            "colorbar": {
             "outlinewidth": 0,
             "ticks": ""
            },
            "colorscale": [
             [
              0,
              "#0d0887"
             ],
             [
              0.1111111111111111,
              "#46039f"
             ],
             [
              0.2222222222222222,
              "#7201a8"
             ],
             [
              0.3333333333333333,
              "#9c179e"
             ],
             [
              0.4444444444444444,
              "#bd3786"
             ],
             [
              0.5555555555555556,
              "#d8576b"
             ],
             [
              0.6666666666666666,
              "#ed7953"
             ],
             [
              0.7777777777777778,
              "#fb9f3a"
             ],
             [
              0.8888888888888888,
              "#fdca26"
             ],
             [
              1,
              "#f0f921"
             ]
            ],
            "type": "histogram2dcontour"
           }
          ],
          "mesh3d": [
           {
            "colorbar": {
             "outlinewidth": 0,
             "ticks": ""
            },
            "type": "mesh3d"
           }
          ],
          "parcoords": [
           {
            "line": {
             "colorbar": {
              "outlinewidth": 0,
              "ticks": ""
             }
            },
            "type": "parcoords"
           }
          ],
          "pie": [
           {
            "automargin": true,
            "type": "pie"
           }
          ],
          "scatter": [
           {
            "marker": {
             "colorbar": {
              "outlinewidth": 0,
              "ticks": ""
             }
            },
            "type": "scatter"
           }
          ],
          "scatter3d": [
           {
            "line": {
             "colorbar": {
              "outlinewidth": 0,
              "ticks": ""
             }
            },
            "marker": {
             "colorbar": {
              "outlinewidth": 0,
              "ticks": ""
             }
            },
            "type": "scatter3d"
           }
          ],
          "scattercarpet": [
           {
            "marker": {
             "colorbar": {
              "outlinewidth": 0,
              "ticks": ""
             }
            },
            "type": "scattercarpet"
           }
          ],
          "scattergeo": [
           {
            "marker": {
             "colorbar": {
              "outlinewidth": 0,
              "ticks": ""
             }
            },
            "type": "scattergeo"
           }
          ],
          "scattergl": [
           {
            "marker": {
             "colorbar": {
              "outlinewidth": 0,
              "ticks": ""
             }
            },
            "type": "scattergl"
           }
          ],
          "scattermapbox": [
           {
            "marker": {
             "colorbar": {
              "outlinewidth": 0,
              "ticks": ""
             }
            },
            "type": "scattermapbox"
           }
          ],
          "scatterpolar": [
           {
            "marker": {
             "colorbar": {
              "outlinewidth": 0,
              "ticks": ""
             }
            },
            "type": "scatterpolar"
           }
          ],
          "scatterpolargl": [
           {
            "marker": {
             "colorbar": {
              "outlinewidth": 0,
              "ticks": ""
             }
            },
            "type": "scatterpolargl"
           }
          ],
          "scatterternary": [
           {
            "marker": {
             "colorbar": {
              "outlinewidth": 0,
              "ticks": ""
             }
            },
            "type": "scatterternary"
           }
          ],
          "surface": [
           {
            "colorbar": {
             "outlinewidth": 0,
             "ticks": ""
            },
            "colorscale": [
             [
              0,
              "#0d0887"
             ],
             [
              0.1111111111111111,
              "#46039f"
             ],
             [
              0.2222222222222222,
              "#7201a8"
             ],
             [
              0.3333333333333333,
              "#9c179e"
             ],
             [
              0.4444444444444444,
              "#bd3786"
             ],
             [
              0.5555555555555556,
              "#d8576b"
             ],
             [
              0.6666666666666666,
              "#ed7953"
             ],
             [
              0.7777777777777778,
              "#fb9f3a"
             ],
             [
              0.8888888888888888,
              "#fdca26"
             ],
             [
              1,
              "#f0f921"
             ]
            ],
            "type": "surface"
           }
          ],
          "table": [
           {
            "cells": {
             "fill": {
              "color": "#EBF0F8"
             },
             "line": {
              "color": "white"
             }
            },
            "header": {
             "fill": {
              "color": "#C8D4E3"
             },
             "line": {
              "color": "white"
             }
            },
            "type": "table"
           }
          ]
         },
         "layout": {
          "annotationdefaults": {
           "arrowcolor": "#2a3f5f",
           "arrowhead": 0,
           "arrowwidth": 1
          },
          "autotypenumbers": "strict",
          "coloraxis": {
           "colorbar": {
            "outlinewidth": 0,
            "ticks": ""
           }
          },
          "colorscale": {
           "diverging": [
            [
             0,
             "#8e0152"
            ],
            [
             0.1,
             "#c51b7d"
            ],
            [
             0.2,
             "#de77ae"
            ],
            [
             0.3,
             "#f1b6da"
            ],
            [
             0.4,
             "#fde0ef"
            ],
            [
             0.5,
             "#f7f7f7"
            ],
            [
             0.6,
             "#e6f5d0"
            ],
            [
             0.7,
             "#b8e186"
            ],
            [
             0.8,
             "#7fbc41"
            ],
            [
             0.9,
             "#4d9221"
            ],
            [
             1,
             "#276419"
            ]
           ],
           "sequential": [
            [
             0,
             "#0d0887"
            ],
            [
             0.1111111111111111,
             "#46039f"
            ],
            [
             0.2222222222222222,
             "#7201a8"
            ],
            [
             0.3333333333333333,
             "#9c179e"
            ],
            [
             0.4444444444444444,
             "#bd3786"
            ],
            [
             0.5555555555555556,
             "#d8576b"
            ],
            [
             0.6666666666666666,
             "#ed7953"
            ],
            [
             0.7777777777777778,
             "#fb9f3a"
            ],
            [
             0.8888888888888888,
             "#fdca26"
            ],
            [
             1,
             "#f0f921"
            ]
           ],
           "sequentialminus": [
            [
             0,
             "#0d0887"
            ],
            [
             0.1111111111111111,
             "#46039f"
            ],
            [
             0.2222222222222222,
             "#7201a8"
            ],
            [
             0.3333333333333333,
             "#9c179e"
            ],
            [
             0.4444444444444444,
             "#bd3786"
            ],
            [
             0.5555555555555556,
             "#d8576b"
            ],
            [
             0.6666666666666666,
             "#ed7953"
            ],
            [
             0.7777777777777778,
             "#fb9f3a"
            ],
            [
             0.8888888888888888,
             "#fdca26"
            ],
            [
             1,
             "#f0f921"
            ]
           ]
          },
          "colorway": [
           "#636efa",
           "#EF553B",
           "#00cc96",
           "#ab63fa",
           "#FFA15A",
           "#19d3f3",
           "#FF6692",
           "#B6E880",
           "#FF97FF",
           "#FECB52"
          ],
          "font": {
           "color": "#2a3f5f"
          },
          "geo": {
           "bgcolor": "white",
           "lakecolor": "white",
           "landcolor": "#E5ECF6",
           "showlakes": true,
           "showland": true,
           "subunitcolor": "white"
          },
          "hoverlabel": {
           "align": "left"
          },
          "hovermode": "closest",
          "mapbox": {
           "style": "light"
          },
          "paper_bgcolor": "white",
          "plot_bgcolor": "#E5ECF6",
          "polar": {
           "angularaxis": {
            "gridcolor": "white",
            "linecolor": "white",
            "ticks": ""
           },
           "bgcolor": "#E5ECF6",
           "radialaxis": {
            "gridcolor": "white",
            "linecolor": "white",
            "ticks": ""
           }
          },
          "scene": {
           "xaxis": {
            "backgroundcolor": "#E5ECF6",
            "gridcolor": "white",
            "gridwidth": 2,
            "linecolor": "white",
            "showbackground": true,
            "ticks": "",
            "zerolinecolor": "white"
           },
           "yaxis": {
            "backgroundcolor": "#E5ECF6",
            "gridcolor": "white",
            "gridwidth": 2,
            "linecolor": "white",
            "showbackground": true,
            "ticks": "",
            "zerolinecolor": "white"
           },
           "zaxis": {
            "backgroundcolor": "#E5ECF6",
            "gridcolor": "white",
            "gridwidth": 2,
            "linecolor": "white",
            "showbackground": true,
            "ticks": "",
            "zerolinecolor": "white"
           }
          },
          "shapedefaults": {
           "line": {
            "color": "#2a3f5f"
           }
          },
          "ternary": {
           "aaxis": {
            "gridcolor": "white",
            "linecolor": "white",
            "ticks": ""
           },
           "baxis": {
            "gridcolor": "white",
            "linecolor": "white",
            "ticks": ""
           },
           "bgcolor": "#E5ECF6",
           "caxis": {
            "gridcolor": "white",
            "linecolor": "white",
            "ticks": ""
           }
          },
          "title": {
           "x": 0.05
          },
          "xaxis": {
           "automargin": true,
           "gridcolor": "white",
           "linecolor": "white",
           "ticks": "",
           "title": {
            "standoff": 15
           },
           "zerolinecolor": "white",
           "zerolinewidth": 2
          },
          "yaxis": {
           "automargin": true,
           "gridcolor": "white",
           "linecolor": "white",
           "ticks": "",
           "title": {
            "standoff": 15
           },
           "zerolinecolor": "white",
           "zerolinewidth": 2
          }
         }
        },
        "title": {
         "text": "Average Retail Price per Brand"
        }
       }
      }
     },
     "metadata": {},
     "output_type": "display_data"
    }
   ],
   "source": [
    "# Sort the DataFrame in descending order of average retail price\n",
    "avg_price_per_brand_sorted = avg_price_per_brand.sort_values(by='avg_retail_price', ascending=False)\n",
    "\n",
    "# Create a table trace\n",
    "table_trace = go.Table(\n",
    "    header=dict(values=['Brand', 'Average Retail Price'],\n",
    "                fill_color='paleturquoise',\n",
    "                align='left'),\n",
    "    cells=dict(values=[avg_price_per_brand_sorted['brand'], avg_price_per_brand_sorted['avg_retail_price']],\n",
    "               fill_color='lavender',\n",
    "               align='left'))\n",
    "\n",
    "# Create figure\n",
    "fig = go.Figure(data=[table_trace])\n",
    "\n",
    "# Update layout\n",
    "fig.update_layout(title='Average Retail Price per Brand')\n",
    "\n",
    "# Show plot\n",
    "fig.show()"
   ]
  },
  {
   "cell_type": "code",
   "execution_count": 12,
   "metadata": {},
   "outputs": [
    {
     "data": {
      "application/vnd.plotly.v1+json": {
       "config": {
        "plotlyServerURL": "https://plot.ly"
       },
       "data": [
        {
         "cells": {
          "align": "left",
          "fill": {
           "color": "lavender"
          },
          "values": [
           [
            "Outerwear & Coats",
            "Suits & Sport Coats",
            "Suits",
            "Jeans",
            "Blazers & Jackets",
            "Clothing Sets",
            "Dresses",
            "Sweaters",
            "Pants",
            "Swim",
            "Pants & Capris",
            "Fashion Hoodies & Sweatshirts",
            "Skirts",
            "Maternity",
            "Active",
            "Sleep & Lounge",
            "Shorts",
            "Jumpsuits & Rompers",
            "Accessories",
            "Tops & Tees",
            "Plus",
            "Intimates",
            "Underwear",
            "Leggings",
            "Socks",
            "Socks & Hosiery"
           ],
           [
            146.20433603976406,
            126.55561555803064,
            116.1640958380192,
            97.89139223027122,
            92.59508041562032,
            84.84405414478199,
            84.20327769574071,
            75.31898100319853,
            59.81431338285507,
            57.83243882470248,
            54.70554671357545,
            53.919865995821304,
            52.325231732724475,
            50.799209259666156,
            50.62101957834633,
            49.230197856520526,
            45.769915145247246,
            45.42216063134464,
            42.60171480637879,
            41.37673833838348,
            38.50820112937973,
            33.70507214178566,
            27.156001869808225,
            27.149663078869487,
            20.41758583233602,
            16.76109771513401
           ]
          ]
         },
         "header": {
          "align": "left",
          "fill": {
           "color": "paleturquoise"
          },
          "values": [
           "Category",
           "Average Retail Price"
          ]
         },
         "type": "table"
        }
       ],
       "layout": {
        "template": {
         "data": {
          "bar": [
           {
            "error_x": {
             "color": "#2a3f5f"
            },
            "error_y": {
             "color": "#2a3f5f"
            },
            "marker": {
             "line": {
              "color": "#E5ECF6",
              "width": 0.5
             },
             "pattern": {
              "fillmode": "overlay",
              "size": 10,
              "solidity": 0.2
             }
            },
            "type": "bar"
           }
          ],
          "barpolar": [
           {
            "marker": {
             "line": {
              "color": "#E5ECF6",
              "width": 0.5
             },
             "pattern": {
              "fillmode": "overlay",
              "size": 10,
              "solidity": 0.2
             }
            },
            "type": "barpolar"
           }
          ],
          "carpet": [
           {
            "aaxis": {
             "endlinecolor": "#2a3f5f",
             "gridcolor": "white",
             "linecolor": "white",
             "minorgridcolor": "white",
             "startlinecolor": "#2a3f5f"
            },
            "baxis": {
             "endlinecolor": "#2a3f5f",
             "gridcolor": "white",
             "linecolor": "white",
             "minorgridcolor": "white",
             "startlinecolor": "#2a3f5f"
            },
            "type": "carpet"
           }
          ],
          "choropleth": [
           {
            "colorbar": {
             "outlinewidth": 0,
             "ticks": ""
            },
            "type": "choropleth"
           }
          ],
          "contour": [
           {
            "colorbar": {
             "outlinewidth": 0,
             "ticks": ""
            },
            "colorscale": [
             [
              0,
              "#0d0887"
             ],
             [
              0.1111111111111111,
              "#46039f"
             ],
             [
              0.2222222222222222,
              "#7201a8"
             ],
             [
              0.3333333333333333,
              "#9c179e"
             ],
             [
              0.4444444444444444,
              "#bd3786"
             ],
             [
              0.5555555555555556,
              "#d8576b"
             ],
             [
              0.6666666666666666,
              "#ed7953"
             ],
             [
              0.7777777777777778,
              "#fb9f3a"
             ],
             [
              0.8888888888888888,
              "#fdca26"
             ],
             [
              1,
              "#f0f921"
             ]
            ],
            "type": "contour"
           }
          ],
          "contourcarpet": [
           {
            "colorbar": {
             "outlinewidth": 0,
             "ticks": ""
            },
            "type": "contourcarpet"
           }
          ],
          "heatmap": [
           {
            "colorbar": {
             "outlinewidth": 0,
             "ticks": ""
            },
            "colorscale": [
             [
              0,
              "#0d0887"
             ],
             [
              0.1111111111111111,
              "#46039f"
             ],
             [
              0.2222222222222222,
              "#7201a8"
             ],
             [
              0.3333333333333333,
              "#9c179e"
             ],
             [
              0.4444444444444444,
              "#bd3786"
             ],
             [
              0.5555555555555556,
              "#d8576b"
             ],
             [
              0.6666666666666666,
              "#ed7953"
             ],
             [
              0.7777777777777778,
              "#fb9f3a"
             ],
             [
              0.8888888888888888,
              "#fdca26"
             ],
             [
              1,
              "#f0f921"
             ]
            ],
            "type": "heatmap"
           }
          ],
          "heatmapgl": [
           {
            "colorbar": {
             "outlinewidth": 0,
             "ticks": ""
            },
            "colorscale": [
             [
              0,
              "#0d0887"
             ],
             [
              0.1111111111111111,
              "#46039f"
             ],
             [
              0.2222222222222222,
              "#7201a8"
             ],
             [
              0.3333333333333333,
              "#9c179e"
             ],
             [
              0.4444444444444444,
              "#bd3786"
             ],
             [
              0.5555555555555556,
              "#d8576b"
             ],
             [
              0.6666666666666666,
              "#ed7953"
             ],
             [
              0.7777777777777778,
              "#fb9f3a"
             ],
             [
              0.8888888888888888,
              "#fdca26"
             ],
             [
              1,
              "#f0f921"
             ]
            ],
            "type": "heatmapgl"
           }
          ],
          "histogram": [
           {
            "marker": {
             "pattern": {
              "fillmode": "overlay",
              "size": 10,
              "solidity": 0.2
             }
            },
            "type": "histogram"
           }
          ],
          "histogram2d": [
           {
            "colorbar": {
             "outlinewidth": 0,
             "ticks": ""
            },
            "colorscale": [
             [
              0,
              "#0d0887"
             ],
             [
              0.1111111111111111,
              "#46039f"
             ],
             [
              0.2222222222222222,
              "#7201a8"
             ],
             [
              0.3333333333333333,
              "#9c179e"
             ],
             [
              0.4444444444444444,
              "#bd3786"
             ],
             [
              0.5555555555555556,
              "#d8576b"
             ],
             [
              0.6666666666666666,
              "#ed7953"
             ],
             [
              0.7777777777777778,
              "#fb9f3a"
             ],
             [
              0.8888888888888888,
              "#fdca26"
             ],
             [
              1,
              "#f0f921"
             ]
            ],
            "type": "histogram2d"
           }
          ],
          "histogram2dcontour": [
           {
            "colorbar": {
             "outlinewidth": 0,
             "ticks": ""
            },
            "colorscale": [
             [
              0,
              "#0d0887"
             ],
             [
              0.1111111111111111,
              "#46039f"
             ],
             [
              0.2222222222222222,
              "#7201a8"
             ],
             [
              0.3333333333333333,
              "#9c179e"
             ],
             [
              0.4444444444444444,
              "#bd3786"
             ],
             [
              0.5555555555555556,
              "#d8576b"
             ],
             [
              0.6666666666666666,
              "#ed7953"
             ],
             [
              0.7777777777777778,
              "#fb9f3a"
             ],
             [
              0.8888888888888888,
              "#fdca26"
             ],
             [
              1,
              "#f0f921"
             ]
            ],
            "type": "histogram2dcontour"
           }
          ],
          "mesh3d": [
           {
            "colorbar": {
             "outlinewidth": 0,
             "ticks": ""
            },
            "type": "mesh3d"
           }
          ],
          "parcoords": [
           {
            "line": {
             "colorbar": {
              "outlinewidth": 0,
              "ticks": ""
             }
            },
            "type": "parcoords"
           }
          ],
          "pie": [
           {
            "automargin": true,
            "type": "pie"
           }
          ],
          "scatter": [
           {
            "marker": {
             "colorbar": {
              "outlinewidth": 0,
              "ticks": ""
             }
            },
            "type": "scatter"
           }
          ],
          "scatter3d": [
           {
            "line": {
             "colorbar": {
              "outlinewidth": 0,
              "ticks": ""
             }
            },
            "marker": {
             "colorbar": {
              "outlinewidth": 0,
              "ticks": ""
             }
            },
            "type": "scatter3d"
           }
          ],
          "scattercarpet": [
           {
            "marker": {
             "colorbar": {
              "outlinewidth": 0,
              "ticks": ""
             }
            },
            "type": "scattercarpet"
           }
          ],
          "scattergeo": [
           {
            "marker": {
             "colorbar": {
              "outlinewidth": 0,
              "ticks": ""
             }
            },
            "type": "scattergeo"
           }
          ],
          "scattergl": [
           {
            "marker": {
             "colorbar": {
              "outlinewidth": 0,
              "ticks": ""
             }
            },
            "type": "scattergl"
           }
          ],
          "scattermapbox": [
           {
            "marker": {
             "colorbar": {
              "outlinewidth": 0,
              "ticks": ""
             }
            },
            "type": "scattermapbox"
           }
          ],
          "scatterpolar": [
           {
            "marker": {
             "colorbar": {
              "outlinewidth": 0,
              "ticks": ""
             }
            },
            "type": "scatterpolar"
           }
          ],
          "scatterpolargl": [
           {
            "marker": {
             "colorbar": {
              "outlinewidth": 0,
              "ticks": ""
             }
            },
            "type": "scatterpolargl"
           }
          ],
          "scatterternary": [
           {
            "marker": {
             "colorbar": {
              "outlinewidth": 0,
              "ticks": ""
             }
            },
            "type": "scatterternary"
           }
          ],
          "surface": [
           {
            "colorbar": {
             "outlinewidth": 0,
             "ticks": ""
            },
            "colorscale": [
             [
              0,
              "#0d0887"
             ],
             [
              0.1111111111111111,
              "#46039f"
             ],
             [
              0.2222222222222222,
              "#7201a8"
             ],
             [
              0.3333333333333333,
              "#9c179e"
             ],
             [
              0.4444444444444444,
              "#bd3786"
             ],
             [
              0.5555555555555556,
              "#d8576b"
             ],
             [
              0.6666666666666666,
              "#ed7953"
             ],
             [
              0.7777777777777778,
              "#fb9f3a"
             ],
             [
              0.8888888888888888,
              "#fdca26"
             ],
             [
              1,
              "#f0f921"
             ]
            ],
            "type": "surface"
           }
          ],
          "table": [
           {
            "cells": {
             "fill": {
              "color": "#EBF0F8"
             },
             "line": {
              "color": "white"
             }
            },
            "header": {
             "fill": {
              "color": "#C8D4E3"
             },
             "line": {
              "color": "white"
             }
            },
            "type": "table"
           }
          ]
         },
         "layout": {
          "annotationdefaults": {
           "arrowcolor": "#2a3f5f",
           "arrowhead": 0,
           "arrowwidth": 1
          },
          "autotypenumbers": "strict",
          "coloraxis": {
           "colorbar": {
            "outlinewidth": 0,
            "ticks": ""
           }
          },
          "colorscale": {
           "diverging": [
            [
             0,
             "#8e0152"
            ],
            [
             0.1,
             "#c51b7d"
            ],
            [
             0.2,
             "#de77ae"
            ],
            [
             0.3,
             "#f1b6da"
            ],
            [
             0.4,
             "#fde0ef"
            ],
            [
             0.5,
             "#f7f7f7"
            ],
            [
             0.6,
             "#e6f5d0"
            ],
            [
             0.7,
             "#b8e186"
            ],
            [
             0.8,
             "#7fbc41"
            ],
            [
             0.9,
             "#4d9221"
            ],
            [
             1,
             "#276419"
            ]
           ],
           "sequential": [
            [
             0,
             "#0d0887"
            ],
            [
             0.1111111111111111,
             "#46039f"
            ],
            [
             0.2222222222222222,
             "#7201a8"
            ],
            [
             0.3333333333333333,
             "#9c179e"
            ],
            [
             0.4444444444444444,
             "#bd3786"
            ],
            [
             0.5555555555555556,
             "#d8576b"
            ],
            [
             0.6666666666666666,
             "#ed7953"
            ],
            [
             0.7777777777777778,
             "#fb9f3a"
            ],
            [
             0.8888888888888888,
             "#fdca26"
            ],
            [
             1,
             "#f0f921"
            ]
           ],
           "sequentialminus": [
            [
             0,
             "#0d0887"
            ],
            [
             0.1111111111111111,
             "#46039f"
            ],
            [
             0.2222222222222222,
             "#7201a8"
            ],
            [
             0.3333333333333333,
             "#9c179e"
            ],
            [
             0.4444444444444444,
             "#bd3786"
            ],
            [
             0.5555555555555556,
             "#d8576b"
            ],
            [
             0.6666666666666666,
             "#ed7953"
            ],
            [
             0.7777777777777778,
             "#fb9f3a"
            ],
            [
             0.8888888888888888,
             "#fdca26"
            ],
            [
             1,
             "#f0f921"
            ]
           ]
          },
          "colorway": [
           "#636efa",
           "#EF553B",
           "#00cc96",
           "#ab63fa",
           "#FFA15A",
           "#19d3f3",
           "#FF6692",
           "#B6E880",
           "#FF97FF",
           "#FECB52"
          ],
          "font": {
           "color": "#2a3f5f"
          },
          "geo": {
           "bgcolor": "white",
           "lakecolor": "white",
           "landcolor": "#E5ECF6",
           "showlakes": true,
           "showland": true,
           "subunitcolor": "white"
          },
          "hoverlabel": {
           "align": "left"
          },
          "hovermode": "closest",
          "mapbox": {
           "style": "light"
          },
          "paper_bgcolor": "white",
          "plot_bgcolor": "#E5ECF6",
          "polar": {
           "angularaxis": {
            "gridcolor": "white",
            "linecolor": "white",
            "ticks": ""
           },
           "bgcolor": "#E5ECF6",
           "radialaxis": {
            "gridcolor": "white",
            "linecolor": "white",
            "ticks": ""
           }
          },
          "scene": {
           "xaxis": {
            "backgroundcolor": "#E5ECF6",
            "gridcolor": "white",
            "gridwidth": 2,
            "linecolor": "white",
            "showbackground": true,
            "ticks": "",
            "zerolinecolor": "white"
           },
           "yaxis": {
            "backgroundcolor": "#E5ECF6",
            "gridcolor": "white",
            "gridwidth": 2,
            "linecolor": "white",
            "showbackground": true,
            "ticks": "",
            "zerolinecolor": "white"
           },
           "zaxis": {
            "backgroundcolor": "#E5ECF6",
            "gridcolor": "white",
            "gridwidth": 2,
            "linecolor": "white",
            "showbackground": true,
            "ticks": "",
            "zerolinecolor": "white"
           }
          },
          "shapedefaults": {
           "line": {
            "color": "#2a3f5f"
           }
          },
          "ternary": {
           "aaxis": {
            "gridcolor": "white",
            "linecolor": "white",
            "ticks": ""
           },
           "baxis": {
            "gridcolor": "white",
            "linecolor": "white",
            "ticks": ""
           },
           "bgcolor": "#E5ECF6",
           "caxis": {
            "gridcolor": "white",
            "linecolor": "white",
            "ticks": ""
           }
          },
          "title": {
           "x": 0.05
          },
          "xaxis": {
           "automargin": true,
           "gridcolor": "white",
           "linecolor": "white",
           "ticks": "",
           "title": {
            "standoff": 15
           },
           "zerolinecolor": "white",
           "zerolinewidth": 2
          },
          "yaxis": {
           "automargin": true,
           "gridcolor": "white",
           "linecolor": "white",
           "ticks": "",
           "title": {
            "standoff": 15
           },
           "zerolinecolor": "white",
           "zerolinewidth": 2
          }
         }
        },
        "title": {
         "text": "Average Retail Price per Category"
        }
       }
      }
     },
     "metadata": {},
     "output_type": "display_data"
    }
   ],
   "source": [
    "\n",
    "# Group by category and calculate the average retail price\n",
    "avg_price_per_category = products.groupby('category')['retail_price'].mean().reset_index()\n",
    "avg_price_per_category.columns = ['category', 'avg_retail_price']\n",
    "\n",
    "# Sort the DataFrame in descending order of average retail price\n",
    "avg_price_per_category_sorted = avg_price_per_category.sort_values(by='avg_retail_price', ascending=False)\n",
    "\n",
    "# Create a table trace\n",
    "table_trace_category = go.Table(\n",
    "    header=dict(values=['Category', 'Average Retail Price'],\n",
    "                fill_color='paleturquoise',\n",
    "                align='left'),\n",
    "    cells=dict(values=[avg_price_per_category_sorted['category'], avg_price_per_category_sorted['avg_retail_price']],\n",
    "               fill_color='lavender',\n",
    "               align='left'))\n",
    "\n",
    "# Create figure\n",
    "fig_category = go.Figure(data=[table_trace_category])\n",
    "\n",
    "# Update layout\n",
    "fig_category.update_layout(title='Average Retail Price per Category')\n",
    "\n",
    "# Show plot\n",
    "fig_category.show()"
   ]
  },
  {
   "cell_type": "code",
   "execution_count": 13,
   "metadata": {},
   "outputs": [
    {
     "data": {
      "application/vnd.plotly.v1+json": {
       "config": {
        "plotlyServerURL": "https://plot.ly"
       },
       "data": [
        {
         "marker": {
          "color": "blue"
         },
         "mode": "lines+markers",
         "name": "Average Cost",
         "type": "scatter",
         "x": [
          "Accessories",
          "Active",
          "Blazers & Jackets",
          "Clothing Sets",
          "Dresses",
          "Fashion Hoodies & Sweatshirts",
          "Intimates",
          "Jeans",
          "Jumpsuits & Rompers",
          "Leggings",
          "Maternity",
          "Outerwear & Coats",
          "Pants",
          "Pants & Capris",
          "Plus",
          "Shorts",
          "Skirts",
          "Sleep & Lounge",
          "Socks",
          "Socks & Hosiery",
          "Suits",
          "Suits & Sport Coats",
          "Sweaters",
          "Swim",
          "Tops & Tees",
          "Underwear"
         ],
         "y": [
          17.07927460582819,
          21.22166616217771,
          35.111046581220734,
          52.50753007640466,
          37.930728677324645,
          27.805290316484257,
          17.920962547114822,
          52.43612970965546,
          24.149758070737658,
          16.283877802621184,
          22.421595542333204,
          65.06216884154334,
          27.462262798074153,
          28.871875442245074,
          19.29715983832926,
          22.92415731794491,
          20.86310397640607,
          24.23200285322432,
          12.320661032880928,
          6.737410610749512,
          70.1828107578995,
          50.799629776456754,
          36.08758854354666,
          28.891347395792017,
          23.160505774307957,
          12.773629057812844
         ]
        },
        {
         "marker": {
          "color": "red"
         },
         "mode": "lines+markers",
         "name": "Average Retail Price",
         "type": "scatter",
         "x": [
          "Accessories",
          "Active",
          "Blazers & Jackets",
          "Clothing Sets",
          "Dresses",
          "Fashion Hoodies & Sweatshirts",
          "Intimates",
          "Jeans",
          "Jumpsuits & Rompers",
          "Leggings",
          "Maternity",
          "Outerwear & Coats",
          "Pants",
          "Pants & Capris",
          "Plus",
          "Shorts",
          "Skirts",
          "Sleep & Lounge",
          "Socks",
          "Socks & Hosiery",
          "Suits",
          "Suits & Sport Coats",
          "Sweaters",
          "Swim",
          "Tops & Tees",
          "Underwear"
         ],
         "y": [
          42.60171480637879,
          50.62101957834633,
          92.59508041562032,
          84.84405414478199,
          84.20327769574071,
          53.919865995821304,
          33.70507214178566,
          97.89139223027122,
          45.42216063134464,
          27.149663078869487,
          50.799209259666156,
          146.20433603976406,
          59.81431338285507,
          54.70554671357545,
          38.50820112937973,
          45.769915145247246,
          52.325231732724475,
          49.230197856520526,
          20.41758583233602,
          16.76109771513401,
          116.1640958380192,
          126.55561555803064,
          75.31898100319853,
          57.83243882470248,
          41.37673833838348,
          27.156001869808225
         ]
        }
       ],
       "layout": {
        "legend": {
         "traceorder": "normal",
         "x": 0,
         "y": 1
        },
        "template": {
         "data": {
          "bar": [
           {
            "error_x": {
             "color": "#2a3f5f"
            },
            "error_y": {
             "color": "#2a3f5f"
            },
            "marker": {
             "line": {
              "color": "#E5ECF6",
              "width": 0.5
             },
             "pattern": {
              "fillmode": "overlay",
              "size": 10,
              "solidity": 0.2
             }
            },
            "type": "bar"
           }
          ],
          "barpolar": [
           {
            "marker": {
             "line": {
              "color": "#E5ECF6",
              "width": 0.5
             },
             "pattern": {
              "fillmode": "overlay",
              "size": 10,
              "solidity": 0.2
             }
            },
            "type": "barpolar"
           }
          ],
          "carpet": [
           {
            "aaxis": {
             "endlinecolor": "#2a3f5f",
             "gridcolor": "white",
             "linecolor": "white",
             "minorgridcolor": "white",
             "startlinecolor": "#2a3f5f"
            },
            "baxis": {
             "endlinecolor": "#2a3f5f",
             "gridcolor": "white",
             "linecolor": "white",
             "minorgridcolor": "white",
             "startlinecolor": "#2a3f5f"
            },
            "type": "carpet"
           }
          ],
          "choropleth": [
           {
            "colorbar": {
             "outlinewidth": 0,
             "ticks": ""
            },
            "type": "choropleth"
           }
          ],
          "contour": [
           {
            "colorbar": {
             "outlinewidth": 0,
             "ticks": ""
            },
            "colorscale": [
             [
              0,
              "#0d0887"
             ],
             [
              0.1111111111111111,
              "#46039f"
             ],
             [
              0.2222222222222222,
              "#7201a8"
             ],
             [
              0.3333333333333333,
              "#9c179e"
             ],
             [
              0.4444444444444444,
              "#bd3786"
             ],
             [
              0.5555555555555556,
              "#d8576b"
             ],
             [
              0.6666666666666666,
              "#ed7953"
             ],
             [
              0.7777777777777778,
              "#fb9f3a"
             ],
             [
              0.8888888888888888,
              "#fdca26"
             ],
             [
              1,
              "#f0f921"
             ]
            ],
            "type": "contour"
           }
          ],
          "contourcarpet": [
           {
            "colorbar": {
             "outlinewidth": 0,
             "ticks": ""
            },
            "type": "contourcarpet"
           }
          ],
          "heatmap": [
           {
            "colorbar": {
             "outlinewidth": 0,
             "ticks": ""
            },
            "colorscale": [
             [
              0,
              "#0d0887"
             ],
             [
              0.1111111111111111,
              "#46039f"
             ],
             [
              0.2222222222222222,
              "#7201a8"
             ],
             [
              0.3333333333333333,
              "#9c179e"
             ],
             [
              0.4444444444444444,
              "#bd3786"
             ],
             [
              0.5555555555555556,
              "#d8576b"
             ],
             [
              0.6666666666666666,
              "#ed7953"
             ],
             [
              0.7777777777777778,
              "#fb9f3a"
             ],
             [
              0.8888888888888888,
              "#fdca26"
             ],
             [
              1,
              "#f0f921"
             ]
            ],
            "type": "heatmap"
           }
          ],
          "heatmapgl": [
           {
            "colorbar": {
             "outlinewidth": 0,
             "ticks": ""
            },
            "colorscale": [
             [
              0,
              "#0d0887"
             ],
             [
              0.1111111111111111,
              "#46039f"
             ],
             [
              0.2222222222222222,
              "#7201a8"
             ],
             [
              0.3333333333333333,
              "#9c179e"
             ],
             [
              0.4444444444444444,
              "#bd3786"
             ],
             [
              0.5555555555555556,
              "#d8576b"
             ],
             [
              0.6666666666666666,
              "#ed7953"
             ],
             [
              0.7777777777777778,
              "#fb9f3a"
             ],
             [
              0.8888888888888888,
              "#fdca26"
             ],
             [
              1,
              "#f0f921"
             ]
            ],
            "type": "heatmapgl"
           }
          ],
          "histogram": [
           {
            "marker": {
             "pattern": {
              "fillmode": "overlay",
              "size": 10,
              "solidity": 0.2
             }
            },
            "type": "histogram"
           }
          ],
          "histogram2d": [
           {
            "colorbar": {
             "outlinewidth": 0,
             "ticks": ""
            },
            "colorscale": [
             [
              0,
              "#0d0887"
             ],
             [
              0.1111111111111111,
              "#46039f"
             ],
             [
              0.2222222222222222,
              "#7201a8"
             ],
             [
              0.3333333333333333,
              "#9c179e"
             ],
             [
              0.4444444444444444,
              "#bd3786"
             ],
             [
              0.5555555555555556,
              "#d8576b"
             ],
             [
              0.6666666666666666,
              "#ed7953"
             ],
             [
              0.7777777777777778,
              "#fb9f3a"
             ],
             [
              0.8888888888888888,
              "#fdca26"
             ],
             [
              1,
              "#f0f921"
             ]
            ],
            "type": "histogram2d"
           }
          ],
          "histogram2dcontour": [
           {
            "colorbar": {
             "outlinewidth": 0,
             "ticks": ""
            },
            "colorscale": [
             [
              0,
              "#0d0887"
             ],
             [
              0.1111111111111111,
              "#46039f"
             ],
             [
              0.2222222222222222,
              "#7201a8"
             ],
             [
              0.3333333333333333,
              "#9c179e"
             ],
             [
              0.4444444444444444,
              "#bd3786"
             ],
             [
              0.5555555555555556,
              "#d8576b"
             ],
             [
              0.6666666666666666,
              "#ed7953"
             ],
             [
              0.7777777777777778,
              "#fb9f3a"
             ],
             [
              0.8888888888888888,
              "#fdca26"
             ],
             [
              1,
              "#f0f921"
             ]
            ],
            "type": "histogram2dcontour"
           }
          ],
          "mesh3d": [
           {
            "colorbar": {
             "outlinewidth": 0,
             "ticks": ""
            },
            "type": "mesh3d"
           }
          ],
          "parcoords": [
           {
            "line": {
             "colorbar": {
              "outlinewidth": 0,
              "ticks": ""
             }
            },
            "type": "parcoords"
           }
          ],
          "pie": [
           {
            "automargin": true,
            "type": "pie"
           }
          ],
          "scatter": [
           {
            "marker": {
             "colorbar": {
              "outlinewidth": 0,
              "ticks": ""
             }
            },
            "type": "scatter"
           }
          ],
          "scatter3d": [
           {
            "line": {
             "colorbar": {
              "outlinewidth": 0,
              "ticks": ""
             }
            },
            "marker": {
             "colorbar": {
              "outlinewidth": 0,
              "ticks": ""
             }
            },
            "type": "scatter3d"
           }
          ],
          "scattercarpet": [
           {
            "marker": {
             "colorbar": {
              "outlinewidth": 0,
              "ticks": ""
             }
            },
            "type": "scattercarpet"
           }
          ],
          "scattergeo": [
           {
            "marker": {
             "colorbar": {
              "outlinewidth": 0,
              "ticks": ""
             }
            },
            "type": "scattergeo"
           }
          ],
          "scattergl": [
           {
            "marker": {
             "colorbar": {
              "outlinewidth": 0,
              "ticks": ""
             }
            },
            "type": "scattergl"
           }
          ],
          "scattermapbox": [
           {
            "marker": {
             "colorbar": {
              "outlinewidth": 0,
              "ticks": ""
             }
            },
            "type": "scattermapbox"
           }
          ],
          "scatterpolar": [
           {
            "marker": {
             "colorbar": {
              "outlinewidth": 0,
              "ticks": ""
             }
            },
            "type": "scatterpolar"
           }
          ],
          "scatterpolargl": [
           {
            "marker": {
             "colorbar": {
              "outlinewidth": 0,
              "ticks": ""
             }
            },
            "type": "scatterpolargl"
           }
          ],
          "scatterternary": [
           {
            "marker": {
             "colorbar": {
              "outlinewidth": 0,
              "ticks": ""
             }
            },
            "type": "scatterternary"
           }
          ],
          "surface": [
           {
            "colorbar": {
             "outlinewidth": 0,
             "ticks": ""
            },
            "colorscale": [
             [
              0,
              "#0d0887"
             ],
             [
              0.1111111111111111,
              "#46039f"
             ],
             [
              0.2222222222222222,
              "#7201a8"
             ],
             [
              0.3333333333333333,
              "#9c179e"
             ],
             [
              0.4444444444444444,
              "#bd3786"
             ],
             [
              0.5555555555555556,
              "#d8576b"
             ],
             [
              0.6666666666666666,
              "#ed7953"
             ],
             [
              0.7777777777777778,
              "#fb9f3a"
             ],
             [
              0.8888888888888888,
              "#fdca26"
             ],
             [
              1,
              "#f0f921"
             ]
            ],
            "type": "surface"
           }
          ],
          "table": [
           {
            "cells": {
             "fill": {
              "color": "#EBF0F8"
             },
             "line": {
              "color": "white"
             }
            },
            "header": {
             "fill": {
              "color": "#C8D4E3"
             },
             "line": {
              "color": "white"
             }
            },
            "type": "table"
           }
          ]
         },
         "layout": {
          "annotationdefaults": {
           "arrowcolor": "#2a3f5f",
           "arrowhead": 0,
           "arrowwidth": 1
          },
          "autotypenumbers": "strict",
          "coloraxis": {
           "colorbar": {
            "outlinewidth": 0,
            "ticks": ""
           }
          },
          "colorscale": {
           "diverging": [
            [
             0,
             "#8e0152"
            ],
            [
             0.1,
             "#c51b7d"
            ],
            [
             0.2,
             "#de77ae"
            ],
            [
             0.3,
             "#f1b6da"
            ],
            [
             0.4,
             "#fde0ef"
            ],
            [
             0.5,
             "#f7f7f7"
            ],
            [
             0.6,
             "#e6f5d0"
            ],
            [
             0.7,
             "#b8e186"
            ],
            [
             0.8,
             "#7fbc41"
            ],
            [
             0.9,
             "#4d9221"
            ],
            [
             1,
             "#276419"
            ]
           ],
           "sequential": [
            [
             0,
             "#0d0887"
            ],
            [
             0.1111111111111111,
             "#46039f"
            ],
            [
             0.2222222222222222,
             "#7201a8"
            ],
            [
             0.3333333333333333,
             "#9c179e"
            ],
            [
             0.4444444444444444,
             "#bd3786"
            ],
            [
             0.5555555555555556,
             "#d8576b"
            ],
            [
             0.6666666666666666,
             "#ed7953"
            ],
            [
             0.7777777777777778,
             "#fb9f3a"
            ],
            [
             0.8888888888888888,
             "#fdca26"
            ],
            [
             1,
             "#f0f921"
            ]
           ],
           "sequentialminus": [
            [
             0,
             "#0d0887"
            ],
            [
             0.1111111111111111,
             "#46039f"
            ],
            [
             0.2222222222222222,
             "#7201a8"
            ],
            [
             0.3333333333333333,
             "#9c179e"
            ],
            [
             0.4444444444444444,
             "#bd3786"
            ],
            [
             0.5555555555555556,
             "#d8576b"
            ],
            [
             0.6666666666666666,
             "#ed7953"
            ],
            [
             0.7777777777777778,
             "#fb9f3a"
            ],
            [
             0.8888888888888888,
             "#fdca26"
            ],
            [
             1,
             "#f0f921"
            ]
           ]
          },
          "colorway": [
           "#636efa",
           "#EF553B",
           "#00cc96",
           "#ab63fa",
           "#FFA15A",
           "#19d3f3",
           "#FF6692",
           "#B6E880",
           "#FF97FF",
           "#FECB52"
          ],
          "font": {
           "color": "#2a3f5f"
          },
          "geo": {
           "bgcolor": "white",
           "lakecolor": "white",
           "landcolor": "#E5ECF6",
           "showlakes": true,
           "showland": true,
           "subunitcolor": "white"
          },
          "hoverlabel": {
           "align": "left"
          },
          "hovermode": "closest",
          "mapbox": {
           "style": "light"
          },
          "paper_bgcolor": "white",
          "plot_bgcolor": "#E5ECF6",
          "polar": {
           "angularaxis": {
            "gridcolor": "white",
            "linecolor": "white",
            "ticks": ""
           },
           "bgcolor": "#E5ECF6",
           "radialaxis": {
            "gridcolor": "white",
            "linecolor": "white",
            "ticks": ""
           }
          },
          "scene": {
           "xaxis": {
            "backgroundcolor": "#E5ECF6",
            "gridcolor": "white",
            "gridwidth": 2,
            "linecolor": "white",
            "showbackground": true,
            "ticks": "",
            "zerolinecolor": "white"
           },
           "yaxis": {
            "backgroundcolor": "#E5ECF6",
            "gridcolor": "white",
            "gridwidth": 2,
            "linecolor": "white",
            "showbackground": true,
            "ticks": "",
            "zerolinecolor": "white"
           },
           "zaxis": {
            "backgroundcolor": "#E5ECF6",
            "gridcolor": "white",
            "gridwidth": 2,
            "linecolor": "white",
            "showbackground": true,
            "ticks": "",
            "zerolinecolor": "white"
           }
          },
          "shapedefaults": {
           "line": {
            "color": "#2a3f5f"
           }
          },
          "ternary": {
           "aaxis": {
            "gridcolor": "white",
            "linecolor": "white",
            "ticks": ""
           },
           "baxis": {
            "gridcolor": "white",
            "linecolor": "white",
            "ticks": ""
           },
           "bgcolor": "#E5ECF6",
           "caxis": {
            "gridcolor": "white",
            "linecolor": "white",
            "ticks": ""
           }
          },
          "title": {
           "x": 0.05
          },
          "xaxis": {
           "automargin": true,
           "gridcolor": "white",
           "linecolor": "white",
           "ticks": "",
           "title": {
            "standoff": 15
           },
           "zerolinecolor": "white",
           "zerolinewidth": 2
          },
          "yaxis": {
           "automargin": true,
           "gridcolor": "white",
           "linecolor": "white",
           "ticks": "",
           "title": {
            "standoff": 15
           },
           "zerolinecolor": "white",
           "zerolinewidth": 2
          }
         }
        },
        "title": {
         "text": "Comparison of Average Cost and Average Retail Price per Category"
        },
        "xaxis": {
         "title": {
          "text": "Category"
         }
        },
        "yaxis": {
         "title": {
          "text": "Price"
         }
        }
       }
      }
     },
     "metadata": {},
     "output_type": "display_data"
    }
   ],
   "source": [
    "# Group by category and calculate the average cost and retail price\n",
    "avg_cost_per_category = products.groupby('category')['cost'].mean().reset_index()\n",
    "avg_retail_price_per_category = products.groupby('category')['retail_price'].mean().reset_index()\n",
    "\n",
    "# Sort the DataFrames in alphabetical order of categories\n",
    "avg_cost_per_category_sorted = avg_cost_per_category.sort_values(by='category')\n",
    "avg_retail_price_per_category_sorted = avg_retail_price_per_category.sort_values(by='category')\n",
    "\n",
    "# Create line traces for average cost and retail price\n",
    "trace_cost = go.Scatter(x=avg_cost_per_category_sorted['category'], y=avg_cost_per_category_sorted['cost'],\n",
    "                        mode='lines+markers', name='Average Cost', marker=dict(color='blue'))\n",
    "trace_retail_price = go.Scatter(x=avg_retail_price_per_category_sorted['category'], y=avg_retail_price_per_category_sorted['retail_price'],\n",
    "                                mode='lines+markers', name='Average Retail Price', marker=dict(color='red'))\n",
    "\n",
    "# Create figure\n",
    "fig_line = go.Figure(data=[trace_cost, trace_retail_price])\n",
    "\n",
    "# Update layout\n",
    "fig_line.update_layout(title='Comparison of Average Cost and Average Retail Price per Category',\n",
    "                       xaxis_title='Category',\n",
    "                       yaxis_title='Price',\n",
    "                       legend=dict(x=0, y=1, traceorder='normal'))\n",
    "\n",
    "# Show plot\n",
    "fig_line.show()"
   ]
  },
  {
   "cell_type": "code",
   "execution_count": 14,
   "metadata": {},
   "outputs": [
    {
     "data": {
      "application/vnd.plotly.v1+json": {
       "config": {
        "plotlyServerURL": "https://plot.ly"
       },
       "data": [
        {
         "alignmentgroup": "True",
         "hovertemplate": "category=%{x}<br>count=%{y}<br>distribution_center_id=%{marker.color}<extra></extra>",
         "legendgroup": "",
         "marker": {
          "color": [
           1,
           2,
           3,
           4,
           5,
           6,
           7,
           8,
           9,
           10,
           1,
           2,
           3,
           4,
           5,
           6,
           7,
           8,
           9,
           10,
           1,
           2,
           3,
           4,
           5,
           6,
           7,
           8,
           9,
           10,
           1,
           2,
           3,
           4,
           5,
           6,
           8,
           9,
           1,
           2,
           3,
           4,
           5,
           6,
           7,
           8,
           9,
           10,
           1,
           2,
           3,
           4,
           5,
           6,
           7,
           8,
           9,
           10,
           1,
           2,
           3,
           4,
           5,
           6,
           7,
           8,
           9,
           10,
           1,
           2,
           3,
           4,
           5,
           6,
           7,
           8,
           9,
           10,
           1,
           2,
           3,
           4,
           5,
           6,
           7,
           8,
           9,
           10,
           1,
           2,
           3,
           4,
           5,
           6,
           7,
           8,
           9,
           10,
           1,
           2,
           3,
           4,
           5,
           6,
           7,
           8,
           9,
           10,
           1,
           2,
           3,
           4,
           5,
           6,
           7,
           8,
           9,
           10,
           1,
           2,
           3,
           4,
           5,
           6,
           7,
           8,
           9,
           10,
           1,
           2,
           3,
           4,
           5,
           6,
           7,
           8,
           9,
           10,
           1,
           2,
           3,
           4,
           5,
           6,
           7,
           8,
           9,
           10,
           1,
           2,
           3,
           4,
           5,
           6,
           7,
           8,
           9,
           10,
           1,
           2,
           3,
           4,
           5,
           6,
           7,
           8,
           9,
           10,
           1,
           2,
           3,
           4,
           5,
           6,
           7,
           8,
           9,
           10,
           1,
           2,
           3,
           4,
           5,
           6,
           7,
           8,
           9,
           10,
           1,
           2,
           3,
           4,
           5,
           6,
           7,
           8,
           9,
           10,
           1,
           2,
           3,
           4,
           6,
           7,
           9,
           10,
           1,
           2,
           3,
           4,
           5,
           6,
           7,
           8,
           9,
           10,
           1,
           2,
           3,
           4,
           5,
           6,
           7,
           8,
           9,
           10,
           1,
           2,
           3,
           4,
           5,
           6,
           7,
           8,
           9,
           10,
           1,
           2,
           3,
           4,
           5,
           6,
           7,
           8,
           9,
           10,
           1,
           2,
           3,
           4,
           5,
           6,
           7,
           8,
           9,
           10
          ],
          "coloraxis": "coloraxis",
          "pattern": {
           "shape": ""
          }
         },
         "name": "",
         "offsetgroup": "",
         "orientation": "v",
         "showlegend": false,
         "textposition": "auto",
         "type": "bar",
         "x": [
          "Accessories",
          "Accessories",
          "Accessories",
          "Accessories",
          "Accessories",
          "Accessories",
          "Accessories",
          "Accessories",
          "Accessories",
          "Accessories",
          "Active",
          "Active",
          "Active",
          "Active",
          "Active",
          "Active",
          "Active",
          "Active",
          "Active",
          "Active",
          "Blazers & Jackets",
          "Blazers & Jackets",
          "Blazers & Jackets",
          "Blazers & Jackets",
          "Blazers & Jackets",
          "Blazers & Jackets",
          "Blazers & Jackets",
          "Blazers & Jackets",
          "Blazers & Jackets",
          "Blazers & Jackets",
          "Clothing Sets",
          "Clothing Sets",
          "Clothing Sets",
          "Clothing Sets",
          "Clothing Sets",
          "Clothing Sets",
          "Clothing Sets",
          "Clothing Sets",
          "Dresses",
          "Dresses",
          "Dresses",
          "Dresses",
          "Dresses",
          "Dresses",
          "Dresses",
          "Dresses",
          "Dresses",
          "Dresses",
          "Fashion Hoodies & Sweatshirts",
          "Fashion Hoodies & Sweatshirts",
          "Fashion Hoodies & Sweatshirts",
          "Fashion Hoodies & Sweatshirts",
          "Fashion Hoodies & Sweatshirts",
          "Fashion Hoodies & Sweatshirts",
          "Fashion Hoodies & Sweatshirts",
          "Fashion Hoodies & Sweatshirts",
          "Fashion Hoodies & Sweatshirts",
          "Fashion Hoodies & Sweatshirts",
          "Intimates",
          "Intimates",
          "Intimates",
          "Intimates",
          "Intimates",
          "Intimates",
          "Intimates",
          "Intimates",
          "Intimates",
          "Intimates",
          "Jeans",
          "Jeans",
          "Jeans",
          "Jeans",
          "Jeans",
          "Jeans",
          "Jeans",
          "Jeans",
          "Jeans",
          "Jeans",
          "Jumpsuits & Rompers",
          "Jumpsuits & Rompers",
          "Jumpsuits & Rompers",
          "Jumpsuits & Rompers",
          "Jumpsuits & Rompers",
          "Jumpsuits & Rompers",
          "Jumpsuits & Rompers",
          "Jumpsuits & Rompers",
          "Jumpsuits & Rompers",
          "Jumpsuits & Rompers",
          "Leggings",
          "Leggings",
          "Leggings",
          "Leggings",
          "Leggings",
          "Leggings",
          "Leggings",
          "Leggings",
          "Leggings",
          "Leggings",
          "Maternity",
          "Maternity",
          "Maternity",
          "Maternity",
          "Maternity",
          "Maternity",
          "Maternity",
          "Maternity",
          "Maternity",
          "Maternity",
          "Outerwear & Coats",
          "Outerwear & Coats",
          "Outerwear & Coats",
          "Outerwear & Coats",
          "Outerwear & Coats",
          "Outerwear & Coats",
          "Outerwear & Coats",
          "Outerwear & Coats",
          "Outerwear & Coats",
          "Outerwear & Coats",
          "Pants",
          "Pants",
          "Pants",
          "Pants",
          "Pants",
          "Pants",
          "Pants",
          "Pants",
          "Pants",
          "Pants",
          "Pants & Capris",
          "Pants & Capris",
          "Pants & Capris",
          "Pants & Capris",
          "Pants & Capris",
          "Pants & Capris",
          "Pants & Capris",
          "Pants & Capris",
          "Pants & Capris",
          "Pants & Capris",
          "Plus",
          "Plus",
          "Plus",
          "Plus",
          "Plus",
          "Plus",
          "Plus",
          "Plus",
          "Plus",
          "Plus",
          "Shorts",
          "Shorts",
          "Shorts",
          "Shorts",
          "Shorts",
          "Shorts",
          "Shorts",
          "Shorts",
          "Shorts",
          "Shorts",
          "Skirts",
          "Skirts",
          "Skirts",
          "Skirts",
          "Skirts",
          "Skirts",
          "Skirts",
          "Skirts",
          "Skirts",
          "Skirts",
          "Sleep & Lounge",
          "Sleep & Lounge",
          "Sleep & Lounge",
          "Sleep & Lounge",
          "Sleep & Lounge",
          "Sleep & Lounge",
          "Sleep & Lounge",
          "Sleep & Lounge",
          "Sleep & Lounge",
          "Sleep & Lounge",
          "Socks",
          "Socks",
          "Socks",
          "Socks",
          "Socks",
          "Socks",
          "Socks",
          "Socks",
          "Socks",
          "Socks",
          "Socks & Hosiery",
          "Socks & Hosiery",
          "Socks & Hosiery",
          "Socks & Hosiery",
          "Socks & Hosiery",
          "Socks & Hosiery",
          "Socks & Hosiery",
          "Socks & Hosiery",
          "Socks & Hosiery",
          "Socks & Hosiery",
          "Suits",
          "Suits",
          "Suits",
          "Suits",
          "Suits",
          "Suits",
          "Suits",
          "Suits",
          "Suits & Sport Coats",
          "Suits & Sport Coats",
          "Suits & Sport Coats",
          "Suits & Sport Coats",
          "Suits & Sport Coats",
          "Suits & Sport Coats",
          "Suits & Sport Coats",
          "Suits & Sport Coats",
          "Suits & Sport Coats",
          "Suits & Sport Coats",
          "Sweaters",
          "Sweaters",
          "Sweaters",
          "Sweaters",
          "Sweaters",
          "Sweaters",
          "Sweaters",
          "Sweaters",
          "Sweaters",
          "Sweaters",
          "Swim",
          "Swim",
          "Swim",
          "Swim",
          "Swim",
          "Swim",
          "Swim",
          "Swim",
          "Swim",
          "Swim",
          "Tops & Tees",
          "Tops & Tees",
          "Tops & Tees",
          "Tops & Tees",
          "Tops & Tees",
          "Tops & Tees",
          "Tops & Tees",
          "Tops & Tees",
          "Tops & Tees",
          "Tops & Tees",
          "Underwear",
          "Underwear",
          "Underwear",
          "Underwear",
          "Underwear",
          "Underwear",
          "Underwear",
          "Underwear",
          "Underwear",
          "Underwear"
         ],
         "xaxis": "x",
         "y": [
          254,
          277,
          197,
          139,
          101,
          111,
          125,
          180,
          65,
          108,
          248,
          288,
          164,
          145,
          29,
          177,
          124,
          55,
          112,
          90,
          50,
          68,
          106,
          16,
          23,
          18,
          29,
          32,
          202,
          17,
          5,
          3,
          5,
          2,
          2,
          2,
          11,
          7,
          161,
          81,
          188,
          47,
          84,
          22,
          61,
          80,
          173,
          58,
          239,
          229,
          94,
          201,
          114,
          198,
          201,
          217,
          269,
          103,
          265,
          502,
          375,
          160,
          116,
          174,
          65,
          230,
          266,
          205,
          187,
          149,
          147,
          273,
          182,
          146,
          314,
          346,
          42,
          211,
          7,
          8,
          9,
          18,
          13,
          4,
          10,
          14,
          75,
          4,
          106,
          109,
          24,
          57,
          43,
          31,
          64,
          21,
          61,
          48,
          77,
          92,
          289,
          49,
          70,
          48,
          98,
          81,
          81,
          13,
          190,
          106,
          295,
          130,
          95,
          192,
          176,
          133,
          73,
          26,
          106,
          93,
          88,
          105,
          77,
          160,
          148,
          92,
          105,
          67,
          65,
          91,
          104,
          38,
          65,
          32,
          42,
          48,
          89,
          39,
          70,
          176,
          82,
          54,
          107,
          63,
          51,
          75,
          38,
          40,
          254,
          159,
          137,
          179,
          122,
          166,
          193,
          208,
          247,
          100,
          56,
          38,
          46,
          24,
          42,
          12,
          41,
          40,
          42,
          26,
          254,
          371,
          147,
          161,
          131,
          179,
          196,
          181,
          54,
          96,
          120,
          155,
          141,
          67,
          62,
          114,
          121,
          66,
          24,
          33,
          73,
          169,
          77,
          82,
          58,
          57,
          51,
          57,
          18,
          23,
          49,
          12,
          37,
          13,
          2,
          28,
          35,
          12,
          95,
          57,
          77,
          79,
          71,
          94,
          49,
          92,
          65,
          60,
          247,
          227,
          201,
          121,
          164,
          179,
          172,
          205,
          137,
          84,
          282,
          160,
          113,
          377,
          174,
          142,
          70,
          235,
          183,
          60,
          294,
          185,
          229,
          187,
          115,
          213,
          182,
          171,
          185,
          103,
          136,
          123,
          271,
          37,
          52,
          36,
          58,
          49,
          71,
          255
         ],
         "yaxis": "y"
        }
       ],
       "layout": {
        "barmode": "relative",
        "coloraxis": {
         "colorbar": {
          "title": {
           "text": "distribution_center_id"
          }
         },
         "colorscale": [
          [
           0,
           "#0d0887"
          ],
          [
           0.1111111111111111,
           "#46039f"
          ],
          [
           0.2222222222222222,
           "#7201a8"
          ],
          [
           0.3333333333333333,
           "#9c179e"
          ],
          [
           0.4444444444444444,
           "#bd3786"
          ],
          [
           0.5555555555555556,
           "#d8576b"
          ],
          [
           0.6666666666666666,
           "#ed7953"
          ],
          [
           0.7777777777777778,
           "#fb9f3a"
          ],
          [
           0.8888888888888888,
           "#fdca26"
          ],
          [
           1,
           "#f0f921"
          ]
         ]
        },
        "legend": {
         "title": {
          "text": "Distribution Center"
         },
         "tracegroupgap": 0
        },
        "template": {
         "data": {
          "bar": [
           {
            "error_x": {
             "color": "#2a3f5f"
            },
            "error_y": {
             "color": "#2a3f5f"
            },
            "marker": {
             "line": {
              "color": "#E5ECF6",
              "width": 0.5
             },
             "pattern": {
              "fillmode": "overlay",
              "size": 10,
              "solidity": 0.2
             }
            },
            "type": "bar"
           }
          ],
          "barpolar": [
           {
            "marker": {
             "line": {
              "color": "#E5ECF6",
              "width": 0.5
             },
             "pattern": {
              "fillmode": "overlay",
              "size": 10,
              "solidity": 0.2
             }
            },
            "type": "barpolar"
           }
          ],
          "carpet": [
           {
            "aaxis": {
             "endlinecolor": "#2a3f5f",
             "gridcolor": "white",
             "linecolor": "white",
             "minorgridcolor": "white",
             "startlinecolor": "#2a3f5f"
            },
            "baxis": {
             "endlinecolor": "#2a3f5f",
             "gridcolor": "white",
             "linecolor": "white",
             "minorgridcolor": "white",
             "startlinecolor": "#2a3f5f"
            },
            "type": "carpet"
           }
          ],
          "choropleth": [
           {
            "colorbar": {
             "outlinewidth": 0,
             "ticks": ""
            },
            "type": "choropleth"
           }
          ],
          "contour": [
           {
            "colorbar": {
             "outlinewidth": 0,
             "ticks": ""
            },
            "colorscale": [
             [
              0,
              "#0d0887"
             ],
             [
              0.1111111111111111,
              "#46039f"
             ],
             [
              0.2222222222222222,
              "#7201a8"
             ],
             [
              0.3333333333333333,
              "#9c179e"
             ],
             [
              0.4444444444444444,
              "#bd3786"
             ],
             [
              0.5555555555555556,
              "#d8576b"
             ],
             [
              0.6666666666666666,
              "#ed7953"
             ],
             [
              0.7777777777777778,
              "#fb9f3a"
             ],
             [
              0.8888888888888888,
              "#fdca26"
             ],
             [
              1,
              "#f0f921"
             ]
            ],
            "type": "contour"
           }
          ],
          "contourcarpet": [
           {
            "colorbar": {
             "outlinewidth": 0,
             "ticks": ""
            },
            "type": "contourcarpet"
           }
          ],
          "heatmap": [
           {
            "colorbar": {
             "outlinewidth": 0,
             "ticks": ""
            },
            "colorscale": [
             [
              0,
              "#0d0887"
             ],
             [
              0.1111111111111111,
              "#46039f"
             ],
             [
              0.2222222222222222,
              "#7201a8"
             ],
             [
              0.3333333333333333,
              "#9c179e"
             ],
             [
              0.4444444444444444,
              "#bd3786"
             ],
             [
              0.5555555555555556,
              "#d8576b"
             ],
             [
              0.6666666666666666,
              "#ed7953"
             ],
             [
              0.7777777777777778,
              "#fb9f3a"
             ],
             [
              0.8888888888888888,
              "#fdca26"
             ],
             [
              1,
              "#f0f921"
             ]
            ],
            "type": "heatmap"
           }
          ],
          "heatmapgl": [
           {
            "colorbar": {
             "outlinewidth": 0,
             "ticks": ""
            },
            "colorscale": [
             [
              0,
              "#0d0887"
             ],
             [
              0.1111111111111111,
              "#46039f"
             ],
             [
              0.2222222222222222,
              "#7201a8"
             ],
             [
              0.3333333333333333,
              "#9c179e"
             ],
             [
              0.4444444444444444,
              "#bd3786"
             ],
             [
              0.5555555555555556,
              "#d8576b"
             ],
             [
              0.6666666666666666,
              "#ed7953"
             ],
             [
              0.7777777777777778,
              "#fb9f3a"
             ],
             [
              0.8888888888888888,
              "#fdca26"
             ],
             [
              1,
              "#f0f921"
             ]
            ],
            "type": "heatmapgl"
           }
          ],
          "histogram": [
           {
            "marker": {
             "pattern": {
              "fillmode": "overlay",
              "size": 10,
              "solidity": 0.2
             }
            },
            "type": "histogram"
           }
          ],
          "histogram2d": [
           {
            "colorbar": {
             "outlinewidth": 0,
             "ticks": ""
            },
            "colorscale": [
             [
              0,
              "#0d0887"
             ],
             [
              0.1111111111111111,
              "#46039f"
             ],
             [
              0.2222222222222222,
              "#7201a8"
             ],
             [
              0.3333333333333333,
              "#9c179e"
             ],
             [
              0.4444444444444444,
              "#bd3786"
             ],
             [
              0.5555555555555556,
              "#d8576b"
             ],
             [
              0.6666666666666666,
              "#ed7953"
             ],
             [
              0.7777777777777778,
              "#fb9f3a"
             ],
             [
              0.8888888888888888,
              "#fdca26"
             ],
             [
              1,
              "#f0f921"
             ]
            ],
            "type": "histogram2d"
           }
          ],
          "histogram2dcontour": [
           {
            "colorbar": {
             "outlinewidth": 0,
             "ticks": ""
            },
            "colorscale": [
             [
              0,
              "#0d0887"
             ],
             [
              0.1111111111111111,
              "#46039f"
             ],
             [
              0.2222222222222222,
              "#7201a8"
             ],
             [
              0.3333333333333333,
              "#9c179e"
             ],
             [
              0.4444444444444444,
              "#bd3786"
             ],
             [
              0.5555555555555556,
              "#d8576b"
             ],
             [
              0.6666666666666666,
              "#ed7953"
             ],
             [
              0.7777777777777778,
              "#fb9f3a"
             ],
             [
              0.8888888888888888,
              "#fdca26"
             ],
             [
              1,
              "#f0f921"
             ]
            ],
            "type": "histogram2dcontour"
           }
          ],
          "mesh3d": [
           {
            "colorbar": {
             "outlinewidth": 0,
             "ticks": ""
            },
            "type": "mesh3d"
           }
          ],
          "parcoords": [
           {
            "line": {
             "colorbar": {
              "outlinewidth": 0,
              "ticks": ""
             }
            },
            "type": "parcoords"
           }
          ],
          "pie": [
           {
            "automargin": true,
            "type": "pie"
           }
          ],
          "scatter": [
           {
            "marker": {
             "colorbar": {
              "outlinewidth": 0,
              "ticks": ""
             }
            },
            "type": "scatter"
           }
          ],
          "scatter3d": [
           {
            "line": {
             "colorbar": {
              "outlinewidth": 0,
              "ticks": ""
             }
            },
            "marker": {
             "colorbar": {
              "outlinewidth": 0,
              "ticks": ""
             }
            },
            "type": "scatter3d"
           }
          ],
          "scattercarpet": [
           {
            "marker": {
             "colorbar": {
              "outlinewidth": 0,
              "ticks": ""
             }
            },
            "type": "scattercarpet"
           }
          ],
          "scattergeo": [
           {
            "marker": {
             "colorbar": {
              "outlinewidth": 0,
              "ticks": ""
             }
            },
            "type": "scattergeo"
           }
          ],
          "scattergl": [
           {
            "marker": {
             "colorbar": {
              "outlinewidth": 0,
              "ticks": ""
             }
            },
            "type": "scattergl"
           }
          ],
          "scattermapbox": [
           {
            "marker": {
             "colorbar": {
              "outlinewidth": 0,
              "ticks": ""
             }
            },
            "type": "scattermapbox"
           }
          ],
          "scatterpolar": [
           {
            "marker": {
             "colorbar": {
              "outlinewidth": 0,
              "ticks": ""
             }
            },
            "type": "scatterpolar"
           }
          ],
          "scatterpolargl": [
           {
            "marker": {
             "colorbar": {
              "outlinewidth": 0,
              "ticks": ""
             }
            },
            "type": "scatterpolargl"
           }
          ],
          "scatterternary": [
           {
            "marker": {
             "colorbar": {
              "outlinewidth": 0,
              "ticks": ""
             }
            },
            "type": "scatterternary"
           }
          ],
          "surface": [
           {
            "colorbar": {
             "outlinewidth": 0,
             "ticks": ""
            },
            "colorscale": [
             [
              0,
              "#0d0887"
             ],
             [
              0.1111111111111111,
              "#46039f"
             ],
             [
              0.2222222222222222,
              "#7201a8"
             ],
             [
              0.3333333333333333,
              "#9c179e"
             ],
             [
              0.4444444444444444,
              "#bd3786"
             ],
             [
              0.5555555555555556,
              "#d8576b"
             ],
             [
              0.6666666666666666,
              "#ed7953"
             ],
             [
              0.7777777777777778,
              "#fb9f3a"
             ],
             [
              0.8888888888888888,
              "#fdca26"
             ],
             [
              1,
              "#f0f921"
             ]
            ],
            "type": "surface"
           }
          ],
          "table": [
           {
            "cells": {
             "fill": {
              "color": "#EBF0F8"
             },
             "line": {
              "color": "white"
             }
            },
            "header": {
             "fill": {
              "color": "#C8D4E3"
             },
             "line": {
              "color": "white"
             }
            },
            "type": "table"
           }
          ]
         },
         "layout": {
          "annotationdefaults": {
           "arrowcolor": "#2a3f5f",
           "arrowhead": 0,
           "arrowwidth": 1
          },
          "autotypenumbers": "strict",
          "coloraxis": {
           "colorbar": {
            "outlinewidth": 0,
            "ticks": ""
           }
          },
          "colorscale": {
           "diverging": [
            [
             0,
             "#8e0152"
            ],
            [
             0.1,
             "#c51b7d"
            ],
            [
             0.2,
             "#de77ae"
            ],
            [
             0.3,
             "#f1b6da"
            ],
            [
             0.4,
             "#fde0ef"
            ],
            [
             0.5,
             "#f7f7f7"
            ],
            [
             0.6,
             "#e6f5d0"
            ],
            [
             0.7,
             "#b8e186"
            ],
            [
             0.8,
             "#7fbc41"
            ],
            [
             0.9,
             "#4d9221"
            ],
            [
             1,
             "#276419"
            ]
           ],
           "sequential": [
            [
             0,
             "#0d0887"
            ],
            [
             0.1111111111111111,
             "#46039f"
            ],
            [
             0.2222222222222222,
             "#7201a8"
            ],
            [
             0.3333333333333333,
             "#9c179e"
            ],
            [
             0.4444444444444444,
             "#bd3786"
            ],
            [
             0.5555555555555556,
             "#d8576b"
            ],
            [
             0.6666666666666666,
             "#ed7953"
            ],
            [
             0.7777777777777778,
             "#fb9f3a"
            ],
            [
             0.8888888888888888,
             "#fdca26"
            ],
            [
             1,
             "#f0f921"
            ]
           ],
           "sequentialminus": [
            [
             0,
             "#0d0887"
            ],
            [
             0.1111111111111111,
             "#46039f"
            ],
            [
             0.2222222222222222,
             "#7201a8"
            ],
            [
             0.3333333333333333,
             "#9c179e"
            ],
            [
             0.4444444444444444,
             "#bd3786"
            ],
            [
             0.5555555555555556,
             "#d8576b"
            ],
            [
             0.6666666666666666,
             "#ed7953"
            ],
            [
             0.7777777777777778,
             "#fb9f3a"
            ],
            [
             0.8888888888888888,
             "#fdca26"
            ],
            [
             1,
             "#f0f921"
            ]
           ]
          },
          "colorway": [
           "#636efa",
           "#EF553B",
           "#00cc96",
           "#ab63fa",
           "#FFA15A",
           "#19d3f3",
           "#FF6692",
           "#B6E880",
           "#FF97FF",
           "#FECB52"
          ],
          "font": {
           "color": "#2a3f5f"
          },
          "geo": {
           "bgcolor": "white",
           "lakecolor": "white",
           "landcolor": "#E5ECF6",
           "showlakes": true,
           "showland": true,
           "subunitcolor": "white"
          },
          "hoverlabel": {
           "align": "left"
          },
          "hovermode": "closest",
          "mapbox": {
           "style": "light"
          },
          "paper_bgcolor": "white",
          "plot_bgcolor": "#E5ECF6",
          "polar": {
           "angularaxis": {
            "gridcolor": "white",
            "linecolor": "white",
            "ticks": ""
           },
           "bgcolor": "#E5ECF6",
           "radialaxis": {
            "gridcolor": "white",
            "linecolor": "white",
            "ticks": ""
           }
          },
          "scene": {
           "xaxis": {
            "backgroundcolor": "#E5ECF6",
            "gridcolor": "white",
            "gridwidth": 2,
            "linecolor": "white",
            "showbackground": true,
            "ticks": "",
            "zerolinecolor": "white"
           },
           "yaxis": {
            "backgroundcolor": "#E5ECF6",
            "gridcolor": "white",
            "gridwidth": 2,
            "linecolor": "white",
            "showbackground": true,
            "ticks": "",
            "zerolinecolor": "white"
           },
           "zaxis": {
            "backgroundcolor": "#E5ECF6",
            "gridcolor": "white",
            "gridwidth": 2,
            "linecolor": "white",
            "showbackground": true,
            "ticks": "",
            "zerolinecolor": "white"
           }
          },
          "shapedefaults": {
           "line": {
            "color": "#2a3f5f"
           }
          },
          "ternary": {
           "aaxis": {
            "gridcolor": "white",
            "linecolor": "white",
            "ticks": ""
           },
           "baxis": {
            "gridcolor": "white",
            "linecolor": "white",
            "ticks": ""
           },
           "bgcolor": "#E5ECF6",
           "caxis": {
            "gridcolor": "white",
            "linecolor": "white",
            "ticks": ""
           }
          },
          "title": {
           "x": 0.05
          },
          "xaxis": {
           "automargin": true,
           "gridcolor": "white",
           "linecolor": "white",
           "ticks": "",
           "title": {
            "standoff": 15
           },
           "zerolinecolor": "white",
           "zerolinewidth": 2
          },
          "yaxis": {
           "automargin": true,
           "gridcolor": "white",
           "linecolor": "white",
           "ticks": "",
           "title": {
            "standoff": 15
           },
           "zerolinecolor": "white",
           "zerolinewidth": 2
          }
         }
        },
        "title": {
         "text": "Category Distribution Across Distribution Centers"
        },
        "xaxis": {
         "anchor": "y",
         "domain": [
          0,
          1
         ],
         "title": {
          "text": "Category"
         }
        },
        "yaxis": {
         "anchor": "x",
         "domain": [
          0,
          1
         ],
         "title": {
          "text": "Number of Products"
         }
        }
       }
      }
     },
     "metadata": {},
     "output_type": "display_data"
    }
   ],
   "source": [
    "# Group by category and distribution center, and count the number of products in each combination\n",
    "category_distribution_center = products.groupby(['category', 'distribution_center_id']).size().reset_index()\n",
    "category_distribution_center.columns = ['category', 'distribution_center_id', 'count']\n",
    "\n",
    "# Create a bar plot\n",
    "fig = px.bar(category_distribution_center, x='category', y='count', color='distribution_center_id', title='Category Distribution Across Distribution Centers')\n",
    "fig.update_layout(xaxis_title='Category', yaxis_title='Number of Products', legend_title='Distribution Center')\n",
    "fig.show()"
   ]
  },
  {
   "cell_type": "code",
   "execution_count": 4,
   "metadata": {},
   "outputs": [
    {
     "data": {
      "text/html": [
       "<div>\n",
       "<style scoped>\n",
       "    .dataframe tbody tr th:only-of-type {\n",
       "        vertical-align: middle;\n",
       "    }\n",
       "\n",
       "    .dataframe tbody tr th {\n",
       "        vertical-align: top;\n",
       "    }\n",
       "\n",
       "    .dataframe thead th {\n",
       "        text-align: right;\n",
       "    }\n",
       "</style>\n",
       "<table border=\"1\" class=\"dataframe\">\n",
       "  <thead>\n",
       "    <tr style=\"text-align: right;\">\n",
       "      <th></th>\n",
       "      <th>id</th>\n",
       "      <th>name</th>\n",
       "      <th>latitude</th>\n",
       "      <th>longitude</th>\n",
       "    </tr>\n",
       "  </thead>\n",
       "  <tbody>\n",
       "    <tr>\n",
       "      <th>0</th>\n",
       "      <td>1</td>\n",
       "      <td>Memphis TN</td>\n",
       "      <td>35.1174</td>\n",
       "      <td>-89.9711</td>\n",
       "    </tr>\n",
       "    <tr>\n",
       "      <th>1</th>\n",
       "      <td>2</td>\n",
       "      <td>Chicago IL</td>\n",
       "      <td>41.8369</td>\n",
       "      <td>-87.6847</td>\n",
       "    </tr>\n",
       "    <tr>\n",
       "      <th>2</th>\n",
       "      <td>3</td>\n",
       "      <td>Houston TX</td>\n",
       "      <td>29.7604</td>\n",
       "      <td>-95.3698</td>\n",
       "    </tr>\n",
       "    <tr>\n",
       "      <th>3</th>\n",
       "      <td>4</td>\n",
       "      <td>Los Angeles CA</td>\n",
       "      <td>34.0500</td>\n",
       "      <td>-118.2500</td>\n",
       "    </tr>\n",
       "    <tr>\n",
       "      <th>4</th>\n",
       "      <td>5</td>\n",
       "      <td>New Orleans LA</td>\n",
       "      <td>29.9500</td>\n",
       "      <td>-90.0667</td>\n",
       "    </tr>\n",
       "  </tbody>\n",
       "</table>\n",
       "</div>"
      ],
      "text/plain": [
       "   id            name  latitude  longitude\n",
       "0   1      Memphis TN   35.1174   -89.9711\n",
       "1   2      Chicago IL   41.8369   -87.6847\n",
       "2   3      Houston TX   29.7604   -95.3698\n",
       "3   4  Los Angeles CA   34.0500  -118.2500\n",
       "4   5  New Orleans LA   29.9500   -90.0667"
      ]
     },
     "execution_count": 4,
     "metadata": {},
     "output_type": "execute_result"
    }
   ],
   "source": [
    "distribution_centers.head()"
   ]
  },
  {
   "cell_type": "code",
   "execution_count": 16,
   "metadata": {},
   "outputs": [
    {
     "data": {
      "application/vnd.plotly.v1+json": {
       "config": {
        "plotlyServerURL": "https://plot.ly"
       },
       "data": [
        {
         "lat": [
          35.1174,
          41.8369,
          29.7604,
          34.05,
          29.95,
          40.634,
          39.95,
          30.6944,
          32.7833,
          32.0167
         ],
         "lon": [
          -89.9711,
          -87.6847,
          -95.3698,
          -118.25,
          -90.0667,
          -73.7834,
          -75.1667,
          -88.0431,
          -79.9333,
          -81.1167
         ],
         "marker": {
          "size": 20
         },
         "mode": "markers",
         "name": "Distribution Centers",
         "text": [
          "Memphis TN",
          "Chicago IL",
          "Houston TX",
          "Los Angeles CA",
          "New Orleans LA",
          "Port Authority of New York/New Jersey NY/NJ",
          "Philadelphia PA",
          "Mobile AL",
          "Charleston SC",
          "Savannah GA"
         ],
         "type": "scattergeo"
        }
       ],
       "layout": {
        "geo": {
         "scope": "usa"
        },
        "height": 650,
        "template": {
         "data": {
          "bar": [
           {
            "error_x": {
             "color": "#2a3f5f"
            },
            "error_y": {
             "color": "#2a3f5f"
            },
            "marker": {
             "line": {
              "color": "#E5ECF6",
              "width": 0.5
             },
             "pattern": {
              "fillmode": "overlay",
              "size": 10,
              "solidity": 0.2
             }
            },
            "type": "bar"
           }
          ],
          "barpolar": [
           {
            "marker": {
             "line": {
              "color": "#E5ECF6",
              "width": 0.5
             },
             "pattern": {
              "fillmode": "overlay",
              "size": 10,
              "solidity": 0.2
             }
            },
            "type": "barpolar"
           }
          ],
          "carpet": [
           {
            "aaxis": {
             "endlinecolor": "#2a3f5f",
             "gridcolor": "white",
             "linecolor": "white",
             "minorgridcolor": "white",
             "startlinecolor": "#2a3f5f"
            },
            "baxis": {
             "endlinecolor": "#2a3f5f",
             "gridcolor": "white",
             "linecolor": "white",
             "minorgridcolor": "white",
             "startlinecolor": "#2a3f5f"
            },
            "type": "carpet"
           }
          ],
          "choropleth": [
           {
            "colorbar": {
             "outlinewidth": 0,
             "ticks": ""
            },
            "type": "choropleth"
           }
          ],
          "contour": [
           {
            "colorbar": {
             "outlinewidth": 0,
             "ticks": ""
            },
            "colorscale": [
             [
              0,
              "#0d0887"
             ],
             [
              0.1111111111111111,
              "#46039f"
             ],
             [
              0.2222222222222222,
              "#7201a8"
             ],
             [
              0.3333333333333333,
              "#9c179e"
             ],
             [
              0.4444444444444444,
              "#bd3786"
             ],
             [
              0.5555555555555556,
              "#d8576b"
             ],
             [
              0.6666666666666666,
              "#ed7953"
             ],
             [
              0.7777777777777778,
              "#fb9f3a"
             ],
             [
              0.8888888888888888,
              "#fdca26"
             ],
             [
              1,
              "#f0f921"
             ]
            ],
            "type": "contour"
           }
          ],
          "contourcarpet": [
           {
            "colorbar": {
             "outlinewidth": 0,
             "ticks": ""
            },
            "type": "contourcarpet"
           }
          ],
          "heatmap": [
           {
            "colorbar": {
             "outlinewidth": 0,
             "ticks": ""
            },
            "colorscale": [
             [
              0,
              "#0d0887"
             ],
             [
              0.1111111111111111,
              "#46039f"
             ],
             [
              0.2222222222222222,
              "#7201a8"
             ],
             [
              0.3333333333333333,
              "#9c179e"
             ],
             [
              0.4444444444444444,
              "#bd3786"
             ],
             [
              0.5555555555555556,
              "#d8576b"
             ],
             [
              0.6666666666666666,
              "#ed7953"
             ],
             [
              0.7777777777777778,
              "#fb9f3a"
             ],
             [
              0.8888888888888888,
              "#fdca26"
             ],
             [
              1,
              "#f0f921"
             ]
            ],
            "type": "heatmap"
           }
          ],
          "heatmapgl": [
           {
            "colorbar": {
             "outlinewidth": 0,
             "ticks": ""
            },
            "colorscale": [
             [
              0,
              "#0d0887"
             ],
             [
              0.1111111111111111,
              "#46039f"
             ],
             [
              0.2222222222222222,
              "#7201a8"
             ],
             [
              0.3333333333333333,
              "#9c179e"
             ],
             [
              0.4444444444444444,
              "#bd3786"
             ],
             [
              0.5555555555555556,
              "#d8576b"
             ],
             [
              0.6666666666666666,
              "#ed7953"
             ],
             [
              0.7777777777777778,
              "#fb9f3a"
             ],
             [
              0.8888888888888888,
              "#fdca26"
             ],
             [
              1,
              "#f0f921"
             ]
            ],
            "type": "heatmapgl"
           }
          ],
          "histogram": [
           {
            "marker": {
             "pattern": {
              "fillmode": "overlay",
              "size": 10,
              "solidity": 0.2
             }
            },
            "type": "histogram"
           }
          ],
          "histogram2d": [
           {
            "colorbar": {
             "outlinewidth": 0,
             "ticks": ""
            },
            "colorscale": [
             [
              0,
              "#0d0887"
             ],
             [
              0.1111111111111111,
              "#46039f"
             ],
             [
              0.2222222222222222,
              "#7201a8"
             ],
             [
              0.3333333333333333,
              "#9c179e"
             ],
             [
              0.4444444444444444,
              "#bd3786"
             ],
             [
              0.5555555555555556,
              "#d8576b"
             ],
             [
              0.6666666666666666,
              "#ed7953"
             ],
             [
              0.7777777777777778,
              "#fb9f3a"
             ],
             [
              0.8888888888888888,
              "#fdca26"
             ],
             [
              1,
              "#f0f921"
             ]
            ],
            "type": "histogram2d"
           }
          ],
          "histogram2dcontour": [
           {
            "colorbar": {
             "outlinewidth": 0,
             "ticks": ""
            },
            "colorscale": [
             [
              0,
              "#0d0887"
             ],
             [
              0.1111111111111111,
              "#46039f"
             ],
             [
              0.2222222222222222,
              "#7201a8"
             ],
             [
              0.3333333333333333,
              "#9c179e"
             ],
             [
              0.4444444444444444,
              "#bd3786"
             ],
             [
              0.5555555555555556,
              "#d8576b"
             ],
             [
              0.6666666666666666,
              "#ed7953"
             ],
             [
              0.7777777777777778,
              "#fb9f3a"
             ],
             [
              0.8888888888888888,
              "#fdca26"
             ],
             [
              1,
              "#f0f921"
             ]
            ],
            "type": "histogram2dcontour"
           }
          ],
          "mesh3d": [
           {
            "colorbar": {
             "outlinewidth": 0,
             "ticks": ""
            },
            "type": "mesh3d"
           }
          ],
          "parcoords": [
           {
            "line": {
             "colorbar": {
              "outlinewidth": 0,
              "ticks": ""
             }
            },
            "type": "parcoords"
           }
          ],
          "pie": [
           {
            "automargin": true,
            "type": "pie"
           }
          ],
          "scatter": [
           {
            "marker": {
             "colorbar": {
              "outlinewidth": 0,
              "ticks": ""
             }
            },
            "type": "scatter"
           }
          ],
          "scatter3d": [
           {
            "line": {
             "colorbar": {
              "outlinewidth": 0,
              "ticks": ""
             }
            },
            "marker": {
             "colorbar": {
              "outlinewidth": 0,
              "ticks": ""
             }
            },
            "type": "scatter3d"
           }
          ],
          "scattercarpet": [
           {
            "marker": {
             "colorbar": {
              "outlinewidth": 0,
              "ticks": ""
             }
            },
            "type": "scattercarpet"
           }
          ],
          "scattergeo": [
           {
            "marker": {
             "colorbar": {
              "outlinewidth": 0,
              "ticks": ""
             }
            },
            "type": "scattergeo"
           }
          ],
          "scattergl": [
           {
            "marker": {
             "colorbar": {
              "outlinewidth": 0,
              "ticks": ""
             }
            },
            "type": "scattergl"
           }
          ],
          "scattermapbox": [
           {
            "marker": {
             "colorbar": {
              "outlinewidth": 0,
              "ticks": ""
             }
            },
            "type": "scattermapbox"
           }
          ],
          "scatterpolar": [
           {
            "marker": {
             "colorbar": {
              "outlinewidth": 0,
              "ticks": ""
             }
            },
            "type": "scatterpolar"
           }
          ],
          "scatterpolargl": [
           {
            "marker": {
             "colorbar": {
              "outlinewidth": 0,
              "ticks": ""
             }
            },
            "type": "scatterpolargl"
           }
          ],
          "scatterternary": [
           {
            "marker": {
             "colorbar": {
              "outlinewidth": 0,
              "ticks": ""
             }
            },
            "type": "scatterternary"
           }
          ],
          "surface": [
           {
            "colorbar": {
             "outlinewidth": 0,
             "ticks": ""
            },
            "colorscale": [
             [
              0,
              "#0d0887"
             ],
             [
              0.1111111111111111,
              "#46039f"
             ],
             [
              0.2222222222222222,
              "#7201a8"
             ],
             [
              0.3333333333333333,
              "#9c179e"
             ],
             [
              0.4444444444444444,
              "#bd3786"
             ],
             [
              0.5555555555555556,
              "#d8576b"
             ],
             [
              0.6666666666666666,
              "#ed7953"
             ],
             [
              0.7777777777777778,
              "#fb9f3a"
             ],
             [
              0.8888888888888888,
              "#fdca26"
             ],
             [
              1,
              "#f0f921"
             ]
            ],
            "type": "surface"
           }
          ],
          "table": [
           {
            "cells": {
             "fill": {
              "color": "#EBF0F8"
             },
             "line": {
              "color": "white"
             }
            },
            "header": {
             "fill": {
              "color": "#C8D4E3"
             },
             "line": {
              "color": "white"
             }
            },
            "type": "table"
           }
          ]
         },
         "layout": {
          "annotationdefaults": {
           "arrowcolor": "#2a3f5f",
           "arrowhead": 0,
           "arrowwidth": 1
          },
          "autotypenumbers": "strict",
          "coloraxis": {
           "colorbar": {
            "outlinewidth": 0,
            "ticks": ""
           }
          },
          "colorscale": {
           "diverging": [
            [
             0,
             "#8e0152"
            ],
            [
             0.1,
             "#c51b7d"
            ],
            [
             0.2,
             "#de77ae"
            ],
            [
             0.3,
             "#f1b6da"
            ],
            [
             0.4,
             "#fde0ef"
            ],
            [
             0.5,
             "#f7f7f7"
            ],
            [
             0.6,
             "#e6f5d0"
            ],
            [
             0.7,
             "#b8e186"
            ],
            [
             0.8,
             "#7fbc41"
            ],
            [
             0.9,
             "#4d9221"
            ],
            [
             1,
             "#276419"
            ]
           ],
           "sequential": [
            [
             0,
             "#0d0887"
            ],
            [
             0.1111111111111111,
             "#46039f"
            ],
            [
             0.2222222222222222,
             "#7201a8"
            ],
            [
             0.3333333333333333,
             "#9c179e"
            ],
            [
             0.4444444444444444,
             "#bd3786"
            ],
            [
             0.5555555555555556,
             "#d8576b"
            ],
            [
             0.6666666666666666,
             "#ed7953"
            ],
            [
             0.7777777777777778,
             "#fb9f3a"
            ],
            [
             0.8888888888888888,
             "#fdca26"
            ],
            [
             1,
             "#f0f921"
            ]
           ],
           "sequentialminus": [
            [
             0,
             "#0d0887"
            ],
            [
             0.1111111111111111,
             "#46039f"
            ],
            [
             0.2222222222222222,
             "#7201a8"
            ],
            [
             0.3333333333333333,
             "#9c179e"
            ],
            [
             0.4444444444444444,
             "#bd3786"
            ],
            [
             0.5555555555555556,
             "#d8576b"
            ],
            [
             0.6666666666666666,
             "#ed7953"
            ],
            [
             0.7777777777777778,
             "#fb9f3a"
            ],
            [
             0.8888888888888888,
             "#fdca26"
            ],
            [
             1,
             "#f0f921"
            ]
           ]
          },
          "colorway": [
           "#636efa",
           "#EF553B",
           "#00cc96",
           "#ab63fa",
           "#FFA15A",
           "#19d3f3",
           "#FF6692",
           "#B6E880",
           "#FF97FF",
           "#FECB52"
          ],
          "font": {
           "color": "#2a3f5f"
          },
          "geo": {
           "bgcolor": "white",
           "lakecolor": "white",
           "landcolor": "#E5ECF6",
           "showlakes": true,
           "showland": true,
           "subunitcolor": "white"
          },
          "hoverlabel": {
           "align": "left"
          },
          "hovermode": "closest",
          "mapbox": {
           "style": "light"
          },
          "paper_bgcolor": "white",
          "plot_bgcolor": "#E5ECF6",
          "polar": {
           "angularaxis": {
            "gridcolor": "white",
            "linecolor": "white",
            "ticks": ""
           },
           "bgcolor": "#E5ECF6",
           "radialaxis": {
            "gridcolor": "white",
            "linecolor": "white",
            "ticks": ""
           }
          },
          "scene": {
           "xaxis": {
            "backgroundcolor": "#E5ECF6",
            "gridcolor": "white",
            "gridwidth": 2,
            "linecolor": "white",
            "showbackground": true,
            "ticks": "",
            "zerolinecolor": "white"
           },
           "yaxis": {
            "backgroundcolor": "#E5ECF6",
            "gridcolor": "white",
            "gridwidth": 2,
            "linecolor": "white",
            "showbackground": true,
            "ticks": "",
            "zerolinecolor": "white"
           },
           "zaxis": {
            "backgroundcolor": "#E5ECF6",
            "gridcolor": "white",
            "gridwidth": 2,
            "linecolor": "white",
            "showbackground": true,
            "ticks": "",
            "zerolinecolor": "white"
           }
          },
          "shapedefaults": {
           "line": {
            "color": "#2a3f5f"
           }
          },
          "ternary": {
           "aaxis": {
            "gridcolor": "white",
            "linecolor": "white",
            "ticks": ""
           },
           "baxis": {
            "gridcolor": "white",
            "linecolor": "white",
            "ticks": ""
           },
           "bgcolor": "#E5ECF6",
           "caxis": {
            "gridcolor": "white",
            "linecolor": "white",
            "ticks": ""
           }
          },
          "title": {
           "x": 0.05
          },
          "xaxis": {
           "automargin": true,
           "gridcolor": "white",
           "linecolor": "white",
           "ticks": "",
           "title": {
            "standoff": 15
           },
           "zerolinecolor": "white",
           "zerolinewidth": 2
          },
          "yaxis": {
           "automargin": true,
           "gridcolor": "white",
           "linecolor": "white",
           "ticks": "",
           "title": {
            "standoff": 15
           },
           "zerolinecolor": "white",
           "zerolinewidth": 2
          }
         }
        },
        "title": {
         "text": "Distribution Centers in the USA"
        }
       }
      }
     },
     "metadata": {},
     "output_type": "display_data"
    }
   ],
   "source": [
    "# Rename 'id' column to 'distribution_center_id'\n",
    "distribution_centers.rename(columns={'id': 'distribution_center_id'}, inplace=True)\n",
    "\n",
    "# Plotting the distribution centers\n",
    "fig = go.Figure()\n",
    "\n",
    "# Add Scattergeo trace for distribution centers\n",
    "fig.add_trace(go.Scattergeo(\n",
    "    lon=distribution_centers['longitude'],\n",
    "    lat=distribution_centers['latitude'],\n",
    "    text=distribution_centers['name'],\n",
    "    mode='markers',\n",
    "    marker=dict(size=20),\n",
    "    name='Distribution Centers'\n",
    "))\n",
    "\n",
    "# Update layout\n",
    "fig.update_layout(\n",
    "    title='Distribution Centers in the USA',\n",
    "    geo_scope='usa',  # Set the geo_scope to 'usa'\n",
    "    height=650,\n",
    ")\n",
    "\n",
    "# Show plot\n",
    "fig.show()\n"
   ]
  },
  {
   "cell_type": "code",
   "execution_count": 17,
   "metadata": {},
   "outputs": [],
   "source": [
    "# Calculate SKU count per distribution center\n",
    "sku_count_per_center = products.groupby('distribution_center_id').size().reset_index()\n",
    "sku_count_per_center.columns = ['distribution_center_id', 'sku_count']\n"
   ]
  },
  {
   "cell_type": "code",
   "execution_count": 21,
   "metadata": {},
   "outputs": [
    {
     "data": {
      "text/html": [
       "<div>\n",
       "<style scoped>\n",
       "    .dataframe tbody tr th:only-of-type {\n",
       "        vertical-align: middle;\n",
       "    }\n",
       "\n",
       "    .dataframe tbody tr th {\n",
       "        vertical-align: top;\n",
       "    }\n",
       "\n",
       "    .dataframe thead th {\n",
       "        text-align: right;\n",
       "    }\n",
       "</style>\n",
       "<table border=\"1\" class=\"dataframe\">\n",
       "  <thead>\n",
       "    <tr style=\"text-align: right;\">\n",
       "      <th></th>\n",
       "      <th>distribution_center_id</th>\n",
       "      <th>name</th>\n",
       "      <th>latitude</th>\n",
       "      <th>longitude</th>\n",
       "      <th>sku_count</th>\n",
       "    </tr>\n",
       "  </thead>\n",
       "  <tbody>\n",
       "    <tr>\n",
       "      <th>0</th>\n",
       "      <td>1</td>\n",
       "      <td>Memphis TN</td>\n",
       "      <td>35.1174</td>\n",
       "      <td>-89.9711</td>\n",
       "      <td>3890</td>\n",
       "    </tr>\n",
       "    <tr>\n",
       "      <th>1</th>\n",
       "      <td>2</td>\n",
       "      <td>Chicago IL</td>\n",
       "      <td>41.8369</td>\n",
       "      <td>-87.6847</td>\n",
       "      <td>3928</td>\n",
       "    </tr>\n",
       "    <tr>\n",
       "      <th>2</th>\n",
       "      <td>3</td>\n",
       "      <td>Houston TX</td>\n",
       "      <td>29.7604</td>\n",
       "      <td>-95.3698</td>\n",
       "      <td>3643</td>\n",
       "    </tr>\n",
       "    <tr>\n",
       "      <th>3</th>\n",
       "      <td>4</td>\n",
       "      <td>Los Angeles CA</td>\n",
       "      <td>34.0500</td>\n",
       "      <td>-118.2500</td>\n",
       "      <td>2761</td>\n",
       "    </tr>\n",
       "    <tr>\n",
       "      <th>4</th>\n",
       "      <td>5</td>\n",
       "      <td>New Orleans LA</td>\n",
       "      <td>29.9500</td>\n",
       "      <td>-90.0667</td>\n",
       "      <td>2112</td>\n",
       "    </tr>\n",
       "    <tr>\n",
       "      <th>5</th>\n",
       "      <td>6</td>\n",
       "      <td>Port Authority of New York/New Jersey NY/NJ</td>\n",
       "      <td>40.6340</td>\n",
       "      <td>-73.7834</td>\n",
       "      <td>2572</td>\n",
       "    </tr>\n",
       "    <tr>\n",
       "      <th>6</th>\n",
       "      <td>7</td>\n",
       "      <td>Philadelphia PA</td>\n",
       "      <td>39.9500</td>\n",
       "      <td>-75.1667</td>\n",
       "      <td>2669</td>\n",
       "    </tr>\n",
       "    <tr>\n",
       "      <th>7</th>\n",
       "      <td>8</td>\n",
       "      <td>Mobile AL</td>\n",
       "      <td>30.6944</td>\n",
       "      <td>-88.0431</td>\n",
       "      <td>2919</td>\n",
       "    </tr>\n",
       "    <tr>\n",
       "      <th>8</th>\n",
       "      <td>9</td>\n",
       "      <td>Charleston SC</td>\n",
       "      <td>32.7833</td>\n",
       "      <td>-79.9333</td>\n",
       "      <td>2719</td>\n",
       "    </tr>\n",
       "    <tr>\n",
       "      <th>9</th>\n",
       "      <td>10</td>\n",
       "      <td>Savannah GA</td>\n",
       "      <td>32.0167</td>\n",
       "      <td>-81.1167</td>\n",
       "      <td>1881</td>\n",
       "    </tr>\n",
       "  </tbody>\n",
       "</table>\n",
       "</div>"
      ],
      "text/plain": [
       "   distribution_center_id                                         name  \\\n",
       "0                       1                                   Memphis TN   \n",
       "1                       2                                   Chicago IL   \n",
       "2                       3                                   Houston TX   \n",
       "3                       4                               Los Angeles CA   \n",
       "4                       5                               New Orleans LA   \n",
       "5                       6  Port Authority of New York/New Jersey NY/NJ   \n",
       "6                       7                              Philadelphia PA   \n",
       "7                       8                                    Mobile AL   \n",
       "8                       9                                Charleston SC   \n",
       "9                      10                                  Savannah GA   \n",
       "\n",
       "   latitude  longitude  sku_count  \n",
       "0   35.1174   -89.9711       3890  \n",
       "1   41.8369   -87.6847       3928  \n",
       "2   29.7604   -95.3698       3643  \n",
       "3   34.0500  -118.2500       2761  \n",
       "4   29.9500   -90.0667       2112  \n",
       "5   40.6340   -73.7834       2572  \n",
       "6   39.9500   -75.1667       2669  \n",
       "7   30.6944   -88.0431       2919  \n",
       "8   32.7833   -79.9333       2719  \n",
       "9   32.0167   -81.1167       1881  "
      ]
     },
     "execution_count": 21,
     "metadata": {},
     "output_type": "execute_result"
    }
   ],
   "source": [
    "# Merge SKU count with distribution centers data\n",
    "distribution_centers_with_sku_count = pd.merge(distribution_centers, sku_count_per_center, on='distribution_center_id', how='left')\n",
    "distribution_centers_with_sku_count"
   ]
  },
  {
   "cell_type": "code",
   "execution_count": 27,
   "metadata": {},
   "outputs": [
    {
     "data": {
      "application/vnd.plotly.v1+json": {
       "config": {
        "plotlyServerURL": "https://plot.ly"
       },
       "data": [
        {
         "lat": [
          35.1174,
          41.8369,
          29.7604,
          34.05,
          29.95,
          40.634,
          39.95,
          30.6944,
          32.7833,
          32.0167
         ],
         "locationmode": "USA-states",
         "lon": [
          -89.9711,
          -87.6847,
          -95.3698,
          -118.25,
          -90.0667,
          -73.7834,
          -75.1667,
          -88.0431,
          -79.9333,
          -81.1167
         ],
         "marker": {
          "cmax": 3928,
          "cmin": 1881,
          "color": [
           3890,
           3928,
           3643,
           2761,
           2112,
           2572,
           2669,
           2919,
           2719,
           1881
          ],
          "colorbar": {
           "title": {
            "text": "Number of SKU"
           }
          },
          "colorscale": [
           [
            0,
            "rgb(247,251,255)"
           ],
           [
            0.125,
            "rgb(222,235,247)"
           ],
           [
            0.25,
            "rgb(198,219,239)"
           ],
           [
            0.375,
            "rgb(158,202,225)"
           ],
           [
            0.5,
            "rgb(107,174,214)"
           ],
           [
            0.625,
            "rgb(66,146,198)"
           ],
           [
            0.75,
            "rgb(33,113,181)"
           ],
           [
            0.875,
            "rgb(8,81,156)"
           ],
           [
            1,
            "rgb(8,48,107)"
           ]
          ],
          "size": [
           3890,
           3928,
           3643,
           2761,
           2112,
           2572,
           2669,
           2919,
           2719,
           1881
          ],
          "sizemode": "diameter",
          "sizeref": 100
         },
         "mode": "markers",
         "text": [
          [
           "Memphis TN",
           3890
          ],
          [
           "Chicago IL",
           3928
          ],
          [
           "Houston TX",
           3643
          ],
          [
           "Los Angeles CA",
           2761
          ],
          [
           "New Orleans LA",
           2112
          ],
          [
           "Port Authority of New York/New Jersey NY/NJ",
           2572
          ],
          [
           "Philadelphia PA",
           2669
          ],
          [
           "Mobile AL",
           2919
          ],
          [
           "Charleston SC",
           2719
          ],
          [
           "Savannah GA",
           1881
          ]
         ],
         "type": "scattergeo"
        }
       ],
       "layout": {
        "geo": {
         "scope": "usa"
        },
        "height": 650,
        "template": {
         "data": {
          "bar": [
           {
            "error_x": {
             "color": "#2a3f5f"
            },
            "error_y": {
             "color": "#2a3f5f"
            },
            "marker": {
             "line": {
              "color": "#E5ECF6",
              "width": 0.5
             },
             "pattern": {
              "fillmode": "overlay",
              "size": 10,
              "solidity": 0.2
             }
            },
            "type": "bar"
           }
          ],
          "barpolar": [
           {
            "marker": {
             "line": {
              "color": "#E5ECF6",
              "width": 0.5
             },
             "pattern": {
              "fillmode": "overlay",
              "size": 10,
              "solidity": 0.2
             }
            },
            "type": "barpolar"
           }
          ],
          "carpet": [
           {
            "aaxis": {
             "endlinecolor": "#2a3f5f",
             "gridcolor": "white",
             "linecolor": "white",
             "minorgridcolor": "white",
             "startlinecolor": "#2a3f5f"
            },
            "baxis": {
             "endlinecolor": "#2a3f5f",
             "gridcolor": "white",
             "linecolor": "white",
             "minorgridcolor": "white",
             "startlinecolor": "#2a3f5f"
            },
            "type": "carpet"
           }
          ],
          "choropleth": [
           {
            "colorbar": {
             "outlinewidth": 0,
             "ticks": ""
            },
            "type": "choropleth"
           }
          ],
          "contour": [
           {
            "colorbar": {
             "outlinewidth": 0,
             "ticks": ""
            },
            "colorscale": [
             [
              0,
              "#0d0887"
             ],
             [
              0.1111111111111111,
              "#46039f"
             ],
             [
              0.2222222222222222,
              "#7201a8"
             ],
             [
              0.3333333333333333,
              "#9c179e"
             ],
             [
              0.4444444444444444,
              "#bd3786"
             ],
             [
              0.5555555555555556,
              "#d8576b"
             ],
             [
              0.6666666666666666,
              "#ed7953"
             ],
             [
              0.7777777777777778,
              "#fb9f3a"
             ],
             [
              0.8888888888888888,
              "#fdca26"
             ],
             [
              1,
              "#f0f921"
             ]
            ],
            "type": "contour"
           }
          ],
          "contourcarpet": [
           {
            "colorbar": {
             "outlinewidth": 0,
             "ticks": ""
            },
            "type": "contourcarpet"
           }
          ],
          "heatmap": [
           {
            "colorbar": {
             "outlinewidth": 0,
             "ticks": ""
            },
            "colorscale": [
             [
              0,
              "#0d0887"
             ],
             [
              0.1111111111111111,
              "#46039f"
             ],
             [
              0.2222222222222222,
              "#7201a8"
             ],
             [
              0.3333333333333333,
              "#9c179e"
             ],
             [
              0.4444444444444444,
              "#bd3786"
             ],
             [
              0.5555555555555556,
              "#d8576b"
             ],
             [
              0.6666666666666666,
              "#ed7953"
             ],
             [
              0.7777777777777778,
              "#fb9f3a"
             ],
             [
              0.8888888888888888,
              "#fdca26"
             ],
             [
              1,
              "#f0f921"
             ]
            ],
            "type": "heatmap"
           }
          ],
          "heatmapgl": [
           {
            "colorbar": {
             "outlinewidth": 0,
             "ticks": ""
            },
            "colorscale": [
             [
              0,
              "#0d0887"
             ],
             [
              0.1111111111111111,
              "#46039f"
             ],
             [
              0.2222222222222222,
              "#7201a8"
             ],
             [
              0.3333333333333333,
              "#9c179e"
             ],
             [
              0.4444444444444444,
              "#bd3786"
             ],
             [
              0.5555555555555556,
              "#d8576b"
             ],
             [
              0.6666666666666666,
              "#ed7953"
             ],
             [
              0.7777777777777778,
              "#fb9f3a"
             ],
             [
              0.8888888888888888,
              "#fdca26"
             ],
             [
              1,
              "#f0f921"
             ]
            ],
            "type": "heatmapgl"
           }
          ],
          "histogram": [
           {
            "marker": {
             "pattern": {
              "fillmode": "overlay",
              "size": 10,
              "solidity": 0.2
             }
            },
            "type": "histogram"
           }
          ],
          "histogram2d": [
           {
            "colorbar": {
             "outlinewidth": 0,
             "ticks": ""
            },
            "colorscale": [
             [
              0,
              "#0d0887"
             ],
             [
              0.1111111111111111,
              "#46039f"
             ],
             [
              0.2222222222222222,
              "#7201a8"
             ],
             [
              0.3333333333333333,
              "#9c179e"
             ],
             [
              0.4444444444444444,
              "#bd3786"
             ],
             [
              0.5555555555555556,
              "#d8576b"
             ],
             [
              0.6666666666666666,
              "#ed7953"
             ],
             [
              0.7777777777777778,
              "#fb9f3a"
             ],
             [
              0.8888888888888888,
              "#fdca26"
             ],
             [
              1,
              "#f0f921"
             ]
            ],
            "type": "histogram2d"
           }
          ],
          "histogram2dcontour": [
           {
            "colorbar": {
             "outlinewidth": 0,
             "ticks": ""
            },
            "colorscale": [
             [
              0,
              "#0d0887"
             ],
             [
              0.1111111111111111,
              "#46039f"
             ],
             [
              0.2222222222222222,
              "#7201a8"
             ],
             [
              0.3333333333333333,
              "#9c179e"
             ],
             [
              0.4444444444444444,
              "#bd3786"
             ],
             [
              0.5555555555555556,
              "#d8576b"
             ],
             [
              0.6666666666666666,
              "#ed7953"
             ],
             [
              0.7777777777777778,
              "#fb9f3a"
             ],
             [
              0.8888888888888888,
              "#fdca26"
             ],
             [
              1,
              "#f0f921"
             ]
            ],
            "type": "histogram2dcontour"
           }
          ],
          "mesh3d": [
           {
            "colorbar": {
             "outlinewidth": 0,
             "ticks": ""
            },
            "type": "mesh3d"
           }
          ],
          "parcoords": [
           {
            "line": {
             "colorbar": {
              "outlinewidth": 0,
              "ticks": ""
             }
            },
            "type": "parcoords"
           }
          ],
          "pie": [
           {
            "automargin": true,
            "type": "pie"
           }
          ],
          "scatter": [
           {
            "marker": {
             "colorbar": {
              "outlinewidth": 0,
              "ticks": ""
             }
            },
            "type": "scatter"
           }
          ],
          "scatter3d": [
           {
            "line": {
             "colorbar": {
              "outlinewidth": 0,
              "ticks": ""
             }
            },
            "marker": {
             "colorbar": {
              "outlinewidth": 0,
              "ticks": ""
             }
            },
            "type": "scatter3d"
           }
          ],
          "scattercarpet": [
           {
            "marker": {
             "colorbar": {
              "outlinewidth": 0,
              "ticks": ""
             }
            },
            "type": "scattercarpet"
           }
          ],
          "scattergeo": [
           {
            "marker": {
             "colorbar": {
              "outlinewidth": 0,
              "ticks": ""
             }
            },
            "type": "scattergeo"
           }
          ],
          "scattergl": [
           {
            "marker": {
             "colorbar": {
              "outlinewidth": 0,
              "ticks": ""
             }
            },
            "type": "scattergl"
           }
          ],
          "scattermapbox": [
           {
            "marker": {
             "colorbar": {
              "outlinewidth": 0,
              "ticks": ""
             }
            },
            "type": "scattermapbox"
           }
          ],
          "scatterpolar": [
           {
            "marker": {
             "colorbar": {
              "outlinewidth": 0,
              "ticks": ""
             }
            },
            "type": "scatterpolar"
           }
          ],
          "scatterpolargl": [
           {
            "marker": {
             "colorbar": {
              "outlinewidth": 0,
              "ticks": ""
             }
            },
            "type": "scatterpolargl"
           }
          ],
          "scatterternary": [
           {
            "marker": {
             "colorbar": {
              "outlinewidth": 0,
              "ticks": ""
             }
            },
            "type": "scatterternary"
           }
          ],
          "surface": [
           {
            "colorbar": {
             "outlinewidth": 0,
             "ticks": ""
            },
            "colorscale": [
             [
              0,
              "#0d0887"
             ],
             [
              0.1111111111111111,
              "#46039f"
             ],
             [
              0.2222222222222222,
              "#7201a8"
             ],
             [
              0.3333333333333333,
              "#9c179e"
             ],
             [
              0.4444444444444444,
              "#bd3786"
             ],
             [
              0.5555555555555556,
              "#d8576b"
             ],
             [
              0.6666666666666666,
              "#ed7953"
             ],
             [
              0.7777777777777778,
              "#fb9f3a"
             ],
             [
              0.8888888888888888,
              "#fdca26"
             ],
             [
              1,
              "#f0f921"
             ]
            ],
            "type": "surface"
           }
          ],
          "table": [
           {
            "cells": {
             "fill": {
              "color": "#EBF0F8"
             },
             "line": {
              "color": "white"
             }
            },
            "header": {
             "fill": {
              "color": "#C8D4E3"
             },
             "line": {
              "color": "white"
             }
            },
            "type": "table"
           }
          ]
         },
         "layout": {
          "annotationdefaults": {
           "arrowcolor": "#2a3f5f",
           "arrowhead": 0,
           "arrowwidth": 1
          },
          "autotypenumbers": "strict",
          "coloraxis": {
           "colorbar": {
            "outlinewidth": 0,
            "ticks": ""
           }
          },
          "colorscale": {
           "diverging": [
            [
             0,
             "#8e0152"
            ],
            [
             0.1,
             "#c51b7d"
            ],
            [
             0.2,
             "#de77ae"
            ],
            [
             0.3,
             "#f1b6da"
            ],
            [
             0.4,
             "#fde0ef"
            ],
            [
             0.5,
             "#f7f7f7"
            ],
            [
             0.6,
             "#e6f5d0"
            ],
            [
             0.7,
             "#b8e186"
            ],
            [
             0.8,
             "#7fbc41"
            ],
            [
             0.9,
             "#4d9221"
            ],
            [
             1,
             "#276419"
            ]
           ],
           "sequential": [
            [
             0,
             "#0d0887"
            ],
            [
             0.1111111111111111,
             "#46039f"
            ],
            [
             0.2222222222222222,
             "#7201a8"
            ],
            [
             0.3333333333333333,
             "#9c179e"
            ],
            [
             0.4444444444444444,
             "#bd3786"
            ],
            [
             0.5555555555555556,
             "#d8576b"
            ],
            [
             0.6666666666666666,
             "#ed7953"
            ],
            [
             0.7777777777777778,
             "#fb9f3a"
            ],
            [
             0.8888888888888888,
             "#fdca26"
            ],
            [
             1,
             "#f0f921"
            ]
           ],
           "sequentialminus": [
            [
             0,
             "#0d0887"
            ],
            [
             0.1111111111111111,
             "#46039f"
            ],
            [
             0.2222222222222222,
             "#7201a8"
            ],
            [
             0.3333333333333333,
             "#9c179e"
            ],
            [
             0.4444444444444444,
             "#bd3786"
            ],
            [
             0.5555555555555556,
             "#d8576b"
            ],
            [
             0.6666666666666666,
             "#ed7953"
            ],
            [
             0.7777777777777778,
             "#fb9f3a"
            ],
            [
             0.8888888888888888,
             "#fdca26"
            ],
            [
             1,
             "#f0f921"
            ]
           ]
          },
          "colorway": [
           "#636efa",
           "#EF553B",
           "#00cc96",
           "#ab63fa",
           "#FFA15A",
           "#19d3f3",
           "#FF6692",
           "#B6E880",
           "#FF97FF",
           "#FECB52"
          ],
          "font": {
           "color": "#2a3f5f"
          },
          "geo": {
           "bgcolor": "white",
           "lakecolor": "white",
           "landcolor": "#E5ECF6",
           "showlakes": true,
           "showland": true,
           "subunitcolor": "white"
          },
          "hoverlabel": {
           "align": "left"
          },
          "hovermode": "closest",
          "mapbox": {
           "style": "light"
          },
          "paper_bgcolor": "white",
          "plot_bgcolor": "#E5ECF6",
          "polar": {
           "angularaxis": {
            "gridcolor": "white",
            "linecolor": "white",
            "ticks": ""
           },
           "bgcolor": "#E5ECF6",
           "radialaxis": {
            "gridcolor": "white",
            "linecolor": "white",
            "ticks": ""
           }
          },
          "scene": {
           "xaxis": {
            "backgroundcolor": "#E5ECF6",
            "gridcolor": "white",
            "gridwidth": 2,
            "linecolor": "white",
            "showbackground": true,
            "ticks": "",
            "zerolinecolor": "white"
           },
           "yaxis": {
            "backgroundcolor": "#E5ECF6",
            "gridcolor": "white",
            "gridwidth": 2,
            "linecolor": "white",
            "showbackground": true,
            "ticks": "",
            "zerolinecolor": "white"
           },
           "zaxis": {
            "backgroundcolor": "#E5ECF6",
            "gridcolor": "white",
            "gridwidth": 2,
            "linecolor": "white",
            "showbackground": true,
            "ticks": "",
            "zerolinecolor": "white"
           }
          },
          "shapedefaults": {
           "line": {
            "color": "#2a3f5f"
           }
          },
          "ternary": {
           "aaxis": {
            "gridcolor": "white",
            "linecolor": "white",
            "ticks": ""
           },
           "baxis": {
            "gridcolor": "white",
            "linecolor": "white",
            "ticks": ""
           },
           "bgcolor": "#E5ECF6",
           "caxis": {
            "gridcolor": "white",
            "linecolor": "white",
            "ticks": ""
           }
          },
          "title": {
           "x": 0.05
          },
          "xaxis": {
           "automargin": true,
           "gridcolor": "white",
           "linecolor": "white",
           "ticks": "",
           "title": {
            "standoff": 15
           },
           "zerolinecolor": "white",
           "zerolinewidth": 2
          },
          "yaxis": {
           "automargin": true,
           "gridcolor": "white",
           "linecolor": "white",
           "ticks": "",
           "title": {
            "standoff": 15
           },
           "zerolinecolor": "white",
           "zerolinewidth": 2
          }
         }
        },
        "title": {
         "text": "The Volume of SKU Handled By Distributrion Center"
        }
       }
      }
     },
     "metadata": {},
     "output_type": "display_data"
    }
   ],
   "source": [
    "#Plotting The Scatter Map\n",
    "\n",
    "fig = go.Figure(data=go.Scattergeo(\n",
    "    lon = distribution_centers_with_sku_count['longitude'],\n",
    "    lat = distribution_centers_with_sku_count['latitude'],\n",
    "    text = distribution_centers_with_sku_count[['name', 'sku_count']],\n",
    "    mode = 'markers',\n",
    "    locationmode= 'USA-states',\n",
    "    marker = dict(size=distribution_centers_with_sku_count['sku_count'],\n",
    "                 sizemode = 'diameter',\n",
    "                  sizeref= 100,\n",
    "                 colorscale = 'Blues',\n",
    "                 cmin = distribution_centers_with_sku_count['sku_count'].min(),\n",
    "                 color = distribution_centers_with_sku_count['sku_count'],\n",
    "                 cmax = distribution_centers_with_sku_count['sku_count'].max(),\n",
    "                 colorbar_title = 'Number of SKU'),))\n",
    "        \n",
    "\n",
    "fig.update_layout(title_text = 'The Volume of SKU Handled By Distributrion Center',\n",
    "                  geo_scope = 'usa',\n",
    "                 height = 650,)\n",
    "\n",
    "fig.show()"
   ]
  },
  {
   "cell_type": "code",
   "execution_count": null,
   "metadata": {},
   "outputs": [],
   "source": []
  }
 ],
 "metadata": {
  "kernelspec": {
   "display_name": ".venv",
   "language": "python",
   "name": "python3"
  },
  "language_info": {
   "codemirror_mode": {
    "name": "ipython",
    "version": 3
   },
   "file_extension": ".py",
   "mimetype": "text/x-python",
   "name": "python",
   "nbconvert_exporter": "python",
   "pygments_lexer": "ipython3",
   "version": "3.11.3"
  }
 },
 "nbformat": 4,
 "nbformat_minor": 2
}
